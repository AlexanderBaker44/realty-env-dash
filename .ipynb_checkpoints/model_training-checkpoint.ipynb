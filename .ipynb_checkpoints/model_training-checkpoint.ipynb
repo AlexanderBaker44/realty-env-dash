{
 "cells": [
  {
   "cell_type": "code",
   "execution_count": 120,
   "id": "48da9849-d36e-4c38-be9f-acabc7eb707c",
   "metadata": {},
   "outputs": [],
   "source": [
    "import pandas as pd\n",
    "from prophet import Prophet"
   ]
  },
  {
   "cell_type": "code",
   "execution_count": 121,
   "id": "63aaf99a-5057-4a4c-ab8e-7aaaff7fc2c9",
   "metadata": {},
   "outputs": [
    {
     "data": {
      "text/html": [
       "<div>\n",
       "<style scoped>\n",
       "    .dataframe tbody tr th:only-of-type {\n",
       "        vertical-align: middle;\n",
       "    }\n",
       "\n",
       "    .dataframe tbody tr th {\n",
       "        vertical-align: top;\n",
       "    }\n",
       "\n",
       "    .dataframe thead th {\n",
       "        text-align: right;\n",
       "    }\n",
       "</style>\n",
       "<table border=\"1\" class=\"dataframe\">\n",
       "  <thead>\n",
       "    <tr style=\"text-align: right;\">\n",
       "      <th></th>\n",
       "      <th>Unnamed: 0</th>\n",
       "      <th>MSA/Submarket</th>\n",
       "      <th>2023-08-31</th>\n",
       "      <th>2023-09-30</th>\n",
       "      <th>2023-10-31</th>\n",
       "      <th>2023-11-30</th>\n",
       "      <th>2023-12-31</th>\n",
       "      <th>2024-01-31</th>\n",
       "      <th>2024-02-29</th>\n",
       "      <th>2024-03-31</th>\n",
       "      <th>2024-04-30</th>\n",
       "      <th>2024-05-31</th>\n",
       "      <th>2024-06-30</th>\n",
       "      <th>2024-07-31</th>\n",
       "    </tr>\n",
       "  </thead>\n",
       "  <tbody>\n",
       "    <tr>\n",
       "      <th>0</th>\n",
       "      <td>0</td>\n",
       "      <td>Dallas/Fort Worth Overall_market</td>\n",
       "      <td>1.80</td>\n",
       "      <td>1.79</td>\n",
       "      <td>1.78</td>\n",
       "      <td>1.77</td>\n",
       "      <td>1.77</td>\n",
       "      <td>1.76</td>\n",
       "      <td>1.76</td>\n",
       "      <td>1.76</td>\n",
       "      <td>1.76</td>\n",
       "      <td>1.77</td>\n",
       "      <td>1.77</td>\n",
       "      <td>1.77</td>\n",
       "    </tr>\n",
       "    <tr>\n",
       "      <th>1</th>\n",
       "      <td>1</td>\n",
       "      <td>Bachman Lake/Webb Chapel_market</td>\n",
       "      <td>1.63</td>\n",
       "      <td>1.65</td>\n",
       "      <td>1.66</td>\n",
       "      <td>1.67</td>\n",
       "      <td>1.66</td>\n",
       "      <td>1.69</td>\n",
       "      <td>1.68</td>\n",
       "      <td>1.68</td>\n",
       "      <td>1.68</td>\n",
       "      <td>1.69</td>\n",
       "      <td>1.69</td>\n",
       "      <td>1.69</td>\n",
       "    </tr>\n",
       "    <tr>\n",
       "      <th>2</th>\n",
       "      <td>2</td>\n",
       "      <td>Carrollton North_market</td>\n",
       "      <td>1.84</td>\n",
       "      <td>1.84</td>\n",
       "      <td>1.83</td>\n",
       "      <td>1.83</td>\n",
       "      <td>1.82</td>\n",
       "      <td>1.83</td>\n",
       "      <td>1.83</td>\n",
       "      <td>1.83</td>\n",
       "      <td>1.82</td>\n",
       "      <td>1.82</td>\n",
       "      <td>1.82</td>\n",
       "      <td>1.81</td>\n",
       "    </tr>\n",
       "    <tr>\n",
       "      <th>3</th>\n",
       "      <td>3</td>\n",
       "      <td>Carrollton South_market</td>\n",
       "      <td>1.84</td>\n",
       "      <td>1.84</td>\n",
       "      <td>1.83</td>\n",
       "      <td>1.83</td>\n",
       "      <td>1.82</td>\n",
       "      <td>1.83</td>\n",
       "      <td>1.84</td>\n",
       "      <td>1.82</td>\n",
       "      <td>1.84</td>\n",
       "      <td>1.83</td>\n",
       "      <td>1.83</td>\n",
       "      <td>1.84</td>\n",
       "    </tr>\n",
       "    <tr>\n",
       "      <th>4</th>\n",
       "      <td>4</td>\n",
       "      <td>Central Arlington_market</td>\n",
       "      <td>1.52</td>\n",
       "      <td>1.54</td>\n",
       "      <td>1.52</td>\n",
       "      <td>1.52</td>\n",
       "      <td>1.53</td>\n",
       "      <td>1.54</td>\n",
       "      <td>1.54</td>\n",
       "      <td>1.55</td>\n",
       "      <td>1.54</td>\n",
       "      <td>1.54</td>\n",
       "      <td>1.54</td>\n",
       "      <td>1.54</td>\n",
       "    </tr>\n",
       "  </tbody>\n",
       "</table>\n",
       "</div>"
      ],
      "text/plain": [
       "   Unnamed: 0                     MSA/Submarket  2023-08-31  2023-09-30  \\\n",
       "0           0  Dallas/Fort Worth Overall_market        1.80        1.79   \n",
       "1           1   Bachman Lake/Webb Chapel_market        1.63        1.65   \n",
       "2           2           Carrollton North_market        1.84        1.84   \n",
       "3           3           Carrollton South_market        1.84        1.84   \n",
       "4           4          Central Arlington_market        1.52        1.54   \n",
       "\n",
       "   2023-10-31  2023-11-30  2023-12-31  2024-01-31  2024-02-29  2024-03-31  \\\n",
       "0        1.78        1.77        1.77        1.76        1.76        1.76   \n",
       "1        1.66        1.67        1.66        1.69        1.68        1.68   \n",
       "2        1.83        1.83        1.82        1.83        1.83        1.83   \n",
       "3        1.83        1.83        1.82        1.83        1.84        1.82   \n",
       "4        1.52        1.52        1.53        1.54        1.54        1.55   \n",
       "\n",
       "   2024-04-30  2024-05-31  2024-06-30  2024-07-31  \n",
       "0        1.76        1.77        1.77        1.77  \n",
       "1        1.68        1.69        1.69        1.69  \n",
       "2        1.82        1.82        1.82        1.81  \n",
       "3        1.84        1.83        1.83        1.84  \n",
       "4        1.54        1.54        1.54        1.54  "
      ]
     },
     "execution_count": 121,
     "metadata": {},
     "output_type": "execute_result"
    }
   ],
   "source": [
    "df = pd.read_csv('data/m_and_e_stacked.csv')\n",
    "df.head()"
   ]
  },
  {
   "cell_type": "code",
   "execution_count": 122,
   "id": "40428b5b-d1bd-4db8-b188-228cd552c0e3",
   "metadata": {},
   "outputs": [
    {
     "data": {
      "text/plain": [
       "\"\\nnew_dates = []\\nfor i in df.columns:\\n    dates = i.split('-')\\n    if len(dates)==3:\\n        new_date = f'{dates[0]}-{dates[1]}-01'\\n    else:\\n        new_date = i\\n    new_dates.append(new_date)\\n        \\ndf.columns = new_dates\\ndf\\n\""
      ]
     },
     "execution_count": 122,
     "metadata": {},
     "output_type": "execute_result"
    }
   ],
   "source": [
    "'''\n",
    "new_dates = []\n",
    "for i in df.columns:\n",
    "    dates = i.split('-')\n",
    "    if len(dates)==3:\n",
    "        new_date = f'{dates[0]}-{dates[1]}-01'\n",
    "    else:\n",
    "        new_date = i\n",
    "    new_dates.append(new_date)\n",
    "        \n",
    "df.columns = new_dates\n",
    "df\n",
    "'''"
   ]
  },
  {
   "cell_type": "code",
   "execution_count": 123,
   "id": "09eb8412-f0d4-4925-bbcc-f2adb66e89f1",
   "metadata": {},
   "outputs": [],
   "source": [
    "list_markets = list(set([i.split('_')[0] for i in df['MSA/Submarket']]))"
   ]
  },
  {
   "cell_type": "code",
   "execution_count": 124,
   "id": "c8f0c361-f863-41b5-825d-1c3a03f91f36",
   "metadata": {},
   "outputs": [
    {
     "data": {
      "text/html": [
       "<div>\n",
       "<style scoped>\n",
       "    .dataframe tbody tr th:only-of-type {\n",
       "        vertical-align: middle;\n",
       "    }\n",
       "\n",
       "    .dataframe tbody tr th {\n",
       "        vertical-align: top;\n",
       "    }\n",
       "\n",
       "    .dataframe thead th {\n",
       "        text-align: right;\n",
       "    }\n",
       "</style>\n",
       "<table border=\"1\" class=\"dataframe\">\n",
       "  <thead>\n",
       "    <tr style=\"text-align: right;\">\n",
       "      <th>MSA/Submarket</th>\n",
       "      <th>Dallas/Fort Worth Overall_market</th>\n",
       "      <th>Dallas/Fort Worth Overall_effective</th>\n",
       "    </tr>\n",
       "  </thead>\n",
       "  <tbody>\n",
       "    <tr>\n",
       "      <th>2023-08-31</th>\n",
       "      <td>1.8</td>\n",
       "      <td>1.77</td>\n",
       "    </tr>\n",
       "    <tr>\n",
       "      <th>2023-09-30</th>\n",
       "      <td>1.79</td>\n",
       "      <td>1.77</td>\n",
       "    </tr>\n",
       "    <tr>\n",
       "      <th>2023-10-31</th>\n",
       "      <td>1.78</td>\n",
       "      <td>1.76</td>\n",
       "    </tr>\n",
       "    <tr>\n",
       "      <th>2023-11-30</th>\n",
       "      <td>1.77</td>\n",
       "      <td>1.74</td>\n",
       "    </tr>\n",
       "    <tr>\n",
       "      <th>2023-12-31</th>\n",
       "      <td>1.77</td>\n",
       "      <td>1.74</td>\n",
       "    </tr>\n",
       "    <tr>\n",
       "      <th>2024-01-31</th>\n",
       "      <td>1.76</td>\n",
       "      <td>1.73</td>\n",
       "    </tr>\n",
       "    <tr>\n",
       "      <th>2024-02-29</th>\n",
       "      <td>1.76</td>\n",
       "      <td>1.72</td>\n",
       "    </tr>\n",
       "    <tr>\n",
       "      <th>2024-03-31</th>\n",
       "      <td>1.76</td>\n",
       "      <td>1.72</td>\n",
       "    </tr>\n",
       "    <tr>\n",
       "      <th>2024-04-30</th>\n",
       "      <td>1.76</td>\n",
       "      <td>1.73</td>\n",
       "    </tr>\n",
       "    <tr>\n",
       "      <th>2024-05-31</th>\n",
       "      <td>1.77</td>\n",
       "      <td>1.73</td>\n",
       "    </tr>\n",
       "    <tr>\n",
       "      <th>2024-06-30</th>\n",
       "      <td>1.77</td>\n",
       "      <td>1.73</td>\n",
       "    </tr>\n",
       "    <tr>\n",
       "      <th>2024-07-31</th>\n",
       "      <td>1.77</td>\n",
       "      <td>1.73</td>\n",
       "    </tr>\n",
       "  </tbody>\n",
       "</table>\n",
       "</div>"
      ],
      "text/plain": [
       "MSA/Submarket Dallas/Fort Worth Overall_market  \\\n",
       "2023-08-31                                 1.8   \n",
       "2023-09-30                                1.79   \n",
       "2023-10-31                                1.78   \n",
       "2023-11-30                                1.77   \n",
       "2023-12-31                                1.77   \n",
       "2024-01-31                                1.76   \n",
       "2024-02-29                                1.76   \n",
       "2024-03-31                                1.76   \n",
       "2024-04-30                                1.76   \n",
       "2024-05-31                                1.77   \n",
       "2024-06-30                                1.77   \n",
       "2024-07-31                                1.77   \n",
       "\n",
       "MSA/Submarket Dallas/Fort Worth Overall_effective  \n",
       "2023-08-31                                   1.77  \n",
       "2023-09-30                                   1.77  \n",
       "2023-10-31                                   1.76  \n",
       "2023-11-30                                   1.74  \n",
       "2023-12-31                                   1.74  \n",
       "2024-01-31                                   1.73  \n",
       "2024-02-29                                   1.72  \n",
       "2024-03-31                                   1.72  \n",
       "2024-04-30                                   1.73  \n",
       "2024-05-31                                   1.73  \n",
       "2024-06-30                                   1.73  \n",
       "2024-07-31                                   1.73  "
      ]
     },
     "execution_count": 124,
     "metadata": {},
     "output_type": "execute_result"
    }
   ],
   "source": [
    "market = 'Dallas/Fort Worth Overall'\n",
    "df_filtered = df[df['MSA/Submarket'].str.contains(market)].drop('Unnamed: 0',axis=1)\n",
    "df_filtered.index = df_filtered['MSA/Submarket']\n",
    "transposed_df = df_filtered.T\n",
    "transposed_df.drop('MSA/Submarket',axis=0)"
   ]
  },
  {
   "cell_type": "code",
   "execution_count": 125,
   "id": "8f8566a2-286d-481d-950c-0fd844741f46",
   "metadata": {},
   "outputs": [],
   "source": [
    "transposed_df.columns = ['y','m']\n",
    "transposed_df['ds'] = transposed_df.index\n",
    "transposed_df.drop('MSA/Submarket',axis=0,inplace=True)\n",
    "transposed_df['ds'] = pd.to_datetime(transposed_df['ds'])"
   ]
  },
  {
   "cell_type": "code",
   "execution_count": 126,
   "id": "cd45d2c8-6150-46a1-b307-ee967c925d37",
   "metadata": {},
   "outputs": [
    {
     "name": "stderr",
     "output_type": "stream",
     "text": [
      "02:21:15 - cmdstanpy - INFO - Chain [1] start processing\n",
      "02:21:15 - cmdstanpy - INFO - Chain [1] done processing\n"
     ]
    },
    {
     "data": {
      "text/plain": [
       "<prophet.forecaster.Prophet at 0x1734313c0a0>"
      ]
     },
     "execution_count": 126,
     "metadata": {},
     "output_type": "execute_result"
    }
   ],
   "source": [
    "m1 = Prophet()\n",
    "m1.fit(transposed_df)"
   ]
  },
  {
   "cell_type": "code",
   "execution_count": 127,
   "id": "4e2beb4f-10e7-411b-ac4a-63d558c6e63b",
   "metadata": {},
   "outputs": [
    {
     "name": "stderr",
     "output_type": "stream",
     "text": [
      "C:\\Users\\baker\\Anaconda3\\envs\\realty-env\\lib\\site-packages\\prophet\\forecaster.py:1854: FutureWarning: 'M' is deprecated and will be removed in a future version, please use 'ME' instead.\n",
      "  dates = pd.date_range(\n"
     ]
    },
    {
     "data": {
      "text/html": [
       "<div>\n",
       "<style scoped>\n",
       "    .dataframe tbody tr th:only-of-type {\n",
       "        vertical-align: middle;\n",
       "    }\n",
       "\n",
       "    .dataframe tbody tr th {\n",
       "        vertical-align: top;\n",
       "    }\n",
       "\n",
       "    .dataframe thead th {\n",
       "        text-align: right;\n",
       "    }\n",
       "</style>\n",
       "<table border=\"1\" class=\"dataframe\">\n",
       "  <thead>\n",
       "    <tr style=\"text-align: right;\">\n",
       "      <th></th>\n",
       "      <th>ds</th>\n",
       "      <th>yhat</th>\n",
       "      <th>yhat_lower</th>\n",
       "      <th>yhat_upper</th>\n",
       "    </tr>\n",
       "  </thead>\n",
       "  <tbody>\n",
       "    <tr>\n",
       "      <th>12</th>\n",
       "      <td>2024-08-31</td>\n",
       "      <td>1.774981</td>\n",
       "      <td>1.772023</td>\n",
       "      <td>1.778169</td>\n",
       "    </tr>\n",
       "    <tr>\n",
       "      <th>13</th>\n",
       "      <td>2024-09-30</td>\n",
       "      <td>1.777903</td>\n",
       "      <td>1.771654</td>\n",
       "      <td>1.784829</td>\n",
       "    </tr>\n",
       "    <tr>\n",
       "      <th>14</th>\n",
       "      <td>2024-10-31</td>\n",
       "      <td>1.780924</td>\n",
       "      <td>1.769319</td>\n",
       "      <td>1.794209</td>\n",
       "    </tr>\n",
       "    <tr>\n",
       "      <th>15</th>\n",
       "      <td>2024-11-30</td>\n",
       "      <td>1.783846</td>\n",
       "      <td>1.765750</td>\n",
       "      <td>1.805076</td>\n",
       "    </tr>\n",
       "    <tr>\n",
       "      <th>16</th>\n",
       "      <td>2024-12-31</td>\n",
       "      <td>1.786866</td>\n",
       "      <td>1.760975</td>\n",
       "      <td>1.815938</td>\n",
       "    </tr>\n",
       "  </tbody>\n",
       "</table>\n",
       "</div>"
      ],
      "text/plain": [
       "           ds      yhat  yhat_lower  yhat_upper\n",
       "12 2024-08-31  1.774981    1.772023    1.778169\n",
       "13 2024-09-30  1.777903    1.771654    1.784829\n",
       "14 2024-10-31  1.780924    1.769319    1.794209\n",
       "15 2024-11-30  1.783846    1.765750    1.805076\n",
       "16 2024-12-31  1.786866    1.760975    1.815938"
      ]
     },
     "execution_count": 127,
     "metadata": {},
     "output_type": "execute_result"
    }
   ],
   "source": [
    "future = m1.make_future_dataframe(periods=5,freq='M')\n",
    "forecast_df = m.predict(future)\n",
    "forecast_df[['ds','yhat', 'yhat_lower', 'yhat_upper']].tail()"
   ]
  },
  {
   "cell_type": "code",
   "execution_count": 144,
   "id": "c1d871c9-705f-4c64-b33c-694c04dd8b34",
   "metadata": {},
   "outputs": [
    {
     "data": {
      "text/html": [
       "<div>\n",
       "<style scoped>\n",
       "    .dataframe tbody tr th:only-of-type {\n",
       "        vertical-align: middle;\n",
       "    }\n",
       "\n",
       "    .dataframe tbody tr th {\n",
       "        vertical-align: top;\n",
       "    }\n",
       "\n",
       "    .dataframe thead th {\n",
       "        text-align: right;\n",
       "    }\n",
       "</style>\n",
       "<table border=\"1\" class=\"dataframe\">\n",
       "  <thead>\n",
       "    <tr style=\"text-align: right;\">\n",
       "      <th></th>\n",
       "      <th>m</th>\n",
       "      <th>y</th>\n",
       "      <th>ds</th>\n",
       "    </tr>\n",
       "  </thead>\n",
       "  <tbody>\n",
       "    <tr>\n",
       "      <th>2023-08-31</th>\n",
       "      <td>1.8</td>\n",
       "      <td>1.77</td>\n",
       "      <td>2023-08-31</td>\n",
       "    </tr>\n",
       "    <tr>\n",
       "      <th>2023-09-30</th>\n",
       "      <td>1.79</td>\n",
       "      <td>1.77</td>\n",
       "      <td>2023-09-30</td>\n",
       "    </tr>\n",
       "    <tr>\n",
       "      <th>2023-10-31</th>\n",
       "      <td>1.78</td>\n",
       "      <td>1.76</td>\n",
       "      <td>2023-10-31</td>\n",
       "    </tr>\n",
       "    <tr>\n",
       "      <th>2023-11-30</th>\n",
       "      <td>1.77</td>\n",
       "      <td>1.74</td>\n",
       "      <td>2023-11-30</td>\n",
       "    </tr>\n",
       "    <tr>\n",
       "      <th>2023-12-31</th>\n",
       "      <td>1.77</td>\n",
       "      <td>1.74</td>\n",
       "      <td>2023-12-31</td>\n",
       "    </tr>\n",
       "    <tr>\n",
       "      <th>2024-01-31</th>\n",
       "      <td>1.76</td>\n",
       "      <td>1.73</td>\n",
       "      <td>2024-01-31</td>\n",
       "    </tr>\n",
       "    <tr>\n",
       "      <th>2024-02-29</th>\n",
       "      <td>1.76</td>\n",
       "      <td>1.72</td>\n",
       "      <td>2024-02-29</td>\n",
       "    </tr>\n",
       "    <tr>\n",
       "      <th>2024-03-31</th>\n",
       "      <td>1.76</td>\n",
       "      <td>1.72</td>\n",
       "      <td>2024-03-31</td>\n",
       "    </tr>\n",
       "    <tr>\n",
       "      <th>2024-04-30</th>\n",
       "      <td>1.76</td>\n",
       "      <td>1.73</td>\n",
       "      <td>2024-04-30</td>\n",
       "    </tr>\n",
       "    <tr>\n",
       "      <th>2024-05-31</th>\n",
       "      <td>1.77</td>\n",
       "      <td>1.73</td>\n",
       "      <td>2024-05-31</td>\n",
       "    </tr>\n",
       "    <tr>\n",
       "      <th>2024-06-30</th>\n",
       "      <td>1.77</td>\n",
       "      <td>1.73</td>\n",
       "      <td>2024-06-30</td>\n",
       "    </tr>\n",
       "    <tr>\n",
       "      <th>2024-07-31</th>\n",
       "      <td>1.77</td>\n",
       "      <td>1.73</td>\n",
       "      <td>2024-07-31</td>\n",
       "    </tr>\n",
       "  </tbody>\n",
       "</table>\n",
       "</div>"
      ],
      "text/plain": [
       "               m     y         ds\n",
       "2023-08-31   1.8  1.77 2023-08-31\n",
       "2023-09-30  1.79  1.77 2023-09-30\n",
       "2023-10-31  1.78  1.76 2023-10-31\n",
       "2023-11-30  1.77  1.74 2023-11-30\n",
       "2023-12-31  1.77  1.74 2023-12-31\n",
       "2024-01-31  1.76  1.73 2024-01-31\n",
       "2024-02-29  1.76  1.72 2024-02-29\n",
       "2024-03-31  1.76  1.72 2024-03-31\n",
       "2024-04-30  1.76  1.73 2024-04-30\n",
       "2024-05-31  1.77  1.73 2024-05-31\n",
       "2024-06-30  1.77  1.73 2024-06-30\n",
       "2024-07-31  1.77  1.73 2024-07-31"
      ]
     },
     "execution_count": 144,
     "metadata": {},
     "output_type": "execute_result"
    }
   ],
   "source": [
    "transposed_df.columns = ['m','y','ds']\n",
    "transposed_df"
   ]
  },
  {
   "cell_type": "code",
   "execution_count": 145,
   "id": "c0e7ade3-b98f-4aef-b60b-b953e3127cd2",
   "metadata": {},
   "outputs": [
    {
     "name": "stderr",
     "output_type": "stream",
     "text": [
      "02:22:32 - cmdstanpy - INFO - Chain [1] start processing\n",
      "02:22:32 - cmdstanpy - INFO - Chain [1] done processing\n"
     ]
    },
    {
     "data": {
      "text/plain": [
       "<prophet.forecaster.Prophet at 0x173445c1910>"
      ]
     },
     "execution_count": 145,
     "metadata": {},
     "output_type": "execute_result"
    }
   ],
   "source": [
    "m2 = Prophet()\n",
    "m2.add_regressor('m')\n",
    "m2.fit(transposed_df)"
   ]
  },
  {
   "cell_type": "code",
   "execution_count": 146,
   "id": "2b19fb18-bd04-479f-b77e-eea10eebc517",
   "metadata": {},
   "outputs": [
    {
     "name": "stderr",
     "output_type": "stream",
     "text": [
      "C:\\Users\\baker\\Anaconda3\\envs\\realty-env\\lib\\site-packages\\prophet\\forecaster.py:1854: FutureWarning: 'M' is deprecated and will be removed in a future version, please use 'ME' instead.\n",
      "  dates = pd.date_range(\n"
     ]
    }
   ],
   "source": [
    "future = m2.make_future_dataframe(periods=5,freq='M')\n",
    "future['m'] = forecast['yhat']"
   ]
  },
  {
   "cell_type": "code",
   "execution_count": 147,
   "id": "eaeaebcf-16af-4349-9226-dfed85820394",
   "metadata": {},
   "outputs": [],
   "source": [
    "future_preds = m.predict(future)"
   ]
  },
  {
   "cell_type": "code",
   "execution_count": 148,
   "id": "577a40a1-1274-4474-a19a-ccaff6b222d1",
   "metadata": {},
   "outputs": [
    {
     "data": {
      "text/html": [
       "<div>\n",
       "<style scoped>\n",
       "    .dataframe tbody tr th:only-of-type {\n",
       "        vertical-align: middle;\n",
       "    }\n",
       "\n",
       "    .dataframe tbody tr th {\n",
       "        vertical-align: top;\n",
       "    }\n",
       "\n",
       "    .dataframe thead th {\n",
       "        text-align: right;\n",
       "    }\n",
       "</style>\n",
       "<table border=\"1\" class=\"dataframe\">\n",
       "  <thead>\n",
       "    <tr style=\"text-align: right;\">\n",
       "      <th></th>\n",
       "      <th>ds</th>\n",
       "      <th>m</th>\n",
       "      <th>yhat</th>\n",
       "      <th>yhat_lower</th>\n",
       "      <th>yhat_upper</th>\n",
       "    </tr>\n",
       "  </thead>\n",
       "  <tbody>\n",
       "    <tr>\n",
       "      <th>12</th>\n",
       "      <td>2024-08-31</td>\n",
       "      <td>2.044674e-18</td>\n",
       "      <td>1.73</td>\n",
       "      <td>1.724068</td>\n",
       "      <td>1.736785</td>\n",
       "    </tr>\n",
       "    <tr>\n",
       "      <th>13</th>\n",
       "      <td>2024-09-30</td>\n",
       "      <td>2.553509e-18</td>\n",
       "      <td>1.73</td>\n",
       "      <td>1.709865</td>\n",
       "      <td>1.752792</td>\n",
       "    </tr>\n",
       "    <tr>\n",
       "      <th>14</th>\n",
       "      <td>2024-10-31</td>\n",
       "      <td>3.062344e-18</td>\n",
       "      <td>1.73</td>\n",
       "      <td>1.690781</td>\n",
       "      <td>1.776860</td>\n",
       "    </tr>\n",
       "    <tr>\n",
       "      <th>15</th>\n",
       "      <td>2024-11-30</td>\n",
       "      <td>3.571179e-18</td>\n",
       "      <td>1.73</td>\n",
       "      <td>1.663626</td>\n",
       "      <td>1.800774</td>\n",
       "    </tr>\n",
       "    <tr>\n",
       "      <th>16</th>\n",
       "      <td>2024-12-31</td>\n",
       "      <td>4.080015e-18</td>\n",
       "      <td>1.73</td>\n",
       "      <td>1.633166</td>\n",
       "      <td>1.828944</td>\n",
       "    </tr>\n",
       "  </tbody>\n",
       "</table>\n",
       "</div>"
      ],
      "text/plain": [
       "           ds             m  yhat  yhat_lower  yhat_upper\n",
       "12 2024-08-31  2.044674e-18  1.73    1.724068    1.736785\n",
       "13 2024-09-30  2.553509e-18  1.73    1.709865    1.752792\n",
       "14 2024-10-31  3.062344e-18  1.73    1.690781    1.776860\n",
       "15 2024-11-30  3.571179e-18  1.73    1.663626    1.800774\n",
       "16 2024-12-31  4.080015e-18  1.73    1.633166    1.828944"
      ]
     },
     "execution_count": 148,
     "metadata": {},
     "output_type": "execute_result"
    }
   ],
   "source": [
    "future_preds[['ds','m','yhat', 'yhat_lower', 'yhat_upper']].tail()"
   ]
  },
  {
   "cell_type": "code",
   "execution_count": null,
   "id": "67f8f67e-d5cb-462f-8278-339edfdab8c8",
   "metadata": {},
   "outputs": [],
   "source": []
  },
  {
   "cell_type": "code",
   "execution_count": 156,
   "id": "210a825a-5cd6-458e-979c-1da9acac3942",
   "metadata": {},
   "outputs": [
    {
     "name": "stderr",
     "output_type": "stream",
     "text": [
      "02:33:27 - cmdstanpy - INFO - Chain [1] start processing\n",
      "02:33:27 - cmdstanpy - INFO - Chain [1] done processing\n",
      "C:\\Users\\baker\\Anaconda3\\envs\\realty-env\\lib\\site-packages\\prophet\\forecaster.py:1854: FutureWarning: 'M' is deprecated and will be removed in a future version, please use 'ME' instead.\n",
      "  dates = pd.date_range(\n",
      "02:33:27 - cmdstanpy - INFO - Chain [1] start processing\n",
      "02:33:27 - cmdstanpy - INFO - Chain [1] done processing\n",
      "C:\\Users\\baker\\Anaconda3\\envs\\realty-env\\lib\\site-packages\\prophet\\forecaster.py:1854: FutureWarning: 'M' is deprecated and will be removed in a future version, please use 'ME' instead.\n",
      "  dates = pd.date_range(\n"
     ]
    },
    {
     "name": "stdout",
     "output_type": "stream",
     "text": [
      "           ds      yhat  yhat_lower  yhat_upper\n",
      "12 2024-08-31  1.809294    1.805028    1.813554\n",
      "13 2024-09-30  1.806015    1.794302    1.819031\n",
      "14 2024-10-31  1.802626    1.779914    1.826995\n",
      "15 2024-11-30  1.799347    1.763187    1.837145\n",
      "16 2024-12-31  1.795958    1.743560    1.847487\n",
      "           ds             m  yhat  yhat_lower  yhat_upper\n",
      "12 2024-08-31  2.044674e-18  1.73    1.723223    1.737056\n",
      "13 2024-09-30  2.553509e-18  1.73    1.707979    1.750806\n",
      "14 2024-10-31  3.062344e-18  1.73    1.687418    1.770128\n",
      "15 2024-11-30  3.571179e-18  1.73    1.661300    1.792781\n",
      "16 2024-12-31  4.080015e-18  1.73    1.631945    1.817582\n"
     ]
    },
    {
     "name": "stderr",
     "output_type": "stream",
     "text": [
      "02:33:27 - cmdstanpy - INFO - Chain [1] start processing\n",
      "02:33:27 - cmdstanpy - INFO - Chain [1] done processing\n",
      "C:\\Users\\baker\\Anaconda3\\envs\\realty-env\\lib\\site-packages\\prophet\\forecaster.py:1854: FutureWarning: 'M' is deprecated and will be removed in a future version, please use 'ME' instead.\n",
      "  dates = pd.date_range(\n",
      "02:33:28 - cmdstanpy - INFO - Chain [1] start processing\n"
     ]
    },
    {
     "name": "stdout",
     "output_type": "stream",
     "text": [
      "           ds      yhat  yhat_lower  yhat_upper\n",
      "12 2024-08-31  1.782942    1.775712    1.789533\n",
      "13 2024-09-30  1.783431    1.771753    1.794727\n",
      "14 2024-10-31  1.783937    1.765454    1.802702\n",
      "15 2024-11-30  1.784427    1.754802    1.812745\n",
      "16 2024-12-31  1.784932    1.742492    1.824917\n"
     ]
    },
    {
     "name": "stderr",
     "output_type": "stream",
     "text": [
      "02:33:28 - cmdstanpy - INFO - Chain [1] done processing\n",
      "C:\\Users\\baker\\Anaconda3\\envs\\realty-env\\lib\\site-packages\\prophet\\forecaster.py:1854: FutureWarning: 'M' is deprecated and will be removed in a future version, please use 'ME' instead.\n",
      "  dates = pd.date_range(\n",
      "02:33:28 - cmdstanpy - INFO - Chain [1] start processing\n",
      "02:33:28 - cmdstanpy - INFO - Chain [1] done processing\n",
      "C:\\Users\\baker\\Anaconda3\\envs\\realty-env\\lib\\site-packages\\prophet\\forecaster.py:1854: FutureWarning: 'M' is deprecated and will be removed in a future version, please use 'ME' instead.\n",
      "  dates = pd.date_range(\n"
     ]
    },
    {
     "name": "stdout",
     "output_type": "stream",
     "text": [
      "           ds             m  yhat  yhat_lower  yhat_upper\n",
      "12 2024-08-31  2.044674e-18  1.73    1.724227    1.737238\n",
      "13 2024-09-30  2.553509e-18  1.73    1.710971    1.752756\n",
      "14 2024-10-31  3.062344e-18  1.73    1.692025    1.774526\n",
      "15 2024-11-30  3.571179e-18  1.73    1.668405    1.797263\n",
      "16 2024-12-31  4.080015e-18  1.73    1.642320    1.824544\n",
      "           ds      yhat  yhat_lower  yhat_upper\n",
      "12 2024-08-31  1.585494    1.577415    1.593395\n",
      "13 2024-09-30  1.591578    1.565189    1.616819\n",
      "14 2024-10-31  1.597864    1.550248    1.645751\n",
      "15 2024-11-30  1.603948    1.529419    1.675582\n",
      "16 2024-12-31  1.610235    1.505277    1.714302\n"
     ]
    },
    {
     "name": "stderr",
     "output_type": "stream",
     "text": [
      "02:33:28 - cmdstanpy - INFO - Chain [1] start processing\n",
      "02:33:28 - cmdstanpy - INFO - Chain [1] done processing\n",
      "C:\\Users\\baker\\Anaconda3\\envs\\realty-env\\lib\\site-packages\\prophet\\forecaster.py:1854: FutureWarning: 'M' is deprecated and will be removed in a future version, please use 'ME' instead.\n",
      "  dates = pd.date_range(\n",
      "02:33:29 - cmdstanpy - INFO - Chain [1] start processing\n",
      "02:33:29 - cmdstanpy - INFO - Chain [1] done processing\n",
      "C:\\Users\\baker\\Anaconda3\\envs\\realty-env\\lib\\site-packages\\prophet\\forecaster.py:1854: FutureWarning: 'M' is deprecated and will be removed in a future version, please use 'ME' instead.\n",
      "  dates = pd.date_range(\n"
     ]
    },
    {
     "name": "stdout",
     "output_type": "stream",
     "text": [
      "           ds             m  yhat  yhat_lower  yhat_upper\n",
      "12 2024-08-31  2.044674e-18  1.73    1.723351    1.736015\n",
      "13 2024-09-30  2.553509e-18  1.73    1.707603    1.750918\n",
      "14 2024-10-31  3.062344e-18  1.73    1.686473    1.770669\n",
      "15 2024-11-30  3.571179e-18  1.73    1.661363    1.793580\n",
      "16 2024-12-31  4.080015e-18  1.73    1.633365    1.823640\n",
      "           ds      yhat  yhat_lower  yhat_upper\n",
      "12 2024-08-31  2.692893    2.683181    2.703438\n",
      "13 2024-09-30  2.717401    2.704449    2.731599\n",
      "14 2024-10-31  2.742725    2.721615    2.766311\n",
      "15 2024-11-30  2.767232    2.735862    2.802253\n",
      "16 2024-12-31  2.792556    2.747477    2.842050\n"
     ]
    },
    {
     "name": "stderr",
     "output_type": "stream",
     "text": [
      "02:33:29 - cmdstanpy - INFO - Chain [1] start processing\n",
      "02:33:29 - cmdstanpy - INFO - Chain [1] done processing\n",
      "C:\\Users\\baker\\Anaconda3\\envs\\realty-env\\lib\\site-packages\\prophet\\forecaster.py:1854: FutureWarning: 'M' is deprecated and will be removed in a future version, please use 'ME' instead.\n",
      "  dates = pd.date_range(\n",
      "02:33:29 - cmdstanpy - INFO - Chain [1] start processing\n",
      "02:33:29 - cmdstanpy - INFO - Chain [1] done processing\n",
      "C:\\Users\\baker\\Anaconda3\\envs\\realty-env\\lib\\site-packages\\prophet\\forecaster.py:1854: FutureWarning: 'M' is deprecated and will be removed in a future version, please use 'ME' instead.\n",
      "  dates = pd.date_range(\n"
     ]
    },
    {
     "name": "stdout",
     "output_type": "stream",
     "text": [
      "           ds             m  yhat  yhat_lower  yhat_upper\n",
      "12 2024-08-31  2.044674e-18  1.73    1.722679    1.736226\n",
      "13 2024-09-30  2.553509e-18  1.73    1.707088    1.748842\n",
      "14 2024-10-31  3.062344e-18  1.73    1.686586    1.768179\n",
      "15 2024-11-30  3.571179e-18  1.73    1.659178    1.793313\n",
      "16 2024-12-31  4.080015e-18  1.73    1.629135    1.819447\n",
      "           ds      yhat  yhat_lower  yhat_upper\n",
      "12 2024-08-31  1.784830    1.781203    1.788821\n",
      "13 2024-09-30  1.790567    1.779259    1.801633\n",
      "14 2024-10-31  1.796495    1.776311    1.817943\n",
      "15 2024-11-30  1.802233    1.770351    1.836205\n",
      "16 2024-12-31  1.808161    1.762958    1.856888\n"
     ]
    },
    {
     "name": "stderr",
     "output_type": "stream",
     "text": [
      "02:33:29 - cmdstanpy - INFO - Chain [1] start processing\n",
      "02:33:29 - cmdstanpy - INFO - Chain [1] done processing\n",
      "C:\\Users\\baker\\Anaconda3\\envs\\realty-env\\lib\\site-packages\\prophet\\forecaster.py:1854: FutureWarning: 'M' is deprecated and will be removed in a future version, please use 'ME' instead.\n",
      "  dates = pd.date_range(\n",
      "02:33:29 - cmdstanpy - INFO - Chain [1] start processing\n",
      "02:33:29 - cmdstanpy - INFO - Chain [1] done processing\n",
      "C:\\Users\\baker\\Anaconda3\\envs\\realty-env\\lib\\site-packages\\prophet\\forecaster.py:1854: FutureWarning: 'M' is deprecated and will be removed in a future version, please use 'ME' instead.\n",
      "  dates = pd.date_range(\n"
     ]
    },
    {
     "name": "stdout",
     "output_type": "stream",
     "text": [
      "           ds             m  yhat  yhat_lower  yhat_upper\n",
      "12 2024-08-31  2.044674e-18  1.73    1.723383    1.736996\n",
      "13 2024-09-30  2.553509e-18  1.73    1.707808    1.751494\n",
      "14 2024-10-31  3.062344e-18  1.73    1.688095    1.772190\n",
      "15 2024-11-30  3.571179e-18  1.73    1.662680    1.799224\n",
      "16 2024-12-31  4.080015e-18  1.73    1.636046    1.827948\n",
      "           ds      yhat  yhat_lower  yhat_upper\n",
      "12 2024-08-31  1.565421    1.558003    1.572480\n",
      "13 2024-09-30  1.561748    1.538660    1.584556\n",
      "14 2024-10-31  1.557952    1.515975    1.603020\n",
      "15 2024-11-30  1.554279    1.484940    1.626474\n",
      "16 2024-12-31  1.550483    1.452605    1.656368\n"
     ]
    },
    {
     "name": "stderr",
     "output_type": "stream",
     "text": [
      "02:33:30 - cmdstanpy - INFO - Chain [1] start processing\n",
      "02:33:30 - cmdstanpy - INFO - Chain [1] done processing\n",
      "C:\\Users\\baker\\Anaconda3\\envs\\realty-env\\lib\\site-packages\\prophet\\forecaster.py:1854: FutureWarning: 'M' is deprecated and will be removed in a future version, please use 'ME' instead.\n",
      "  dates = pd.date_range(\n",
      "02:33:30 - cmdstanpy - INFO - Chain [1] start processing\n",
      "02:33:30 - cmdstanpy - INFO - Chain [1] done processing\n",
      "C:\\Users\\baker\\Anaconda3\\envs\\realty-env\\lib\\site-packages\\prophet\\forecaster.py:1854: FutureWarning: 'M' is deprecated and will be removed in a future version, please use 'ME' instead.\n",
      "  dates = pd.date_range(\n"
     ]
    },
    {
     "name": "stdout",
     "output_type": "stream",
     "text": [
      "           ds             m  yhat  yhat_lower  yhat_upper\n",
      "12 2024-08-31  2.044674e-18  1.73    1.722832    1.736145\n",
      "13 2024-09-30  2.553509e-18  1.73    1.706553    1.750033\n",
      "14 2024-10-31  3.062344e-18  1.73    1.685498    1.769514\n",
      "15 2024-11-30  3.571179e-18  1.73    1.659454    1.795962\n",
      "16 2024-12-31  4.080015e-18  1.73    1.632019    1.824903\n",
      "           ds      yhat  yhat_lower  yhat_upper\n",
      "12 2024-08-31  1.837074    1.829567    1.844364\n",
      "13 2024-09-30  1.838255    1.830627    1.845751\n",
      "14 2024-10-31  1.839474    1.831603    1.847664\n",
      "15 2024-11-30  1.840655    1.831742    1.849670\n",
      "16 2024-12-31  1.841874    1.831037    1.852716\n"
     ]
    },
    {
     "name": "stderr",
     "output_type": "stream",
     "text": [
      "02:33:30 - cmdstanpy - INFO - Chain [1] start processing\n",
      "02:33:30 - cmdstanpy - INFO - Chain [1] done processing\n",
      "C:\\Users\\baker\\Anaconda3\\envs\\realty-env\\lib\\site-packages\\prophet\\forecaster.py:1854: FutureWarning: 'M' is deprecated and will be removed in a future version, please use 'ME' instead.\n",
      "  dates = pd.date_range(\n",
      "02:33:30 - cmdstanpy - INFO - Chain [1] start processing\n",
      "02:33:30 - cmdstanpy - INFO - Chain [1] done processing\n",
      "C:\\Users\\baker\\Anaconda3\\envs\\realty-env\\lib\\site-packages\\prophet\\forecaster.py:1854: FutureWarning: 'M' is deprecated and will be removed in a future version, please use 'ME' instead.\n",
      "  dates = pd.date_range(\n"
     ]
    },
    {
     "name": "stdout",
     "output_type": "stream",
     "text": [
      "           ds             m  yhat  yhat_lower  yhat_upper\n",
      "12 2024-08-31  2.044674e-18  1.73    1.723639    1.737625\n",
      "13 2024-09-30  2.553509e-18  1.73    1.709100    1.753532\n",
      "14 2024-10-31  3.062344e-18  1.73    1.688633    1.774528\n",
      "15 2024-11-30  3.571179e-18  1.73    1.664652    1.796257\n",
      "16 2024-12-31  4.080015e-18  1.73    1.632238    1.827705\n",
      "           ds      yhat  yhat_lower  yhat_upper\n",
      "12 2024-08-31  1.860627    1.850658    1.870605\n",
      "13 2024-09-30  1.860180    1.846582    1.873480\n",
      "14 2024-10-31  1.859719    1.838512    1.881149\n",
      "15 2024-11-30  1.859272    1.828229    1.890675\n",
      "16 2024-12-31  1.858811    1.813652    1.903988\n"
     ]
    },
    {
     "name": "stderr",
     "output_type": "stream",
     "text": [
      "02:33:30 - cmdstanpy - INFO - Chain [1] start processing\n",
      "02:33:31 - cmdstanpy - INFO - Chain [1] done processing\n",
      "C:\\Users\\baker\\Anaconda3\\envs\\realty-env\\lib\\site-packages\\prophet\\forecaster.py:1854: FutureWarning: 'M' is deprecated and will be removed in a future version, please use 'ME' instead.\n",
      "  dates = pd.date_range(\n",
      "02:33:31 - cmdstanpy - INFO - Chain [1] start processing\n",
      "02:33:31 - cmdstanpy - INFO - Chain [1] done processing\n",
      "C:\\Users\\baker\\Anaconda3\\envs\\realty-env\\lib\\site-packages\\prophet\\forecaster.py:1854: FutureWarning: 'M' is deprecated and will be removed in a future version, please use 'ME' instead.\n",
      "  dates = pd.date_range(\n"
     ]
    },
    {
     "name": "stdout",
     "output_type": "stream",
     "text": [
      "           ds             m  yhat  yhat_lower  yhat_upper\n",
      "12 2024-08-31  2.044674e-18  1.73    1.723362    1.736742\n",
      "13 2024-09-30  2.553509e-18  1.73    1.709633    1.752029\n",
      "14 2024-10-31  3.062344e-18  1.73    1.690204    1.771768\n",
      "15 2024-11-30  3.571179e-18  1.73    1.667065    1.797341\n",
      "16 2024-12-31  4.080015e-18  1.73    1.636598    1.821750\n",
      "           ds      yhat  yhat_lower  yhat_upper\n",
      "12 2024-08-31  1.692757    1.685196    1.699874\n",
      "13 2024-09-30  1.694746    1.686912    1.702507\n",
      "14 2024-10-31  1.696801    1.687936    1.706532\n",
      "15 2024-11-30  1.698790    1.687491    1.710471\n",
      "16 2024-12-31  1.700845    1.687013    1.715832\n"
     ]
    },
    {
     "name": "stderr",
     "output_type": "stream",
     "text": [
      "02:33:31 - cmdstanpy - INFO - Chain [1] start processing\n",
      "02:33:31 - cmdstanpy - INFO - Chain [1] done processing\n",
      "C:\\Users\\baker\\Anaconda3\\envs\\realty-env\\lib\\site-packages\\prophet\\forecaster.py:1854: FutureWarning: 'M' is deprecated and will be removed in a future version, please use 'ME' instead.\n",
      "  dates = pd.date_range(\n",
      "02:33:31 - cmdstanpy - INFO - Chain [1] start processing\n",
      "02:33:31 - cmdstanpy - INFO - Chain [1] done processing\n"
     ]
    },
    {
     "name": "stdout",
     "output_type": "stream",
     "text": [
      "           ds             m  yhat  yhat_lower  yhat_upper\n",
      "12 2024-08-31  2.044674e-18  1.73    1.723264    1.736268\n",
      "13 2024-09-30  2.553509e-18  1.73    1.708997    1.749986\n",
      "14 2024-10-31  3.062344e-18  1.73    1.689501    1.768497\n",
      "15 2024-11-30  3.571179e-18  1.73    1.665296    1.792249\n",
      "16 2024-12-31  4.080015e-18  1.73    1.635102    1.818208\n",
      "           ds  yhat  yhat_lower  yhat_upper\n",
      "12 2024-08-31  1.55    1.539000    1.560754\n",
      "13 2024-09-30  1.55    1.515210    1.583721\n",
      "14 2024-10-31  1.55    1.481452    1.619160\n",
      "15 2024-11-30  1.55    1.443375    1.658604\n",
      "16 2024-12-31  1.55    1.401901    1.703198\n"
     ]
    },
    {
     "name": "stderr",
     "output_type": "stream",
     "text": [
      "C:\\Users\\baker\\Anaconda3\\envs\\realty-env\\lib\\site-packages\\prophet\\forecaster.py:1854: FutureWarning: 'M' is deprecated and will be removed in a future version, please use 'ME' instead.\n",
      "  dates = pd.date_range(\n",
      "02:33:31 - cmdstanpy - INFO - Chain [1] start processing\n",
      "02:33:31 - cmdstanpy - INFO - Chain [1] done processing\n",
      "C:\\Users\\baker\\Anaconda3\\envs\\realty-env\\lib\\site-packages\\prophet\\forecaster.py:1854: FutureWarning: 'M' is deprecated and will be removed in a future version, please use 'ME' instead.\n",
      "  dates = pd.date_range(\n",
      "02:33:31 - cmdstanpy - INFO - Chain [1] start processing\n",
      "02:33:32 - cmdstanpy - INFO - Chain [1] done processing\n",
      "C:\\Users\\baker\\Anaconda3\\envs\\realty-env\\lib\\site-packages\\prophet\\forecaster.py:1854: FutureWarning: 'M' is deprecated and will be removed in a future version, please use 'ME' instead.\n",
      "  dates = pd.date_range(\n"
     ]
    },
    {
     "name": "stdout",
     "output_type": "stream",
     "text": [
      "           ds             m  yhat  yhat_lower  yhat_upper\n",
      "12 2024-08-31  2.044674e-18  1.73    1.722945    1.736743\n",
      "13 2024-09-30  2.553509e-18  1.73    1.707071    1.752070\n",
      "14 2024-10-31  3.062344e-18  1.73    1.685425    1.771960\n",
      "15 2024-11-30  3.571179e-18  1.73    1.658166    1.795587\n",
      "16 2024-12-31  4.080015e-18  1.73    1.631254    1.822628\n",
      "           ds      yhat  yhat_lower  yhat_upper\n",
      "12 2024-08-31  1.782942    1.776594    1.789769\n",
      "13 2024-09-30  1.783431    1.772169    1.795142\n",
      "14 2024-10-31  1.783937    1.764411    1.805261\n",
      "15 2024-11-30  1.784427    1.754829    1.815423\n",
      "16 2024-12-31  1.784932    1.743377    1.828621\n"
     ]
    },
    {
     "name": "stderr",
     "output_type": "stream",
     "text": [
      "02:33:32 - cmdstanpy - INFO - Chain [1] start processing\n",
      "02:33:32 - cmdstanpy - INFO - Chain [1] done processing\n",
      "C:\\Users\\baker\\Anaconda3\\envs\\realty-env\\lib\\site-packages\\prophet\\forecaster.py:1854: FutureWarning: 'M' is deprecated and will be removed in a future version, please use 'ME' instead.\n",
      "  dates = pd.date_range(\n",
      "02:33:32 - cmdstanpy - INFO - Chain [1] start processing\n",
      "02:33:32 - cmdstanpy - INFO - Chain [1] done processing\n",
      "C:\\Users\\baker\\Anaconda3\\envs\\realty-env\\lib\\site-packages\\prophet\\forecaster.py:1854: FutureWarning: 'M' is deprecated and will be removed in a future version, please use 'ME' instead.\n",
      "  dates = pd.date_range(\n"
     ]
    },
    {
     "name": "stdout",
     "output_type": "stream",
     "text": [
      "           ds             m  yhat  yhat_lower  yhat_upper\n",
      "12 2024-08-31  2.044674e-18  1.73    1.723402    1.736880\n",
      "13 2024-09-30  2.553509e-18  1.73    1.708905    1.752402\n",
      "14 2024-10-31  3.062344e-18  1.73    1.687397    1.769657\n",
      "15 2024-11-30  3.571179e-18  1.73    1.662538    1.793031\n",
      "16 2024-12-31  4.080015e-18  1.73    1.632661    1.819105\n",
      "           ds      yhat  yhat_lower  yhat_upper\n",
      "12 2024-08-31  1.719476    1.713975    1.725153\n",
      "13 2024-09-30  1.720131    1.707818    1.731398\n",
      "14 2024-10-31  1.720807    1.698811    1.743156\n",
      "15 2024-11-30  1.721462    1.686219    1.754931\n",
      "16 2024-12-31  1.722139    1.670863    1.769463\n"
     ]
    },
    {
     "name": "stderr",
     "output_type": "stream",
     "text": [
      "02:33:32 - cmdstanpy - INFO - Chain [1] start processing\n",
      "02:33:32 - cmdstanpy - INFO - Chain [1] done processing\n",
      "C:\\Users\\baker\\Anaconda3\\envs\\realty-env\\lib\\site-packages\\prophet\\forecaster.py:1854: FutureWarning: 'M' is deprecated and will be removed in a future version, please use 'ME' instead.\n",
      "  dates = pd.date_range(\n",
      "02:33:32 - cmdstanpy - INFO - Chain [1] start processing\n",
      "02:33:32 - cmdstanpy - INFO - Chain [1] done processing\n",
      "C:\\Users\\baker\\Anaconda3\\envs\\realty-env\\lib\\site-packages\\prophet\\forecaster.py:1854: FutureWarning: 'M' is deprecated and will be removed in a future version, please use 'ME' instead.\n",
      "  dates = pd.date_range(\n"
     ]
    },
    {
     "name": "stdout",
     "output_type": "stream",
     "text": [
      "           ds             m  yhat  yhat_lower  yhat_upper\n",
      "12 2024-08-31  2.044674e-18  1.73    1.723684    1.736060\n",
      "13 2024-09-30  2.553509e-18  1.73    1.710779    1.751909\n",
      "14 2024-10-31  3.062344e-18  1.73    1.690984    1.772477\n",
      "15 2024-11-30  3.571179e-18  1.73    1.668235    1.798233\n",
      "16 2024-12-31  4.080015e-18  1.73    1.639603    1.827622\n",
      "           ds      yhat  yhat_lower  yhat_upper\n",
      "12 2024-08-31  1.794899    1.790018    1.800310\n",
      "13 2024-09-30  1.798759    1.784234    1.816099\n",
      "14 2024-10-31  1.802747    1.775093    1.833382\n",
      "15 2024-11-30  1.806606    1.763969    1.852532\n",
      "16 2024-12-31  1.810594    1.748936    1.874808\n"
     ]
    },
    {
     "name": "stderr",
     "output_type": "stream",
     "text": [
      "02:33:33 - cmdstanpy - INFO - Chain [1] start processing\n",
      "02:33:33 - cmdstanpy - INFO - Chain [1] done processing\n",
      "C:\\Users\\baker\\Anaconda3\\envs\\realty-env\\lib\\site-packages\\prophet\\forecaster.py:1854: FutureWarning: 'M' is deprecated and will be removed in a future version, please use 'ME' instead.\n",
      "  dates = pd.date_range(\n",
      "02:33:33 - cmdstanpy - INFO - Chain [1] start processing\n",
      "02:33:33 - cmdstanpy - INFO - Chain [1] done processing\n",
      "C:\\Users\\baker\\Anaconda3\\envs\\realty-env\\lib\\site-packages\\prophet\\forecaster.py:1854: FutureWarning: 'M' is deprecated and will be removed in a future version, please use 'ME' instead.\n",
      "  dates = pd.date_range(\n"
     ]
    },
    {
     "name": "stdout",
     "output_type": "stream",
     "text": [
      "           ds             m  yhat  yhat_lower  yhat_upper\n",
      "12 2024-08-31  2.044674e-18  1.73    1.723221    1.736161\n",
      "13 2024-09-30  2.553509e-18  1.73    1.706993    1.750421\n",
      "14 2024-10-31  3.062344e-18  1.73    1.684081    1.769277\n",
      "15 2024-11-30  3.571179e-18  1.73    1.661582    1.792189\n",
      "16 2024-12-31  4.080015e-18  1.73    1.631318    1.821462\n",
      "           ds      yhat  yhat_lower  yhat_upper\n",
      "12 2024-08-31  1.465460    1.462004    1.469162\n",
      "13 2024-09-30  1.469591    1.459161    1.481000\n",
      "14 2024-10-31  1.473859    1.454845    1.496325\n",
      "15 2024-11-30  1.477989    1.448660    1.512842\n",
      "16 2024-12-31  1.482258    1.441727    1.530556\n"
     ]
    },
    {
     "name": "stderr",
     "output_type": "stream",
     "text": [
      "02:33:33 - cmdstanpy - INFO - Chain [1] start processing\n",
      "02:33:33 - cmdstanpy - INFO - Chain [1] done processing\n",
      "C:\\Users\\baker\\Anaconda3\\envs\\realty-env\\lib\\site-packages\\prophet\\forecaster.py:1854: FutureWarning: 'M' is deprecated and will be removed in a future version, please use 'ME' instead.\n",
      "  dates = pd.date_range(\n",
      "02:33:33 - cmdstanpy - INFO - Chain [1] start processing\n",
      "02:33:33 - cmdstanpy - INFO - Chain [1] done processing\n",
      "C:\\Users\\baker\\Anaconda3\\envs\\realty-env\\lib\\site-packages\\prophet\\forecaster.py:1854: FutureWarning: 'M' is deprecated and will be removed in a future version, please use 'ME' instead.\n",
      "  dates = pd.date_range(\n"
     ]
    },
    {
     "name": "stdout",
     "output_type": "stream",
     "text": [
      "           ds             m  yhat  yhat_lower  yhat_upper\n",
      "12 2024-08-31  2.044674e-18  1.73    1.723507    1.736619\n",
      "13 2024-09-30  2.553509e-18  1.73    1.706502    1.753075\n",
      "14 2024-10-31  3.062344e-18  1.73    1.683657    1.773315\n",
      "15 2024-11-30  3.571179e-18  1.73    1.657294    1.797931\n",
      "16 2024-12-31  4.080015e-18  1.73    1.624332    1.825098\n",
      "           ds      yhat  yhat_lower  yhat_upper\n",
      "12 2024-08-31  1.876848    1.871237    1.882597\n",
      "13 2024-09-30  1.875813    1.867312    1.884501\n",
      "14 2024-10-31  1.874743    1.860003    1.889119\n",
      "15 2024-11-30  1.873708    1.852865    1.894403\n",
      "16 2024-12-31  1.872638    1.842754    1.901578\n"
     ]
    },
    {
     "name": "stderr",
     "output_type": "stream",
     "text": [
      "02:33:33 - cmdstanpy - INFO - Chain [1] start processing\n",
      "02:33:34 - cmdstanpy - INFO - Chain [1] done processing\n",
      "C:\\Users\\baker\\Anaconda3\\envs\\realty-env\\lib\\site-packages\\prophet\\forecaster.py:1854: FutureWarning: 'M' is deprecated and will be removed in a future version, please use 'ME' instead.\n",
      "  dates = pd.date_range(\n",
      "02:33:34 - cmdstanpy - INFO - Chain [1] start processing\n",
      "02:33:34 - cmdstanpy - INFO - Chain [1] done processing\n",
      "C:\\Users\\baker\\Anaconda3\\envs\\realty-env\\lib\\site-packages\\prophet\\forecaster.py:1854: FutureWarning: 'M' is deprecated and will be removed in a future version, please use 'ME' instead.\n",
      "  dates = pd.date_range(\n"
     ]
    },
    {
     "name": "stdout",
     "output_type": "stream",
     "text": [
      "           ds             m  yhat  yhat_lower  yhat_upper\n",
      "12 2024-08-31  2.044674e-18  1.73    1.724377    1.736727\n",
      "13 2024-09-30  2.553509e-18  1.73    1.710226    1.752333\n",
      "14 2024-10-31  3.062344e-18  1.73    1.690521    1.773876\n",
      "15 2024-11-30  3.571179e-18  1.73    1.667105    1.796798\n",
      "16 2024-12-31  4.080015e-18  1.73    1.640128    1.821664\n",
      "           ds      yhat  yhat_lower  yhat_upper\n",
      "12 2024-08-31  1.704979    1.697590    1.711570\n",
      "13 2024-09-30  1.707903    1.684259    1.729085\n",
      "14 2024-10-31  1.710924    1.667067    1.754456\n",
      "15 2024-11-30  1.713847    1.644033    1.784212\n",
      "16 2024-12-31  1.716868    1.615796    1.816396\n"
     ]
    },
    {
     "name": "stderr",
     "output_type": "stream",
     "text": [
      "02:33:34 - cmdstanpy - INFO - Chain [1] start processing\n",
      "02:33:34 - cmdstanpy - INFO - Chain [1] done processing\n",
      "C:\\Users\\baker\\Anaconda3\\envs\\realty-env\\lib\\site-packages\\prophet\\forecaster.py:1854: FutureWarning: 'M' is deprecated and will be removed in a future version, please use 'ME' instead.\n",
      "  dates = pd.date_range(\n",
      "02:33:34 - cmdstanpy - INFO - Chain [1] start processing\n",
      "02:33:34 - cmdstanpy - INFO - Chain [1] done processing\n",
      "C:\\Users\\baker\\Anaconda3\\envs\\realty-env\\lib\\site-packages\\prophet\\forecaster.py:1854: FutureWarning: 'M' is deprecated and will be removed in a future version, please use 'ME' instead.\n",
      "  dates = pd.date_range(\n"
     ]
    },
    {
     "name": "stdout",
     "output_type": "stream",
     "text": [
      "           ds             m  yhat  yhat_lower  yhat_upper\n",
      "12 2024-08-31  2.044674e-18  1.73    1.723290    1.736506\n",
      "13 2024-09-30  2.553509e-18  1.73    1.708664    1.751403\n",
      "14 2024-10-31  3.062344e-18  1.73    1.687231    1.772628\n",
      "15 2024-11-30  3.571179e-18  1.73    1.663755    1.795904\n",
      "16 2024-12-31  4.080015e-18  1.73    1.636123    1.823641\n",
      "           ds      yhat  yhat_lower  yhat_upper\n",
      "12 2024-08-31  1.636444    1.630753    1.641736\n",
      "13 2024-09-30  1.637241    1.629865    1.644599\n",
      "14 2024-10-31  1.638064    1.626868    1.650374\n",
      "15 2024-11-30  1.638861    1.621333    1.657292\n",
      "16 2024-12-31  1.639684    1.613588    1.664319\n"
     ]
    },
    {
     "name": "stderr",
     "output_type": "stream",
     "text": [
      "02:33:34 - cmdstanpy - INFO - Chain [1] start processing\n",
      "02:33:34 - cmdstanpy - INFO - Chain [1] done processing\n",
      "C:\\Users\\baker\\Anaconda3\\envs\\realty-env\\lib\\site-packages\\prophet\\forecaster.py:1854: FutureWarning: 'M' is deprecated and will be removed in a future version, please use 'ME' instead.\n",
      "  dates = pd.date_range(\n",
      "02:33:35 - cmdstanpy - INFO - Chain [1] start processing\n",
      "02:33:35 - cmdstanpy - INFO - Chain [1] done processing\n",
      "C:\\Users\\baker\\Anaconda3\\envs\\realty-env\\lib\\site-packages\\prophet\\forecaster.py:1854: FutureWarning: 'M' is deprecated and will be removed in a future version, please use 'ME' instead.\n",
      "  dates = pd.date_range(\n"
     ]
    },
    {
     "name": "stdout",
     "output_type": "stream",
     "text": [
      "           ds             m  yhat  yhat_lower  yhat_upper\n",
      "12 2024-08-31  2.044674e-18  1.73    1.723348    1.736088\n",
      "13 2024-09-30  2.553509e-18  1.73    1.708333    1.750109\n",
      "14 2024-10-31  3.062344e-18  1.73    1.684681    1.770557\n",
      "15 2024-11-30  3.571179e-18  1.73    1.656730    1.794834\n",
      "16 2024-12-31  4.080015e-18  1.73    1.626344    1.823726\n",
      "           ds      yhat  yhat_lower  yhat_upper\n",
      "12 2024-08-31  2.015051    2.009317    2.021004\n",
      "13 2024-09-30  2.011178    1.993570    2.030662\n",
      "14 2024-10-31  2.007176    1.971970    2.044290\n",
      "15 2024-11-30  2.003303    1.948402    2.064005\n",
      "16 2024-12-31  1.999301    1.922849    2.086576\n"
     ]
    },
    {
     "name": "stderr",
     "output_type": "stream",
     "text": [
      "02:33:35 - cmdstanpy - INFO - Chain [1] start processing\n",
      "02:33:35 - cmdstanpy - INFO - Chain [1] done processing\n",
      "C:\\Users\\baker\\Anaconda3\\envs\\realty-env\\lib\\site-packages\\prophet\\forecaster.py:1854: FutureWarning: 'M' is deprecated and will be removed in a future version, please use 'ME' instead.\n",
      "  dates = pd.date_range(\n",
      "02:33:35 - cmdstanpy - INFO - Chain [1] start processing\n",
      "02:33:35 - cmdstanpy - INFO - Chain [1] done processing\n",
      "C:\\Users\\baker\\Anaconda3\\envs\\realty-env\\lib\\site-packages\\prophet\\forecaster.py:1854: FutureWarning: 'M' is deprecated and will be removed in a future version, please use 'ME' instead.\n",
      "  dates = pd.date_range(\n"
     ]
    },
    {
     "name": "stdout",
     "output_type": "stream",
     "text": [
      "           ds             m  yhat  yhat_lower  yhat_upper\n",
      "12 2024-08-31  2.044674e-18  1.73    1.723519    1.736255\n",
      "13 2024-09-30  2.553509e-18  1.73    1.709748    1.751295\n",
      "14 2024-10-31  3.062344e-18  1.73    1.691496    1.769931\n",
      "15 2024-11-30  3.571179e-18  1.73    1.668182    1.795384\n",
      "16 2024-12-31  4.080015e-18  1.73    1.637841    1.822450\n",
      "           ds      yhat  yhat_lower  yhat_upper\n",
      "12 2024-08-31  1.721939    1.717320    1.726508\n",
      "13 2024-09-30  1.723923    1.715839    1.732146\n",
      "14 2024-10-31  1.725974    1.711594    1.740634\n",
      "15 2024-11-30  1.727959    1.706551    1.751167\n",
      "16 2024-12-31  1.730009    1.697210    1.761128\n"
     ]
    },
    {
     "name": "stderr",
     "output_type": "stream",
     "text": [
      "02:33:35 - cmdstanpy - INFO - Chain [1] start processing\n",
      "02:33:35 - cmdstanpy - INFO - Chain [1] done processing\n",
      "C:\\Users\\baker\\Anaconda3\\envs\\realty-env\\lib\\site-packages\\prophet\\forecaster.py:1854: FutureWarning: 'M' is deprecated and will be removed in a future version, please use 'ME' instead.\n",
      "  dates = pd.date_range(\n",
      "02:33:35 - cmdstanpy - INFO - Chain [1] start processing\n",
      "02:33:35 - cmdstanpy - INFO - Chain [1] done processing\n"
     ]
    },
    {
     "name": "stdout",
     "output_type": "stream",
     "text": [
      "           ds             m  yhat  yhat_lower  yhat_upper\n",
      "12 2024-08-31  2.044674e-18  1.73    1.723224    1.736371\n",
      "13 2024-09-30  2.553509e-18  1.73    1.707998    1.751621\n",
      "14 2024-10-31  3.062344e-18  1.73    1.686875    1.770638\n",
      "15 2024-11-30  3.571179e-18  1.73    1.663306    1.792632\n",
      "16 2024-12-31  4.080015e-18  1.73    1.635891    1.819856\n",
      "           ds      yhat  yhat_lower  yhat_upper\n",
      "12 2024-08-31  1.463224    1.455546    1.470947\n",
      "13 2024-09-30  1.463743    1.450269    1.476457\n",
      "14 2024-10-31  1.464281    1.438617    1.487995\n",
      "15 2024-11-30  1.464800    1.422076    1.502883\n",
      "16 2024-12-31  1.465337    1.406147    1.519821\n"
     ]
    },
    {
     "name": "stderr",
     "output_type": "stream",
     "text": [
      "C:\\Users\\baker\\Anaconda3\\envs\\realty-env\\lib\\site-packages\\prophet\\forecaster.py:1854: FutureWarning: 'M' is deprecated and will be removed in a future version, please use 'ME' instead.\n",
      "  dates = pd.date_range(\n",
      "02:33:36 - cmdstanpy - INFO - Chain [1] start processing\n",
      "02:33:36 - cmdstanpy - INFO - Chain [1] done processing\n",
      "C:\\Users\\baker\\Anaconda3\\envs\\realty-env\\lib\\site-packages\\prophet\\forecaster.py:1854: FutureWarning: 'M' is deprecated and will be removed in a future version, please use 'ME' instead.\n",
      "  dates = pd.date_range(\n",
      "02:33:36 - cmdstanpy - INFO - Chain [1] start processing\n",
      "02:33:36 - cmdstanpy - INFO - Chain [1] done processing\n",
      "C:\\Users\\baker\\Anaconda3\\envs\\realty-env\\lib\\site-packages\\prophet\\forecaster.py:1854: FutureWarning: 'M' is deprecated and will be removed in a future version, please use 'ME' instead.\n",
      "  dates = pd.date_range(\n"
     ]
    },
    {
     "name": "stdout",
     "output_type": "stream",
     "text": [
      "           ds             m  yhat  yhat_lower  yhat_upper\n",
      "12 2024-08-31  2.044674e-18  1.73    1.722442    1.735846\n",
      "13 2024-09-30  2.553509e-18  1.73    1.707104    1.749623\n",
      "14 2024-10-31  3.062344e-18  1.73    1.683844    1.771968\n",
      "15 2024-11-30  3.571179e-18  1.73    1.655525    1.793927\n",
      "16 2024-12-31  4.080015e-18  1.73    1.626910    1.820041\n",
      "           ds      yhat  yhat_lower  yhat_upper\n",
      "12 2024-08-31  1.582422    1.575672    1.589443\n",
      "13 2024-09-30  1.569833    1.561946    1.577410\n",
      "14 2024-10-31  1.556824    1.549197    1.564649\n",
      "15 2024-11-30  1.544235    1.535592    1.552515\n",
      "16 2024-12-31  1.531226    1.521688    1.540637\n"
     ]
    },
    {
     "name": "stderr",
     "output_type": "stream",
     "text": [
      "02:33:36 - cmdstanpy - INFO - Chain [1] start processing\n",
      "02:33:36 - cmdstanpy - INFO - Chain [1] done processing\n",
      "C:\\Users\\baker\\Anaconda3\\envs\\realty-env\\lib\\site-packages\\prophet\\forecaster.py:1854: FutureWarning: 'M' is deprecated and will be removed in a future version, please use 'ME' instead.\n",
      "  dates = pd.date_range(\n",
      "02:33:36 - cmdstanpy - INFO - Chain [1] start processing\n",
      "02:33:36 - cmdstanpy - INFO - Chain [1] done processing\n",
      "C:\\Users\\baker\\Anaconda3\\envs\\realty-env\\lib\\site-packages\\prophet\\forecaster.py:1854: FutureWarning: 'M' is deprecated and will be removed in a future version, please use 'ME' instead.\n",
      "  dates = pd.date_range(\n"
     ]
    },
    {
     "name": "stdout",
     "output_type": "stream",
     "text": [
      "           ds             m  yhat  yhat_lower  yhat_upper\n",
      "12 2024-08-31  2.044674e-18  1.73    1.723966    1.736602\n",
      "13 2024-09-30  2.553509e-18  1.73    1.709996    1.750788\n",
      "14 2024-10-31  3.062344e-18  1.73    1.689913    1.770427\n",
      "15 2024-11-30  3.571179e-18  1.73    1.667008    1.793188\n",
      "16 2024-12-31  4.080015e-18  1.73    1.642816    1.821150\n",
      "           ds      yhat  yhat_lower  yhat_upper\n",
      "12 2024-08-31  1.574955    1.571123    1.578936\n",
      "13 2024-09-30  1.575880    1.567977    1.583657\n",
      "14 2024-10-31  1.576835    1.562687    1.590913\n",
      "15 2024-11-30  1.577760    1.556092    1.598848\n",
      "16 2024-12-31  1.578716    1.548358    1.609762\n"
     ]
    },
    {
     "name": "stderr",
     "output_type": "stream",
     "text": [
      "02:33:36 - cmdstanpy - INFO - Chain [1] start processing\n",
      "02:33:39 - cmdstanpy - INFO - Chain [1] done processing\n",
      "C:\\Users\\baker\\Anaconda3\\envs\\realty-env\\lib\\site-packages\\prophet\\forecaster.py:1854: FutureWarning: 'M' is deprecated and will be removed in a future version, please use 'ME' instead.\n",
      "  dates = pd.date_range(\n",
      "02:33:39 - cmdstanpy - INFO - Chain [1] start processing\n",
      "02:33:39 - cmdstanpy - INFO - Chain [1] done processing\n",
      "C:\\Users\\baker\\Anaconda3\\envs\\realty-env\\lib\\site-packages\\prophet\\forecaster.py:1854: FutureWarning: 'M' is deprecated and will be removed in a future version, please use 'ME' instead.\n",
      "  dates = pd.date_range(\n"
     ]
    },
    {
     "name": "stdout",
     "output_type": "stream",
     "text": [
      "           ds             m  yhat  yhat_lower  yhat_upper\n",
      "12 2024-08-31  2.044674e-18  1.73    1.723713    1.737098\n",
      "13 2024-09-30  2.553509e-18  1.73    1.709860    1.753716\n",
      "14 2024-10-31  3.062344e-18  1.73    1.688328    1.774275\n",
      "15 2024-11-30  3.571179e-18  1.73    1.662042    1.796960\n",
      "16 2024-12-31  4.080015e-18  1.73    1.636288    1.827982\n",
      "           ds      yhat  yhat_lower  yhat_upper\n",
      "12 2024-08-31  1.869607    1.865530    1.873866\n",
      "13 2024-09-30  1.872316    1.860297    1.885933\n",
      "14 2024-10-31  1.875116    1.848720    1.900851\n",
      "15 2024-11-30  1.877826    1.835005    1.917304\n",
      "16 2024-12-31  1.880626    1.821773    1.935042\n"
     ]
    },
    {
     "name": "stderr",
     "output_type": "stream",
     "text": [
      "02:33:39 - cmdstanpy - INFO - Chain [1] start processing\n",
      "02:33:39 - cmdstanpy - INFO - Chain [1] done processing\n",
      "C:\\Users\\baker\\Anaconda3\\envs\\realty-env\\lib\\site-packages\\prophet\\forecaster.py:1854: FutureWarning: 'M' is deprecated and will be removed in a future version, please use 'ME' instead.\n",
      "  dates = pd.date_range(\n",
      "02:33:40 - cmdstanpy - INFO - Chain [1] start processing\n",
      "02:33:40 - cmdstanpy - INFO - Chain [1] done processing\n",
      "C:\\Users\\baker\\Anaconda3\\envs\\realty-env\\lib\\site-packages\\prophet\\forecaster.py:1854: FutureWarning: 'M' is deprecated and will be removed in a future version, please use 'ME' instead.\n",
      "  dates = pd.date_range(\n"
     ]
    },
    {
     "name": "stdout",
     "output_type": "stream",
     "text": [
      "           ds             m  yhat  yhat_lower  yhat_upper\n",
      "12 2024-08-31  2.044674e-18  1.73    1.723425    1.736076\n",
      "13 2024-09-30  2.553509e-18  1.73    1.708241    1.750172\n",
      "14 2024-10-31  3.062344e-18  1.73    1.685733    1.770970\n",
      "15 2024-11-30  3.571179e-18  1.73    1.661884    1.795362\n",
      "16 2024-12-31  4.080015e-18  1.73    1.632743    1.825700\n",
      "           ds      yhat  yhat_lower  yhat_upper\n",
      "12 2024-08-31  1.860100    1.854985    1.864564\n",
      "13 2024-09-30  1.853329    1.839127    1.867773\n",
      "14 2024-10-31  1.846334    1.819127    1.873667\n",
      "15 2024-11-30  1.839563    1.796221    1.883111\n",
      "16 2024-12-31  1.832568    1.770603    1.893562\n"
     ]
    },
    {
     "name": "stderr",
     "output_type": "stream",
     "text": [
      "02:33:40 - cmdstanpy - INFO - Chain [1] start processing\n",
      "02:33:40 - cmdstanpy - INFO - Chain [1] done processing\n",
      "C:\\Users\\baker\\Anaconda3\\envs\\realty-env\\lib\\site-packages\\prophet\\forecaster.py:1854: FutureWarning: 'M' is deprecated and will be removed in a future version, please use 'ME' instead.\n",
      "  dates = pd.date_range(\n",
      "02:33:40 - cmdstanpy - INFO - Chain [1] start processing\n",
      "02:33:40 - cmdstanpy - INFO - Chain [1] done processing\n",
      "C:\\Users\\baker\\Anaconda3\\envs\\realty-env\\lib\\site-packages\\prophet\\forecaster.py:1854: FutureWarning: 'M' is deprecated and will be removed in a future version, please use 'ME' instead.\n",
      "  dates = pd.date_range(\n"
     ]
    },
    {
     "name": "stdout",
     "output_type": "stream",
     "text": [
      "           ds             m  yhat  yhat_lower  yhat_upper\n",
      "12 2024-08-31  2.044674e-18  1.73    1.723166    1.736537\n",
      "13 2024-09-30  2.553509e-18  1.73    1.707547    1.751306\n",
      "14 2024-10-31  3.062344e-18  1.73    1.687561    1.772283\n",
      "15 2024-11-30  3.571179e-18  1.73    1.660494    1.801222\n",
      "16 2024-12-31  4.080015e-18  1.73    1.631042    1.826357\n",
      "           ds      yhat  yhat_lower  yhat_upper\n",
      "12 2024-08-31  2.076156    2.064304    2.087614\n",
      "13 2024-09-30  2.098036    2.082729    2.113443\n",
      "14 2024-10-31  2.120644    2.097153    2.142780\n",
      "15 2024-11-30  2.142523    2.107613    2.177778\n",
      "16 2024-12-31  2.165132    2.116001    2.213131\n"
     ]
    },
    {
     "name": "stderr",
     "output_type": "stream",
     "text": [
      "02:33:40 - cmdstanpy - INFO - Chain [1] start processing\n",
      "02:33:40 - cmdstanpy - INFO - Chain [1] done processing\n",
      "C:\\Users\\baker\\Anaconda3\\envs\\realty-env\\lib\\site-packages\\prophet\\forecaster.py:1854: FutureWarning: 'M' is deprecated and will be removed in a future version, please use 'ME' instead.\n",
      "  dates = pd.date_range(\n",
      "02:33:40 - cmdstanpy - INFO - Chain [1] start processing\n",
      "02:33:40 - cmdstanpy - INFO - Chain [1] done processing\n"
     ]
    },
    {
     "name": "stdout",
     "output_type": "stream",
     "text": [
      "           ds             m  yhat  yhat_lower  yhat_upper\n",
      "12 2024-08-31  2.044674e-18  1.73    1.723320    1.735887\n",
      "13 2024-09-30  2.553509e-18  1.73    1.709579    1.749221\n",
      "14 2024-10-31  3.062344e-18  1.73    1.690159    1.768062\n",
      "15 2024-11-30  3.571179e-18  1.73    1.667623    1.791412\n",
      "16 2024-12-31  4.080015e-18  1.73    1.637011    1.815666\n",
      "           ds      yhat  yhat_lower  yhat_upper\n",
      "12 2024-08-31  1.761552    1.750918    1.772618\n",
      "13 2024-09-30  1.771955    1.759089    1.783919\n",
      "14 2024-10-31  1.782704    1.766374    1.799782\n",
      "15 2024-11-30  1.793106    1.768302    1.812676\n",
      "16 2024-12-31  1.803855    1.771694    1.831783\n"
     ]
    },
    {
     "name": "stderr",
     "output_type": "stream",
     "text": [
      "C:\\Users\\baker\\Anaconda3\\envs\\realty-env\\lib\\site-packages\\prophet\\forecaster.py:1854: FutureWarning: 'M' is deprecated and will be removed in a future version, please use 'ME' instead.\n",
      "  dates = pd.date_range(\n",
      "02:33:40 - cmdstanpy - INFO - Chain [1] start processing\n",
      "02:33:40 - cmdstanpy - INFO - Chain [1] done processing\n",
      "C:\\Users\\baker\\Anaconda3\\envs\\realty-env\\lib\\site-packages\\prophet\\forecaster.py:1854: FutureWarning: 'M' is deprecated and will be removed in a future version, please use 'ME' instead.\n",
      "  dates = pd.date_range(\n",
      "02:33:41 - cmdstanpy - INFO - Chain [1] start processing\n",
      "02:33:41 - cmdstanpy - INFO - Chain [1] done processing\n",
      "C:\\Users\\baker\\Anaconda3\\envs\\realty-env\\lib\\site-packages\\prophet\\forecaster.py:1854: FutureWarning: 'M' is deprecated and will be removed in a future version, please use 'ME' instead.\n",
      "  dates = pd.date_range(\n"
     ]
    },
    {
     "name": "stdout",
     "output_type": "stream",
     "text": [
      "           ds             m  yhat  yhat_lower  yhat_upper\n",
      "12 2024-08-31  2.044674e-18  1.73    1.722618    1.737433\n",
      "13 2024-09-30  2.553509e-18  1.73    1.707409    1.753604\n",
      "14 2024-10-31  3.062344e-18  1.73    1.688236    1.773756\n",
      "15 2024-11-30  3.571179e-18  1.73    1.668269    1.800063\n",
      "16 2024-12-31  4.080015e-18  1.73    1.641571    1.827715\n",
      "           ds      yhat  yhat_lower  yhat_upper\n",
      "12 2024-08-31  1.628434    1.623470    1.632869\n",
      "13 2024-09-30  1.633514    1.627908    1.638895\n",
      "14 2024-10-31  1.638762    1.632869    1.644711\n",
      "15 2024-11-30  1.643841    1.635702    1.652004\n",
      "16 2024-12-31  1.649090    1.639392    1.659693\n"
     ]
    },
    {
     "name": "stderr",
     "output_type": "stream",
     "text": [
      "02:33:41 - cmdstanpy - INFO - Chain [1] start processing\n",
      "02:33:41 - cmdstanpy - INFO - Chain [1] done processing\n",
      "C:\\Users\\baker\\Anaconda3\\envs\\realty-env\\lib\\site-packages\\prophet\\forecaster.py:1854: FutureWarning: 'M' is deprecated and will be removed in a future version, please use 'ME' instead.\n",
      "  dates = pd.date_range(\n",
      "02:33:41 - cmdstanpy - INFO - Chain [1] start processing\n",
      "02:33:41 - cmdstanpy - INFO - Chain [1] done processing\n",
      "C:\\Users\\baker\\Anaconda3\\envs\\realty-env\\lib\\site-packages\\prophet\\forecaster.py:1854: FutureWarning: 'M' is deprecated and will be removed in a future version, please use 'ME' instead.\n",
      "  dates = pd.date_range(\n"
     ]
    },
    {
     "name": "stdout",
     "output_type": "stream",
     "text": [
      "           ds             m  yhat  yhat_lower  yhat_upper\n",
      "12 2024-08-31  2.044674e-18  1.73    1.723470    1.737536\n",
      "13 2024-09-30  2.553509e-18  1.73    1.709603    1.753837\n",
      "14 2024-10-31  3.062344e-18  1.73    1.686070    1.771199\n",
      "15 2024-11-30  3.571179e-18  1.73    1.657529    1.796559\n",
      "16 2024-12-31  4.080015e-18  1.73    1.630061    1.826536\n",
      "           ds      yhat  yhat_lower  yhat_upper\n",
      "12 2024-08-31  1.870664    1.862647    1.878639\n",
      "13 2024-09-30  1.870656    1.861444    1.879519\n",
      "14 2024-10-31  1.870647    1.857963    1.883149\n",
      "15 2024-11-30  1.870639    1.853921    1.887759\n",
      "16 2024-12-31  1.870630    1.846308    1.892561\n"
     ]
    },
    {
     "name": "stderr",
     "output_type": "stream",
     "text": [
      "02:33:41 - cmdstanpy - INFO - Chain [1] start processing\n",
      "02:33:41 - cmdstanpy - INFO - Chain [1] done processing\n",
      "C:\\Users\\baker\\Anaconda3\\envs\\realty-env\\lib\\site-packages\\prophet\\forecaster.py:1854: FutureWarning: 'M' is deprecated and will be removed in a future version, please use 'ME' instead.\n",
      "  dates = pd.date_range(\n",
      "02:33:41 - cmdstanpy - INFO - Chain [1] start processing\n",
      "02:33:41 - cmdstanpy - INFO - Chain [1] done processing\n",
      "C:\\Users\\baker\\Anaconda3\\envs\\realty-env\\lib\\site-packages\\prophet\\forecaster.py:1854: FutureWarning: 'M' is deprecated and will be removed in a future version, please use 'ME' instead.\n",
      "  dates = pd.date_range(\n"
     ]
    },
    {
     "name": "stdout",
     "output_type": "stream",
     "text": [
      "           ds             m  yhat  yhat_lower  yhat_upper\n",
      "12 2024-08-31  2.044674e-18  1.73    1.722931    1.736900\n",
      "13 2024-09-30  2.553509e-18  1.73    1.706870    1.751547\n",
      "14 2024-10-31  3.062344e-18  1.73    1.686531    1.773196\n",
      "15 2024-11-30  3.571179e-18  1.73    1.661720    1.801648\n",
      "16 2024-12-31  4.080015e-18  1.73    1.634330    1.828350\n",
      "           ds      yhat  yhat_lower  yhat_upper\n",
      "12 2024-08-31  1.709407    1.704766    1.713710\n",
      "13 2024-09-30  1.710031    1.703512    1.716644\n",
      "14 2024-10-31  1.710676    1.700296    1.722111\n",
      "15 2024-11-30  1.711300    1.694982    1.728453\n",
      "16 2024-12-31  1.711945    1.688370    1.737500\n"
     ]
    },
    {
     "name": "stderr",
     "output_type": "stream",
     "text": [
      "02:33:41 - cmdstanpy - INFO - Chain [1] start processing\n",
      "02:33:41 - cmdstanpy - INFO - Chain [1] done processing\n",
      "C:\\Users\\baker\\Anaconda3\\envs\\realty-env\\lib\\site-packages\\prophet\\forecaster.py:1854: FutureWarning: 'M' is deprecated and will be removed in a future version, please use 'ME' instead.\n",
      "  dates = pd.date_range(\n",
      "02:33:42 - cmdstanpy - INFO - Chain [1] start processing\n",
      "02:33:42 - cmdstanpy - INFO - Chain [1] done processing\n",
      "C:\\Users\\baker\\Anaconda3\\envs\\realty-env\\lib\\site-packages\\prophet\\forecaster.py:1854: FutureWarning: 'M' is deprecated and will be removed in a future version, please use 'ME' instead.\n",
      "  dates = pd.date_range(\n"
     ]
    },
    {
     "name": "stdout",
     "output_type": "stream",
     "text": [
      "           ds             m  yhat  yhat_lower  yhat_upper\n",
      "12 2024-08-31  2.044674e-18  1.73    1.723635    1.736882\n",
      "13 2024-09-30  2.553509e-18  1.73    1.709889    1.751914\n",
      "14 2024-10-31  3.062344e-18  1.73    1.686413    1.771701\n",
      "15 2024-11-30  3.571179e-18  1.73    1.661855    1.795039\n",
      "16 2024-12-31  4.080015e-18  1.73    1.633378    1.821203\n",
      "           ds      yhat  yhat_lower  yhat_upper\n",
      "12 2024-08-31  1.470809    1.464338    1.477482\n",
      "13 2024-09-30  1.477080    1.469490    1.484074\n",
      "14 2024-10-31  1.483560    1.475008    1.492795\n",
      "15 2024-11-30  1.489831    1.477522    1.500363\n",
      "16 2024-12-31  1.496311    1.481783    1.510122\n"
     ]
    },
    {
     "name": "stderr",
     "output_type": "stream",
     "text": [
      "02:33:42 - cmdstanpy - INFO - Chain [1] start processing\n",
      "02:33:42 - cmdstanpy - INFO - Chain [1] done processing\n",
      "C:\\Users\\baker\\Anaconda3\\envs\\realty-env\\lib\\site-packages\\prophet\\forecaster.py:1854: FutureWarning: 'M' is deprecated and will be removed in a future version, please use 'ME' instead.\n",
      "  dates = pd.date_range(\n",
      "02:33:42 - cmdstanpy - INFO - Chain [1] start processing\n",
      "02:33:42 - cmdstanpy - INFO - Chain [1] done processing\n",
      "C:\\Users\\baker\\Anaconda3\\envs\\realty-env\\lib\\site-packages\\prophet\\forecaster.py:1854: FutureWarning: 'M' is deprecated and will be removed in a future version, please use 'ME' instead.\n",
      "  dates = pd.date_range(\n"
     ]
    },
    {
     "name": "stdout",
     "output_type": "stream",
     "text": [
      "           ds             m  yhat  yhat_lower  yhat_upper\n",
      "12 2024-08-31  2.044674e-18  1.73    1.722931    1.737528\n",
      "13 2024-09-30  2.553509e-18  1.73    1.707054    1.755631\n",
      "14 2024-10-31  3.062344e-18  1.73    1.686744    1.776079\n",
      "15 2024-11-30  3.571179e-18  1.73    1.661175    1.804207\n",
      "16 2024-12-31  4.080015e-18  1.73    1.629957    1.828872\n",
      "           ds      yhat  yhat_lower  yhat_upper\n",
      "12 2024-08-31  1.929171    1.922736    1.936097\n",
      "13 2024-09-30  1.937472    1.917544    1.959584\n",
      "14 2024-10-31  1.946050    1.907587    1.989542\n",
      "15 2024-11-30  1.954350    1.895269    2.022961\n",
      "16 2024-12-31  1.962928    1.874391    2.062241\n"
     ]
    },
    {
     "name": "stderr",
     "output_type": "stream",
     "text": [
      "02:33:42 - cmdstanpy - INFO - Chain [1] start processing\n",
      "02:33:42 - cmdstanpy - INFO - Chain [1] done processing\n",
      "C:\\Users\\baker\\Anaconda3\\envs\\realty-env\\lib\\site-packages\\prophet\\forecaster.py:1854: FutureWarning: 'M' is deprecated and will be removed in a future version, please use 'ME' instead.\n",
      "  dates = pd.date_range(\n",
      "02:33:42 - cmdstanpy - INFO - Chain [1] start processing\n",
      "02:33:42 - cmdstanpy - INFO - Chain [1] done processing\n",
      "C:\\Users\\baker\\Anaconda3\\envs\\realty-env\\lib\\site-packages\\prophet\\forecaster.py:1854: FutureWarning: 'M' is deprecated and will be removed in a future version, please use 'ME' instead.\n",
      "  dates = pd.date_range(\n"
     ]
    },
    {
     "name": "stdout",
     "output_type": "stream",
     "text": [
      "           ds             m  yhat  yhat_lower  yhat_upper\n",
      "12 2024-08-31  2.044674e-18  1.73    1.723811    1.736699\n",
      "13 2024-09-30  2.553509e-18  1.73    1.709535    1.751975\n",
      "14 2024-10-31  3.062344e-18  1.73    1.690310    1.772483\n",
      "15 2024-11-30  3.571179e-18  1.73    1.665276    1.798260\n",
      "16 2024-12-31  4.080015e-18  1.73    1.640952    1.825001\n",
      "           ds      yhat  yhat_lower  yhat_upper\n",
      "12 2024-08-31  1.648133    1.640613    1.655930\n",
      "13 2024-09-30  1.653242    1.642412    1.665207\n",
      "14 2024-10-31  1.658521    1.641617    1.675734\n",
      "15 2024-11-30  1.663630    1.638749    1.690191\n",
      "16 2024-12-31  1.668908    1.635172    1.707405\n"
     ]
    },
    {
     "name": "stderr",
     "output_type": "stream",
     "text": [
      "02:33:42 - cmdstanpy - INFO - Chain [1] start processing\n",
      "02:33:42 - cmdstanpy - INFO - Chain [1] done processing\n",
      "C:\\Users\\baker\\Anaconda3\\envs\\realty-env\\lib\\site-packages\\prophet\\forecaster.py:1854: FutureWarning: 'M' is deprecated and will be removed in a future version, please use 'ME' instead.\n",
      "  dates = pd.date_range(\n",
      "02:33:43 - cmdstanpy - INFO - Chain [1] start processing\n",
      "02:33:43 - cmdstanpy - INFO - Chain [1] done processing\n"
     ]
    },
    {
     "name": "stdout",
     "output_type": "stream",
     "text": [
      "           ds             m  yhat  yhat_lower  yhat_upper\n",
      "12 2024-08-31  2.044674e-18  1.73    1.722538    1.736338\n",
      "13 2024-09-30  2.553509e-18  1.73    1.706663    1.750286\n",
      "14 2024-10-31  3.062344e-18  1.73    1.685432    1.768423\n",
      "15 2024-11-30  3.571179e-18  1.73    1.663789    1.790535\n",
      "16 2024-12-31  4.080015e-18  1.73    1.635109    1.816893\n"
     ]
    },
    {
     "name": "stderr",
     "output_type": "stream",
     "text": [
      "C:\\Users\\baker\\Anaconda3\\envs\\realty-env\\lib\\site-packages\\prophet\\forecaster.py:1854: FutureWarning: 'M' is deprecated and will be removed in a future version, please use 'ME' instead.\n",
      "  dates = pd.date_range(\n",
      "02:33:43 - cmdstanpy - INFO - Chain [1] start processing\n",
      "02:33:43 - cmdstanpy - INFO - Chain [1] done processing\n",
      "C:\\Users\\baker\\Anaconda3\\envs\\realty-env\\lib\\site-packages\\prophet\\forecaster.py:1854: FutureWarning: 'M' is deprecated and will be removed in a future version, please use 'ME' instead.\n",
      "  dates = pd.date_range(\n"
     ]
    },
    {
     "name": "stdout",
     "output_type": "stream",
     "text": [
      "           ds  yhat  yhat_lower  yhat_upper\n",
      "12 2024-08-31  1.54    1.529619    1.550109\n",
      "13 2024-09-30  1.54    1.506121    1.572544\n",
      "14 2024-10-31  1.54    1.477096    1.603012\n",
      "15 2024-11-30  1.54    1.447586    1.643827\n",
      "16 2024-12-31  1.54    1.408237    1.688012\n",
      "           ds             m  yhat  yhat_lower  yhat_upper\n",
      "12 2024-08-31  2.044674e-18  1.73    1.723780    1.736807\n",
      "13 2024-09-30  2.553509e-18  1.73    1.709172    1.752127\n",
      "14 2024-10-31  3.062344e-18  1.73    1.688803    1.774974\n",
      "15 2024-11-30  3.571179e-18  1.73    1.664555    1.800200\n",
      "16 2024-12-31  4.080015e-18  1.73    1.639633    1.827939\n"
     ]
    },
    {
     "name": "stderr",
     "output_type": "stream",
     "text": [
      "02:33:43 - cmdstanpy - INFO - Chain [1] start processing\n",
      "02:33:43 - cmdstanpy - INFO - Chain [1] done processing\n",
      "C:\\Users\\baker\\Anaconda3\\envs\\realty-env\\lib\\site-packages\\prophet\\forecaster.py:1854: FutureWarning: 'M' is deprecated and will be removed in a future version, please use 'ME' instead.\n",
      "  dates = pd.date_range(\n",
      "02:33:43 - cmdstanpy - INFO - Chain [1] start processing\n"
     ]
    },
    {
     "name": "stdout",
     "output_type": "stream",
     "text": [
      "           ds      yhat  yhat_lower  yhat_upper\n",
      "12 2024-08-31  1.774981    1.771977    1.777819\n",
      "13 2024-09-30  1.777903    1.770785    1.784451\n",
      "14 2024-10-31  1.780924    1.767187    1.792929\n",
      "15 2024-11-30  1.783846    1.762525    1.802820\n",
      "16 2024-12-31  1.786866    1.758649    1.813936\n"
     ]
    },
    {
     "name": "stderr",
     "output_type": "stream",
     "text": [
      "02:33:43 - cmdstanpy - INFO - Chain [1] done processing\n",
      "C:\\Users\\baker\\Anaconda3\\envs\\realty-env\\lib\\site-packages\\prophet\\forecaster.py:1854: FutureWarning: 'M' is deprecated and will be removed in a future version, please use 'ME' instead.\n",
      "  dates = pd.date_range(\n",
      "02:33:43 - cmdstanpy - INFO - Chain [1] start processing\n",
      "02:33:44 - cmdstanpy - INFO - Chain [1] done processing\n",
      "C:\\Users\\baker\\Anaconda3\\envs\\realty-env\\lib\\site-packages\\prophet\\forecaster.py:1854: FutureWarning: 'M' is deprecated and will be removed in a future version, please use 'ME' instead.\n",
      "  dates = pd.date_range(\n"
     ]
    },
    {
     "name": "stdout",
     "output_type": "stream",
     "text": [
      "           ds             m  yhat  yhat_lower  yhat_upper\n",
      "12 2024-08-31  2.044674e-18  1.73    1.723005    1.737019\n",
      "13 2024-09-30  2.553509e-18  1.73    1.706938    1.751875\n",
      "14 2024-10-31  3.062344e-18  1.73    1.687744    1.768506\n",
      "15 2024-11-30  3.571179e-18  1.73    1.660755    1.791252\n",
      "16 2024-12-31  4.080015e-18  1.73    1.631347    1.813259\n",
      "           ds      yhat  yhat_lower  yhat_upper\n",
      "12 2024-08-31  1.644202    1.635181    1.654020\n",
      "13 2024-09-30  1.640874    1.611699    1.672140\n",
      "14 2024-10-31  1.637435    1.581102    1.698678\n",
      "15 2024-11-30  1.634107    1.538849    1.730336\n",
      "16 2024-12-31  1.630668    1.494309    1.763735\n"
     ]
    },
    {
     "name": "stderr",
     "output_type": "stream",
     "text": [
      "02:33:44 - cmdstanpy - INFO - Chain [1] start processing\n",
      "02:33:44 - cmdstanpy - INFO - Chain [1] done processing\n",
      "C:\\Users\\baker\\Anaconda3\\envs\\realty-env\\lib\\site-packages\\prophet\\forecaster.py:1854: FutureWarning: 'M' is deprecated and will be removed in a future version, please use 'ME' instead.\n",
      "  dates = pd.date_range(\n",
      "02:33:44 - cmdstanpy - INFO - Chain [1] start processing\n",
      "02:33:44 - cmdstanpy - INFO - Chain [1] done processing\n",
      "C:\\Users\\baker\\Anaconda3\\envs\\realty-env\\lib\\site-packages\\prophet\\forecaster.py:1854: FutureWarning: 'M' is deprecated and will be removed in a future version, please use 'ME' instead.\n",
      "  dates = pd.date_range(\n"
     ]
    },
    {
     "name": "stdout",
     "output_type": "stream",
     "text": [
      "           ds             m  yhat  yhat_lower  yhat_upper\n",
      "12 2024-08-31  2.044674e-18  1.73    1.722997    1.736145\n",
      "13 2024-09-30  2.553509e-18  1.73    1.706704    1.749747\n",
      "14 2024-10-31  3.062344e-18  1.73    1.686399    1.768023\n",
      "15 2024-11-30  3.571179e-18  1.73    1.660560    1.789397\n",
      "16 2024-12-31  4.080015e-18  1.73    1.631238    1.816741\n",
      "           ds      yhat  yhat_lower  yhat_upper\n",
      "12 2024-08-31  1.749255    1.743219    1.754437\n",
      "13 2024-09-30  1.754808    1.746449    1.763916\n",
      "14 2024-10-31  1.760546    1.745699    1.776633\n",
      "15 2024-11-30  1.766099    1.743792    1.789550\n",
      "16 2024-12-31  1.771837    1.739931    1.807211\n"
     ]
    },
    {
     "name": "stderr",
     "output_type": "stream",
     "text": [
      "02:33:44 - cmdstanpy - INFO - Chain [1] start processing\n",
      "02:33:44 - cmdstanpy - INFO - Chain [1] done processing\n",
      "C:\\Users\\baker\\Anaconda3\\envs\\realty-env\\lib\\site-packages\\prophet\\forecaster.py:1854: FutureWarning: 'M' is deprecated and will be removed in a future version, please use 'ME' instead.\n",
      "  dates = pd.date_range(\n",
      "02:33:44 - cmdstanpy - INFO - Chain [1] start processing\n",
      "02:33:44 - cmdstanpy - INFO - Chain [1] done processing\n",
      "C:\\Users\\baker\\Anaconda3\\envs\\realty-env\\lib\\site-packages\\prophet\\forecaster.py:1854: FutureWarning: 'M' is deprecated and will be removed in a future version, please use 'ME' instead.\n",
      "  dates = pd.date_range(\n"
     ]
    },
    {
     "name": "stdout",
     "output_type": "stream",
     "text": [
      "           ds             m  yhat  yhat_lower  yhat_upper\n",
      "12 2024-08-31  2.044674e-18  1.73    1.723450    1.736323\n",
      "13 2024-09-30  2.553509e-18  1.73    1.708931    1.750544\n",
      "14 2024-10-31  3.062344e-18  1.73    1.688518    1.773357\n",
      "15 2024-11-30  3.571179e-18  1.73    1.663234    1.798781\n",
      "16 2024-12-31  4.080015e-18  1.73    1.632903    1.826706\n",
      "           ds      yhat  yhat_lower  yhat_upper\n",
      "12 2024-08-31  1.843524    1.837459    1.849645\n",
      "13 2024-09-30  1.841460    1.832842    1.850623\n",
      "14 2024-10-31  1.839327    1.825570    1.852750\n",
      "15 2024-11-30  1.837263    1.816858    1.857138\n",
      "16 2024-12-31  1.835130    1.806921    1.862211\n"
     ]
    },
    {
     "name": "stderr",
     "output_type": "stream",
     "text": [
      "02:33:44 - cmdstanpy - INFO - Chain [1] start processing\n",
      "02:33:44 - cmdstanpy - INFO - Chain [1] done processing\n",
      "C:\\Users\\baker\\Anaconda3\\envs\\realty-env\\lib\\site-packages\\prophet\\forecaster.py:1854: FutureWarning: 'M' is deprecated and will be removed in a future version, please use 'ME' instead.\n",
      "  dates = pd.date_range(\n",
      "02:33:44 - cmdstanpy - INFO - Chain [1] start processing\n",
      "02:33:45 - cmdstanpy - INFO - Chain [1] done processing\n",
      "C:\\Users\\baker\\Anaconda3\\envs\\realty-env\\lib\\site-packages\\prophet\\forecaster.py:1854: FutureWarning: 'M' is deprecated and will be removed in a future version, please use 'ME' instead.\n",
      "  dates = pd.date_range(\n"
     ]
    },
    {
     "name": "stdout",
     "output_type": "stream",
     "text": [
      "           ds             m  yhat  yhat_lower  yhat_upper\n",
      "12 2024-08-31  2.044674e-18  1.73    1.724190    1.736216\n",
      "13 2024-09-30  2.553509e-18  1.73    1.710214    1.750326\n",
      "14 2024-10-31  3.062344e-18  1.73    1.689628    1.772784\n",
      "15 2024-11-30  3.571179e-18  1.73    1.666340    1.797662\n",
      "16 2024-12-31  4.080015e-18  1.73    1.637084    1.829811\n",
      "           ds      yhat  yhat_lower  yhat_upper\n",
      "12 2024-08-31  2.126812    2.120316    2.133312\n",
      "13 2024-09-30  2.131983    2.123418    2.140732\n",
      "14 2024-10-31  2.137327    2.125610    2.149619\n",
      "15 2024-11-30  2.142498    2.124868    2.162262\n",
      "16 2024-12-31  2.147841    2.122378    2.175384\n"
     ]
    },
    {
     "name": "stderr",
     "output_type": "stream",
     "text": [
      "02:33:45 - cmdstanpy - INFO - Chain [1] start processing\n",
      "02:33:45 - cmdstanpy - INFO - Chain [1] done processing\n",
      "C:\\Users\\baker\\Anaconda3\\envs\\realty-env\\lib\\site-packages\\prophet\\forecaster.py:1854: FutureWarning: 'M' is deprecated and will be removed in a future version, please use 'ME' instead.\n",
      "  dates = pd.date_range(\n",
      "02:33:45 - cmdstanpy - INFO - Chain [1] start processing\n"
     ]
    },
    {
     "name": "stdout",
     "output_type": "stream",
     "text": [
      "           ds             m  yhat  yhat_lower  yhat_upper\n",
      "12 2024-08-31  2.044674e-18  1.73    1.722753    1.736348\n",
      "13 2024-09-30  2.553509e-18  1.73    1.707795    1.750785\n",
      "14 2024-10-31  3.062344e-18  1.73    1.686575    1.771294\n",
      "15 2024-11-30  3.571179e-18  1.73    1.658250    1.791496\n",
      "16 2024-12-31  4.080015e-18  1.73    1.626982    1.817004\n"
     ]
    },
    {
     "name": "stderr",
     "output_type": "stream",
     "text": [
      "02:33:45 - cmdstanpy - INFO - Chain [1] done processing\n",
      "C:\\Users\\baker\\Anaconda3\\envs\\realty-env\\lib\\site-packages\\prophet\\forecaster.py:1854: FutureWarning: 'M' is deprecated and will be removed in a future version, please use 'ME' instead.\n",
      "  dates = pd.date_range(\n",
      "02:33:45 - cmdstanpy - INFO - Chain [1] start processing\n",
      "02:33:45 - cmdstanpy - INFO - Chain [1] done processing\n",
      "C:\\Users\\baker\\Anaconda3\\envs\\realty-env\\lib\\site-packages\\prophet\\forecaster.py:1854: FutureWarning: 'M' is deprecated and will be removed in a future version, please use 'ME' instead.\n",
      "  dates = pd.date_range(\n"
     ]
    },
    {
     "name": "stdout",
     "output_type": "stream",
     "text": [
      "           ds      yhat  yhat_lower  yhat_upper\n",
      "12 2024-08-31  1.704647    1.700233    1.709358\n",
      "13 2024-09-30  1.711283    1.697855    1.725204\n",
      "14 2024-10-31  1.718141    1.692284    1.746287\n",
      "15 2024-11-30  1.724778    1.682773    1.770467\n",
      "16 2024-12-31  1.731636    1.670985    1.796440\n",
      "           ds             m  yhat  yhat_lower  yhat_upper\n",
      "12 2024-08-31  2.044674e-18  1.73    1.723010    1.736816\n",
      "13 2024-09-30  2.553509e-18  1.73    1.709213    1.752551\n",
      "14 2024-10-31  3.062344e-18  1.73    1.689314    1.774083\n",
      "15 2024-11-30  3.571179e-18  1.73    1.664274    1.801549\n",
      "16 2024-12-31  4.080015e-18  1.73    1.638034    1.832784\n"
     ]
    },
    {
     "name": "stderr",
     "output_type": "stream",
     "text": [
      "02:33:45 - cmdstanpy - INFO - Chain [1] start processing\n",
      "02:33:45 - cmdstanpy - INFO - Chain [1] done processing\n",
      "C:\\Users\\baker\\Anaconda3\\envs\\realty-env\\lib\\site-packages\\prophet\\forecaster.py:1854: FutureWarning: 'M' is deprecated and will be removed in a future version, please use 'ME' instead.\n",
      "  dates = pd.date_range(\n",
      "02:33:45 - cmdstanpy - INFO - Chain [1] start processing\n",
      "02:33:45 - cmdstanpy - INFO - Chain [1] done processing\n",
      "C:\\Users\\baker\\Anaconda3\\envs\\realty-env\\lib\\site-packages\\prophet\\forecaster.py:1854: FutureWarning: 'M' is deprecated and will be removed in a future version, please use 'ME' instead.\n",
      "  dates = pd.date_range(\n"
     ]
    },
    {
     "name": "stdout",
     "output_type": "stream",
     "text": [
      "           ds      yhat  yhat_lower  yhat_upper\n",
      "12 2024-08-31  1.724606    1.715759    1.733246\n",
      "13 2024-09-30  1.728294    1.700863    1.754723\n",
      "14 2024-10-31  1.732104    1.682141    1.787332\n",
      "15 2024-11-30  1.735792    1.655545    1.824158\n",
      "16 2024-12-31  1.739602    1.624834    1.860389\n",
      "           ds             m  yhat  yhat_lower  yhat_upper\n",
      "12 2024-08-31  2.044674e-18  1.73    1.724128    1.736459\n",
      "13 2024-09-30  2.553509e-18  1.73    1.711125    1.750460\n",
      "14 2024-10-31  3.062344e-18  1.73    1.688899    1.771317\n",
      "15 2024-11-30  3.571179e-18  1.73    1.663837    1.793221\n",
      "16 2024-12-31  4.080015e-18  1.73    1.632268    1.819698\n"
     ]
    },
    {
     "name": "stderr",
     "output_type": "stream",
     "text": [
      "02:33:46 - cmdstanpy - INFO - Chain [1] start processing\n",
      "02:33:46 - cmdstanpy - INFO - Chain [1] done processing\n",
      "C:\\Users\\baker\\Anaconda3\\envs\\realty-env\\lib\\site-packages\\prophet\\forecaster.py:1854: FutureWarning: 'M' is deprecated and will be removed in a future version, please use 'ME' instead.\n",
      "  dates = pd.date_range(\n",
      "02:33:46 - cmdstanpy - INFO - Chain [1] start processing\n"
     ]
    },
    {
     "name": "stdout",
     "output_type": "stream",
     "text": [
      "           ds      yhat  yhat_lower  yhat_upper\n",
      "12 2024-08-31  1.986281    1.970115    2.002486\n",
      "13 2024-09-30  2.010040    1.992536    2.029106\n",
      "14 2024-10-31  2.034592    2.011021    2.059100\n",
      "15 2024-11-30  2.058351    2.029156    2.092131\n",
      "16 2024-12-31  2.082902    2.042802    2.124259\n"
     ]
    },
    {
     "name": "stderr",
     "output_type": "stream",
     "text": [
      "02:33:46 - cmdstanpy - INFO - Chain [1] done processing\n",
      "C:\\Users\\baker\\Anaconda3\\envs\\realty-env\\lib\\site-packages\\prophet\\forecaster.py:1854: FutureWarning: 'M' is deprecated and will be removed in a future version, please use 'ME' instead.\n",
      "  dates = pd.date_range(\n",
      "02:33:46 - cmdstanpy - INFO - Chain [1] start processing\n",
      "02:33:46 - cmdstanpy - INFO - Chain [1] done processing\n",
      "C:\\Users\\baker\\Anaconda3\\envs\\realty-env\\lib\\site-packages\\prophet\\forecaster.py:1854: FutureWarning: 'M' is deprecated and will be removed in a future version, please use 'ME' instead.\n",
      "  dates = pd.date_range(\n"
     ]
    },
    {
     "name": "stdout",
     "output_type": "stream",
     "text": [
      "           ds             m  yhat  yhat_lower  yhat_upper\n",
      "12 2024-08-31  2.044674e-18  1.73    1.722745    1.735827\n",
      "13 2024-09-30  2.553509e-18  1.73    1.707062    1.748716\n",
      "14 2024-10-31  3.062344e-18  1.73    1.684458    1.768769\n",
      "15 2024-11-30  3.571179e-18  1.73    1.659305    1.791438\n",
      "16 2024-12-31  4.080015e-18  1.73    1.634141    1.817731\n",
      "           ds      yhat  yhat_lower  yhat_upper\n",
      "12 2024-08-31  2.076156    2.064747    2.087966\n",
      "13 2024-09-30  2.098036    2.082162    2.112679\n",
      "14 2024-10-31  2.120644    2.096661    2.144676\n",
      "15 2024-11-30  2.142523    2.108041    2.179050\n",
      "16 2024-12-31  2.165132    2.116332    2.217293\n"
     ]
    },
    {
     "name": "stderr",
     "output_type": "stream",
     "text": [
      "02:33:46 - cmdstanpy - INFO - Chain [1] start processing\n",
      "02:33:46 - cmdstanpy - INFO - Chain [1] done processing\n",
      "C:\\Users\\baker\\Anaconda3\\envs\\realty-env\\lib\\site-packages\\prophet\\forecaster.py:1854: FutureWarning: 'M' is deprecated and will be removed in a future version, please use 'ME' instead.\n",
      "  dates = pd.date_range(\n",
      "02:33:46 - cmdstanpy - INFO - Chain [1] start processing\n",
      "02:33:46 - cmdstanpy - INFO - Chain [1] done processing\n",
      "C:\\Users\\baker\\Anaconda3\\envs\\realty-env\\lib\\site-packages\\prophet\\forecaster.py:1854: FutureWarning: 'M' is deprecated and will be removed in a future version, please use 'ME' instead.\n",
      "  dates = pd.date_range(\n"
     ]
    },
    {
     "name": "stdout",
     "output_type": "stream",
     "text": [
      "           ds             m  yhat  yhat_lower  yhat_upper\n",
      "12 2024-08-31  2.044674e-18  1.73    1.723212    1.736313\n",
      "13 2024-09-30  2.553509e-18  1.73    1.708904    1.750069\n",
      "14 2024-10-31  3.062344e-18  1.73    1.689124    1.770284\n",
      "15 2024-11-30  3.571179e-18  1.73    1.667196    1.793754\n",
      "16 2024-12-31  4.080015e-18  1.73    1.639360    1.823135\n",
      "           ds      yhat  yhat_lower  yhat_upper\n",
      "12 2024-08-31  1.637424    1.632074    1.642730\n",
      "13 2024-09-30  1.637705    1.625795    1.649072\n",
      "14 2024-10-31  1.637995    1.615910    1.657279\n",
      "15 2024-11-30  1.638276    1.606479    1.667329\n",
      "16 2024-12-31  1.638566    1.593098    1.678602\n"
     ]
    },
    {
     "name": "stderr",
     "output_type": "stream",
     "text": [
      "02:33:47 - cmdstanpy - INFO - Chain [1] start processing\n",
      "02:33:47 - cmdstanpy - INFO - Chain [1] done processing\n",
      "C:\\Users\\baker\\Anaconda3\\envs\\realty-env\\lib\\site-packages\\prophet\\forecaster.py:1854: FutureWarning: 'M' is deprecated and will be removed in a future version, please use 'ME' instead.\n",
      "  dates = pd.date_range(\n",
      "02:33:47 - cmdstanpy - INFO - Chain [1] start processing\n",
      "02:33:47 - cmdstanpy - INFO - Chain [1] done processing\n",
      "C:\\Users\\baker\\Anaconda3\\envs\\realty-env\\lib\\site-packages\\prophet\\forecaster.py:1854: FutureWarning: 'M' is deprecated and will be removed in a future version, please use 'ME' instead.\n",
      "  dates = pd.date_range(\n"
     ]
    },
    {
     "name": "stdout",
     "output_type": "stream",
     "text": [
      "           ds             m  yhat  yhat_lower  yhat_upper\n",
      "12 2024-08-31  2.044674e-18  1.73    1.722972    1.737725\n",
      "13 2024-09-30  2.553509e-18  1.73    1.708583    1.753587\n",
      "14 2024-10-31  3.062344e-18  1.73    1.685483    1.773709\n",
      "15 2024-11-30  3.571179e-18  1.73    1.659705    1.799565\n",
      "16 2024-12-31  4.080015e-18  1.73    1.631265    1.825969\n",
      "           ds      yhat  yhat_lower  yhat_upper\n",
      "12 2024-08-31  1.504214    1.472493    1.535005\n",
      "13 2024-09-30  1.498705    1.466725    1.529526\n",
      "14 2024-10-31  1.493012    1.458000    1.525492\n",
      "15 2024-11-30  1.487503    1.455160    1.520348\n",
      "16 2024-12-31  1.481810    1.448118    1.515138\n"
     ]
    },
    {
     "name": "stderr",
     "output_type": "stream",
     "text": [
      "02:33:47 - cmdstanpy - INFO - Chain [1] start processing\n",
      "02:33:47 - cmdstanpy - INFO - Chain [1] done processing\n"
     ]
    },
    {
     "name": "stdout",
     "output_type": "stream",
     "text": [
      "           ds             m  yhat  yhat_lower  yhat_upper\n",
      "12 2024-08-31  2.044674e-18  1.73    1.723311    1.736279\n",
      "13 2024-09-30  2.553509e-18  1.73    1.708107    1.751836\n",
      "14 2024-10-31  3.062344e-18  1.73    1.685536    1.771593\n",
      "15 2024-11-30  3.571179e-18  1.73    1.659767    1.796701\n",
      "16 2024-12-31  4.080015e-18  1.73    1.629589    1.826745\n"
     ]
    },
    {
     "name": "stderr",
     "output_type": "stream",
     "text": [
      "C:\\Users\\baker\\Anaconda3\\envs\\realty-env\\lib\\site-packages\\prophet\\forecaster.py:1854: FutureWarning: 'M' is deprecated and will be removed in a future version, please use 'ME' instead.\n",
      "  dates = pd.date_range(\n"
     ]
    }
   ],
   "source": [
    "for i in list_markets:\n",
    "    market = i\n",
    "    df_filtered = df[df['MSA/Submarket'].str.contains(market)].drop('Unnamed: 0',axis=1)\n",
    "    df_filtered.index = df_filtered['MSA/Submarket']\n",
    "    transposed_df = df_filtered.T\n",
    "    transposed_df.drop('MSA/Submarket',axis=0,inplace=True)\n",
    "    transposed_df.columns = ['y','m']\n",
    "    transposed_df['ds'] = transposed_df.index\n",
    "    m1 = Prophet()\n",
    "    m1.fit(transposed_df)\n",
    "    future = m1.make_future_dataframe(periods=5,freq='M')\n",
    "    forecast_df = m1.predict(future)\n",
    "    print(forecast_df[['ds','yhat', 'yhat_lower', 'yhat_upper']].tail())\n",
    "    transposed_df.columns = ['m','y','ds']\n",
    "    m2 = Prophet()\n",
    "    m2.add_regressor('m')\n",
    "    m2.fit(transposed_df)\n",
    "    future = m2.make_future_dataframe(periods=5,freq='M')\n",
    "    future['m'] = forecast['yhat']\n",
    "    future_preds = m.predict(future)\n",
    "    print(future_preds[['ds','m','yhat', 'yhat_lower', 'yhat_upper']].tail())"
   ]
  },
  {
   "cell_type": "code",
   "execution_count": null,
   "id": "24fc3c54-c89b-4a93-8b07-794e3d49091b",
   "metadata": {},
   "outputs": [],
   "source": []
  }
 ],
 "metadata": {
  "kernelspec": {
   "display_name": "Python 3 (ipykernel)",
   "language": "python",
   "name": "python3"
  },
  "language_info": {
   "codemirror_mode": {
    "name": "ipython",
    "version": 3
   },
   "file_extension": ".py",
   "mimetype": "text/x-python",
   "name": "python",
   "nbconvert_exporter": "python",
   "pygments_lexer": "ipython3",
   "version": "3.9.19"
  }
 },
 "nbformat": 4,
 "nbformat_minor": 5
}
