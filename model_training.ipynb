{
 "cells": [
  {
   "cell_type": "code",
   "execution_count": 23,
   "id": "48da9849-d36e-4c38-be9f-acabc7eb707c",
   "metadata": {},
   "outputs": [],
   "source": [
    "import pandas as pd\n",
    "from prophet import Prophet"
   ]
  },
  {
   "cell_type": "code",
   "execution_count": 24,
   "id": "63aaf99a-5057-4a4c-ab8e-7aaaff7fc2c9",
   "metadata": {},
   "outputs": [
    {
     "data": {
      "text/html": [
       "<div>\n",
       "<style scoped>\n",
       "    .dataframe tbody tr th:only-of-type {\n",
       "        vertical-align: middle;\n",
       "    }\n",
       "\n",
       "    .dataframe tbody tr th {\n",
       "        vertical-align: top;\n",
       "    }\n",
       "\n",
       "    .dataframe thead th {\n",
       "        text-align: right;\n",
       "    }\n",
       "</style>\n",
       "<table border=\"1\" class=\"dataframe\">\n",
       "  <thead>\n",
       "    <tr style=\"text-align: right;\">\n",
       "      <th></th>\n",
       "      <th>Unnamed: 0</th>\n",
       "      <th>MSA/Submarket</th>\n",
       "      <th>2023-08-31</th>\n",
       "      <th>2023-09-30</th>\n",
       "      <th>2023-10-31</th>\n",
       "      <th>2023-11-30</th>\n",
       "      <th>2023-12-31</th>\n",
       "      <th>2024-01-31</th>\n",
       "      <th>2024-02-29</th>\n",
       "      <th>2024-03-31</th>\n",
       "      <th>2024-04-30</th>\n",
       "      <th>2024-05-31</th>\n",
       "      <th>2024-06-30</th>\n",
       "      <th>2024-07-31</th>\n",
       "    </tr>\n",
       "  </thead>\n",
       "  <tbody>\n",
       "    <tr>\n",
       "      <th>0</th>\n",
       "      <td>0</td>\n",
       "      <td>Dallas/Fort Worth Overall_market</td>\n",
       "      <td>1.80</td>\n",
       "      <td>1.79</td>\n",
       "      <td>1.78</td>\n",
       "      <td>1.77</td>\n",
       "      <td>1.77</td>\n",
       "      <td>1.76</td>\n",
       "      <td>1.76</td>\n",
       "      <td>1.76</td>\n",
       "      <td>1.76</td>\n",
       "      <td>1.77</td>\n",
       "      <td>1.77</td>\n",
       "      <td>1.77</td>\n",
       "    </tr>\n",
       "    <tr>\n",
       "      <th>1</th>\n",
       "      <td>1</td>\n",
       "      <td>Bachman Lake/Webb Chapel_market</td>\n",
       "      <td>1.63</td>\n",
       "      <td>1.65</td>\n",
       "      <td>1.66</td>\n",
       "      <td>1.67</td>\n",
       "      <td>1.66</td>\n",
       "      <td>1.69</td>\n",
       "      <td>1.68</td>\n",
       "      <td>1.68</td>\n",
       "      <td>1.68</td>\n",
       "      <td>1.69</td>\n",
       "      <td>1.69</td>\n",
       "      <td>1.69</td>\n",
       "    </tr>\n",
       "    <tr>\n",
       "      <th>2</th>\n",
       "      <td>2</td>\n",
       "      <td>Carrollton North_market</td>\n",
       "      <td>1.84</td>\n",
       "      <td>1.84</td>\n",
       "      <td>1.83</td>\n",
       "      <td>1.83</td>\n",
       "      <td>1.82</td>\n",
       "      <td>1.83</td>\n",
       "      <td>1.83</td>\n",
       "      <td>1.83</td>\n",
       "      <td>1.82</td>\n",
       "      <td>1.82</td>\n",
       "      <td>1.82</td>\n",
       "      <td>1.81</td>\n",
       "    </tr>\n",
       "    <tr>\n",
       "      <th>3</th>\n",
       "      <td>3</td>\n",
       "      <td>Carrollton South_market</td>\n",
       "      <td>1.84</td>\n",
       "      <td>1.84</td>\n",
       "      <td>1.83</td>\n",
       "      <td>1.83</td>\n",
       "      <td>1.82</td>\n",
       "      <td>1.83</td>\n",
       "      <td>1.84</td>\n",
       "      <td>1.82</td>\n",
       "      <td>1.84</td>\n",
       "      <td>1.83</td>\n",
       "      <td>1.83</td>\n",
       "      <td>1.84</td>\n",
       "    </tr>\n",
       "    <tr>\n",
       "      <th>4</th>\n",
       "      <td>4</td>\n",
       "      <td>Central Arlington_market</td>\n",
       "      <td>1.52</td>\n",
       "      <td>1.54</td>\n",
       "      <td>1.52</td>\n",
       "      <td>1.52</td>\n",
       "      <td>1.53</td>\n",
       "      <td>1.54</td>\n",
       "      <td>1.54</td>\n",
       "      <td>1.55</td>\n",
       "      <td>1.54</td>\n",
       "      <td>1.54</td>\n",
       "      <td>1.54</td>\n",
       "      <td>1.54</td>\n",
       "    </tr>\n",
       "  </tbody>\n",
       "</table>\n",
       "</div>"
      ],
      "text/plain": [
       "   Unnamed: 0                     MSA/Submarket  2023-08-31  2023-09-30  \\\n",
       "0           0  Dallas/Fort Worth Overall_market        1.80        1.79   \n",
       "1           1   Bachman Lake/Webb Chapel_market        1.63        1.65   \n",
       "2           2           Carrollton North_market        1.84        1.84   \n",
       "3           3           Carrollton South_market        1.84        1.84   \n",
       "4           4          Central Arlington_market        1.52        1.54   \n",
       "\n",
       "   2023-10-31  2023-11-30  2023-12-31  2024-01-31  2024-02-29  2024-03-31  \\\n",
       "0        1.78        1.77        1.77        1.76        1.76        1.76   \n",
       "1        1.66        1.67        1.66        1.69        1.68        1.68   \n",
       "2        1.83        1.83        1.82        1.83        1.83        1.83   \n",
       "3        1.83        1.83        1.82        1.83        1.84        1.82   \n",
       "4        1.52        1.52        1.53        1.54        1.54        1.55   \n",
       "\n",
       "   2024-04-30  2024-05-31  2024-06-30  2024-07-31  \n",
       "0        1.76        1.77        1.77        1.77  \n",
       "1        1.68        1.69        1.69        1.69  \n",
       "2        1.82        1.82        1.82        1.81  \n",
       "3        1.84        1.83        1.83        1.84  \n",
       "4        1.54        1.54        1.54        1.54  "
      ]
     },
     "execution_count": 24,
     "metadata": {},
     "output_type": "execute_result"
    }
   ],
   "source": [
    "df = pd.read_csv('data/m_and_e_stacked.csv')\n",
    "df.head()"
   ]
  },
  {
   "cell_type": "code",
   "execution_count": 25,
   "id": "40428b5b-d1bd-4db8-b188-228cd552c0e3",
   "metadata": {},
   "outputs": [
    {
     "data": {
      "text/plain": [
       "\"\\nnew_dates = []\\nfor i in df.columns:\\n    dates = i.split('-')\\n    if len(dates)==3:\\n        new_date = f'{dates[0]}-{dates[1]}-01'\\n    else:\\n        new_date = i\\n    new_dates.append(new_date)\\n        \\ndf.columns = new_dates\\ndf\\n\""
      ]
     },
     "execution_count": 25,
     "metadata": {},
     "output_type": "execute_result"
    }
   ],
   "source": [
    "'''\n",
    "new_dates = []\n",
    "for i in df.columns:\n",
    "    dates = i.split('-')\n",
    "    if len(dates)==3:\n",
    "        new_date = f'{dates[0]}-{dates[1]}-01'\n",
    "    else:\n",
    "        new_date = i\n",
    "    new_dates.append(new_date)\n",
    "        \n",
    "df.columns = new_dates\n",
    "df\n",
    "'''"
   ]
  },
  {
   "cell_type": "code",
   "execution_count": 26,
   "id": "09eb8412-f0d4-4925-bbcc-f2adb66e89f1",
   "metadata": {},
   "outputs": [],
   "source": [
    "list_markets = list(set([i.split('_')[0] for i in df['MSA/Submarket']]))"
   ]
  },
  {
   "cell_type": "code",
   "execution_count": 27,
   "id": "c8f0c361-f863-41b5-825d-1c3a03f91f36",
   "metadata": {},
   "outputs": [
    {
     "data": {
      "text/html": [
       "<div>\n",
       "<style scoped>\n",
       "    .dataframe tbody tr th:only-of-type {\n",
       "        vertical-align: middle;\n",
       "    }\n",
       "\n",
       "    .dataframe tbody tr th {\n",
       "        vertical-align: top;\n",
       "    }\n",
       "\n",
       "    .dataframe thead th {\n",
       "        text-align: right;\n",
       "    }\n",
       "</style>\n",
       "<table border=\"1\" class=\"dataframe\">\n",
       "  <thead>\n",
       "    <tr style=\"text-align: right;\">\n",
       "      <th>MSA/Submarket</th>\n",
       "      <th>Dallas/Fort Worth Overall_market</th>\n",
       "      <th>Dallas/Fort Worth Overall_effective</th>\n",
       "    </tr>\n",
       "  </thead>\n",
       "  <tbody>\n",
       "    <tr>\n",
       "      <th>2023-08-31</th>\n",
       "      <td>1.8</td>\n",
       "      <td>1.77</td>\n",
       "    </tr>\n",
       "    <tr>\n",
       "      <th>2023-09-30</th>\n",
       "      <td>1.79</td>\n",
       "      <td>1.77</td>\n",
       "    </tr>\n",
       "    <tr>\n",
       "      <th>2023-10-31</th>\n",
       "      <td>1.78</td>\n",
       "      <td>1.76</td>\n",
       "    </tr>\n",
       "    <tr>\n",
       "      <th>2023-11-30</th>\n",
       "      <td>1.77</td>\n",
       "      <td>1.74</td>\n",
       "    </tr>\n",
       "    <tr>\n",
       "      <th>2023-12-31</th>\n",
       "      <td>1.77</td>\n",
       "      <td>1.74</td>\n",
       "    </tr>\n",
       "    <tr>\n",
       "      <th>2024-01-31</th>\n",
       "      <td>1.76</td>\n",
       "      <td>1.73</td>\n",
       "    </tr>\n",
       "    <tr>\n",
       "      <th>2024-02-29</th>\n",
       "      <td>1.76</td>\n",
       "      <td>1.72</td>\n",
       "    </tr>\n",
       "    <tr>\n",
       "      <th>2024-03-31</th>\n",
       "      <td>1.76</td>\n",
       "      <td>1.72</td>\n",
       "    </tr>\n",
       "    <tr>\n",
       "      <th>2024-04-30</th>\n",
       "      <td>1.76</td>\n",
       "      <td>1.73</td>\n",
       "    </tr>\n",
       "    <tr>\n",
       "      <th>2024-05-31</th>\n",
       "      <td>1.77</td>\n",
       "      <td>1.73</td>\n",
       "    </tr>\n",
       "    <tr>\n",
       "      <th>2024-06-30</th>\n",
       "      <td>1.77</td>\n",
       "      <td>1.73</td>\n",
       "    </tr>\n",
       "    <tr>\n",
       "      <th>2024-07-31</th>\n",
       "      <td>1.77</td>\n",
       "      <td>1.73</td>\n",
       "    </tr>\n",
       "  </tbody>\n",
       "</table>\n",
       "</div>"
      ],
      "text/plain": [
       "MSA/Submarket Dallas/Fort Worth Overall_market  \\\n",
       "2023-08-31                                 1.8   \n",
       "2023-09-30                                1.79   \n",
       "2023-10-31                                1.78   \n",
       "2023-11-30                                1.77   \n",
       "2023-12-31                                1.77   \n",
       "2024-01-31                                1.76   \n",
       "2024-02-29                                1.76   \n",
       "2024-03-31                                1.76   \n",
       "2024-04-30                                1.76   \n",
       "2024-05-31                                1.77   \n",
       "2024-06-30                                1.77   \n",
       "2024-07-31                                1.77   \n",
       "\n",
       "MSA/Submarket Dallas/Fort Worth Overall_effective  \n",
       "2023-08-31                                   1.77  \n",
       "2023-09-30                                   1.77  \n",
       "2023-10-31                                   1.76  \n",
       "2023-11-30                                   1.74  \n",
       "2023-12-31                                   1.74  \n",
       "2024-01-31                                   1.73  \n",
       "2024-02-29                                   1.72  \n",
       "2024-03-31                                   1.72  \n",
       "2024-04-30                                   1.73  \n",
       "2024-05-31                                   1.73  \n",
       "2024-06-30                                   1.73  \n",
       "2024-07-31                                   1.73  "
      ]
     },
     "execution_count": 27,
     "metadata": {},
     "output_type": "execute_result"
    }
   ],
   "source": [
    "market = 'Dallas/Fort Worth Overall'\n",
    "df_filtered = df[df['MSA/Submarket'].str.contains(market)].drop('Unnamed: 0',axis=1)\n",
    "df_filtered.index = df_filtered['MSA/Submarket']\n",
    "transposed_df = df_filtered.T\n",
    "transposed_df.drop('MSA/Submarket',axis=0)"
   ]
  },
  {
   "cell_type": "code",
   "execution_count": 28,
   "id": "8f8566a2-286d-481d-950c-0fd844741f46",
   "metadata": {},
   "outputs": [],
   "source": [
    "transposed_df.columns = ['y','m']\n",
    "transposed_df['ds'] = transposed_df.index\n",
    "transposed_df.drop('MSA/Submarket',axis=0,inplace=True)\n",
    "transposed_df['ds'] = pd.to_datetime(transposed_df['ds'])"
   ]
  },
  {
   "cell_type": "code",
   "execution_count": 29,
   "id": "cd45d2c8-6150-46a1-b307-ee967c925d37",
   "metadata": {},
   "outputs": [
    {
     "name": "stderr",
     "output_type": "stream",
     "text": [
      "22:54:30 - cmdstanpy - INFO - Chain [1] start processing\n",
      "22:54:30 - cmdstanpy - INFO - Chain [1] done processing\n"
     ]
    },
    {
     "data": {
      "text/plain": [
       "<prophet.forecaster.Prophet at 0x1c613c0fd60>"
      ]
     },
     "execution_count": 29,
     "metadata": {},
     "output_type": "execute_result"
    }
   ],
   "source": [
    "m1 = Prophet()\n",
    "m1.fit(transposed_df)"
   ]
  },
  {
   "cell_type": "code",
   "execution_count": 30,
   "id": "4e2beb4f-10e7-411b-ac4a-63d558c6e63b",
   "metadata": {},
   "outputs": [
    {
     "name": "stderr",
     "output_type": "stream",
     "text": [
      "C:\\Users\\baker\\Anaconda3\\envs\\realty-env\\lib\\site-packages\\prophet\\forecaster.py:1854: FutureWarning: 'M' is deprecated and will be removed in a future version, please use 'ME' instead.\n",
      "  dates = pd.date_range(\n"
     ]
    },
    {
     "data": {
      "text/html": [
       "<div>\n",
       "<style scoped>\n",
       "    .dataframe tbody tr th:only-of-type {\n",
       "        vertical-align: middle;\n",
       "    }\n",
       "\n",
       "    .dataframe tbody tr th {\n",
       "        vertical-align: top;\n",
       "    }\n",
       "\n",
       "    .dataframe thead th {\n",
       "        text-align: right;\n",
       "    }\n",
       "</style>\n",
       "<table border=\"1\" class=\"dataframe\">\n",
       "  <thead>\n",
       "    <tr style=\"text-align: right;\">\n",
       "      <th></th>\n",
       "      <th>ds</th>\n",
       "      <th>yhat</th>\n",
       "      <th>yhat_lower</th>\n",
       "      <th>yhat_upper</th>\n",
       "    </tr>\n",
       "  </thead>\n",
       "  <tbody>\n",
       "    <tr>\n",
       "      <th>12</th>\n",
       "      <td>2024-08-31</td>\n",
       "      <td>1.774981</td>\n",
       "      <td>1.772142</td>\n",
       "      <td>1.777929</td>\n",
       "    </tr>\n",
       "    <tr>\n",
       "      <th>13</th>\n",
       "      <td>2024-09-30</td>\n",
       "      <td>1.777903</td>\n",
       "      <td>1.771570</td>\n",
       "      <td>1.784849</td>\n",
       "    </tr>\n",
       "    <tr>\n",
       "      <th>14</th>\n",
       "      <td>2024-10-31</td>\n",
       "      <td>1.780924</td>\n",
       "      <td>1.768434</td>\n",
       "      <td>1.793494</td>\n",
       "    </tr>\n",
       "    <tr>\n",
       "      <th>15</th>\n",
       "      <td>2024-11-30</td>\n",
       "      <td>1.783846</td>\n",
       "      <td>1.763560</td>\n",
       "      <td>1.803855</td>\n",
       "    </tr>\n",
       "    <tr>\n",
       "      <th>16</th>\n",
       "      <td>2024-12-31</td>\n",
       "      <td>1.786866</td>\n",
       "      <td>1.757997</td>\n",
       "      <td>1.814046</td>\n",
       "    </tr>\n",
       "  </tbody>\n",
       "</table>\n",
       "</div>"
      ],
      "text/plain": [
       "           ds      yhat  yhat_lower  yhat_upper\n",
       "12 2024-08-31  1.774981    1.772142    1.777929\n",
       "13 2024-09-30  1.777903    1.771570    1.784849\n",
       "14 2024-10-31  1.780924    1.768434    1.793494\n",
       "15 2024-11-30  1.783846    1.763560    1.803855\n",
       "16 2024-12-31  1.786866    1.757997    1.814046"
      ]
     },
     "execution_count": 30,
     "metadata": {},
     "output_type": "execute_result"
    }
   ],
   "source": [
    "future = m1.make_future_dataframe(periods=5,freq='M')\n",
    "forecast_df = m1.predict(future)\n",
    "forecast_df[['ds','yhat', 'yhat_lower', 'yhat_upper']].tail()"
   ]
  },
  {
   "cell_type": "code",
   "execution_count": 31,
   "id": "c1d871c9-705f-4c64-b33c-694c04dd8b34",
   "metadata": {},
   "outputs": [
    {
     "data": {
      "text/html": [
       "<div>\n",
       "<style scoped>\n",
       "    .dataframe tbody tr th:only-of-type {\n",
       "        vertical-align: middle;\n",
       "    }\n",
       "\n",
       "    .dataframe tbody tr th {\n",
       "        vertical-align: top;\n",
       "    }\n",
       "\n",
       "    .dataframe thead th {\n",
       "        text-align: right;\n",
       "    }\n",
       "</style>\n",
       "<table border=\"1\" class=\"dataframe\">\n",
       "  <thead>\n",
       "    <tr style=\"text-align: right;\">\n",
       "      <th></th>\n",
       "      <th>m</th>\n",
       "      <th>y</th>\n",
       "      <th>ds</th>\n",
       "    </tr>\n",
       "  </thead>\n",
       "  <tbody>\n",
       "    <tr>\n",
       "      <th>2023-08-31</th>\n",
       "      <td>1.8</td>\n",
       "      <td>1.77</td>\n",
       "      <td>2023-08-31</td>\n",
       "    </tr>\n",
       "    <tr>\n",
       "      <th>2023-09-30</th>\n",
       "      <td>1.79</td>\n",
       "      <td>1.77</td>\n",
       "      <td>2023-09-30</td>\n",
       "    </tr>\n",
       "    <tr>\n",
       "      <th>2023-10-31</th>\n",
       "      <td>1.78</td>\n",
       "      <td>1.76</td>\n",
       "      <td>2023-10-31</td>\n",
       "    </tr>\n",
       "    <tr>\n",
       "      <th>2023-11-30</th>\n",
       "      <td>1.77</td>\n",
       "      <td>1.74</td>\n",
       "      <td>2023-11-30</td>\n",
       "    </tr>\n",
       "    <tr>\n",
       "      <th>2023-12-31</th>\n",
       "      <td>1.77</td>\n",
       "      <td>1.74</td>\n",
       "      <td>2023-12-31</td>\n",
       "    </tr>\n",
       "    <tr>\n",
       "      <th>2024-01-31</th>\n",
       "      <td>1.76</td>\n",
       "      <td>1.73</td>\n",
       "      <td>2024-01-31</td>\n",
       "    </tr>\n",
       "    <tr>\n",
       "      <th>2024-02-29</th>\n",
       "      <td>1.76</td>\n",
       "      <td>1.72</td>\n",
       "      <td>2024-02-29</td>\n",
       "    </tr>\n",
       "    <tr>\n",
       "      <th>2024-03-31</th>\n",
       "      <td>1.76</td>\n",
       "      <td>1.72</td>\n",
       "      <td>2024-03-31</td>\n",
       "    </tr>\n",
       "    <tr>\n",
       "      <th>2024-04-30</th>\n",
       "      <td>1.76</td>\n",
       "      <td>1.73</td>\n",
       "      <td>2024-04-30</td>\n",
       "    </tr>\n",
       "    <tr>\n",
       "      <th>2024-05-31</th>\n",
       "      <td>1.77</td>\n",
       "      <td>1.73</td>\n",
       "      <td>2024-05-31</td>\n",
       "    </tr>\n",
       "    <tr>\n",
       "      <th>2024-06-30</th>\n",
       "      <td>1.77</td>\n",
       "      <td>1.73</td>\n",
       "      <td>2024-06-30</td>\n",
       "    </tr>\n",
       "    <tr>\n",
       "      <th>2024-07-31</th>\n",
       "      <td>1.77</td>\n",
       "      <td>1.73</td>\n",
       "      <td>2024-07-31</td>\n",
       "    </tr>\n",
       "  </tbody>\n",
       "</table>\n",
       "</div>"
      ],
      "text/plain": [
       "               m     y         ds\n",
       "2023-08-31   1.8  1.77 2023-08-31\n",
       "2023-09-30  1.79  1.77 2023-09-30\n",
       "2023-10-31  1.78  1.76 2023-10-31\n",
       "2023-11-30  1.77  1.74 2023-11-30\n",
       "2023-12-31  1.77  1.74 2023-12-31\n",
       "2024-01-31  1.76  1.73 2024-01-31\n",
       "2024-02-29  1.76  1.72 2024-02-29\n",
       "2024-03-31  1.76  1.72 2024-03-31\n",
       "2024-04-30  1.76  1.73 2024-04-30\n",
       "2024-05-31  1.77  1.73 2024-05-31\n",
       "2024-06-30  1.77  1.73 2024-06-30\n",
       "2024-07-31  1.77  1.73 2024-07-31"
      ]
     },
     "execution_count": 31,
     "metadata": {},
     "output_type": "execute_result"
    }
   ],
   "source": [
    "transposed_df.columns = ['m','y','ds']\n",
    "transposed_df"
   ]
  },
  {
   "cell_type": "code",
   "execution_count": 32,
   "id": "c0e7ade3-b98f-4aef-b60b-b953e3127cd2",
   "metadata": {},
   "outputs": [
    {
     "name": "stderr",
     "output_type": "stream",
     "text": [
      "22:54:30 - cmdstanpy - INFO - Chain [1] start processing\n",
      "22:54:31 - cmdstanpy - INFO - Chain [1] done processing\n"
     ]
    },
    {
     "data": {
      "text/plain": [
       "<prophet.forecaster.Prophet at 0x1c613bcfee0>"
      ]
     },
     "execution_count": 32,
     "metadata": {},
     "output_type": "execute_result"
    }
   ],
   "source": [
    "m2 = Prophet()\n",
    "m2.add_regressor('m')\n",
    "m2.fit(transposed_df)"
   ]
  },
  {
   "cell_type": "code",
   "execution_count": 33,
   "id": "2b19fb18-bd04-479f-b77e-eea10eebc517",
   "metadata": {},
   "outputs": [
    {
     "name": "stderr",
     "output_type": "stream",
     "text": [
      "C:\\Users\\baker\\Anaconda3\\envs\\realty-env\\lib\\site-packages\\prophet\\forecaster.py:1854: FutureWarning: 'M' is deprecated and will be removed in a future version, please use 'ME' instead.\n",
      "  dates = pd.date_range(\n"
     ]
    }
   ],
   "source": [
    "future = m2.make_future_dataframe(periods=5,freq='M')\n",
    "future['m'] = forecast_df['yhat']"
   ]
  },
  {
   "cell_type": "code",
   "execution_count": 34,
   "id": "eaeaebcf-16af-4349-9226-dfed85820394",
   "metadata": {},
   "outputs": [],
   "source": [
    "future_preds = m2.predict(future)"
   ]
  },
  {
   "cell_type": "code",
   "execution_count": 35,
   "id": "577a40a1-1274-4474-a19a-ccaff6b222d1",
   "metadata": {},
   "outputs": [
    {
     "data": {
      "text/html": [
       "<div>\n",
       "<style scoped>\n",
       "    .dataframe tbody tr th:only-of-type {\n",
       "        vertical-align: middle;\n",
       "    }\n",
       "\n",
       "    .dataframe tbody tr th {\n",
       "        vertical-align: top;\n",
       "    }\n",
       "\n",
       "    .dataframe thead th {\n",
       "        text-align: right;\n",
       "    }\n",
       "</style>\n",
       "<table border=\"1\" class=\"dataframe\">\n",
       "  <thead>\n",
       "    <tr style=\"text-align: right;\">\n",
       "      <th></th>\n",
       "      <th>ds</th>\n",
       "      <th>m</th>\n",
       "      <th>yhat</th>\n",
       "      <th>yhat_lower</th>\n",
       "      <th>yhat_upper</th>\n",
       "    </tr>\n",
       "  </thead>\n",
       "  <tbody>\n",
       "    <tr>\n",
       "      <th>12</th>\n",
       "      <td>2024-08-31</td>\n",
       "      <td>1.730973e-17</td>\n",
       "      <td>1.73</td>\n",
       "      <td>1.723826</td>\n",
       "      <td>1.736650</td>\n",
       "    </tr>\n",
       "    <tr>\n",
       "      <th>13</th>\n",
       "      <td>2024-09-30</td>\n",
       "      <td>3.257478e-17</td>\n",
       "      <td>1.73</td>\n",
       "      <td>1.708534</td>\n",
       "      <td>1.751192</td>\n",
       "    </tr>\n",
       "    <tr>\n",
       "      <th>14</th>\n",
       "      <td>2024-10-31</td>\n",
       "      <td>4.834868e-17</td>\n",
       "      <td>1.73</td>\n",
       "      <td>1.686986</td>\n",
       "      <td>1.769811</td>\n",
       "    </tr>\n",
       "    <tr>\n",
       "      <th>15</th>\n",
       "      <td>2024-11-30</td>\n",
       "      <td>6.361373e-17</td>\n",
       "      <td>1.73</td>\n",
       "      <td>1.663859</td>\n",
       "      <td>1.794245</td>\n",
       "    </tr>\n",
       "    <tr>\n",
       "      <th>16</th>\n",
       "      <td>2024-12-31</td>\n",
       "      <td>7.938762e-17</td>\n",
       "      <td>1.73</td>\n",
       "      <td>1.636066</td>\n",
       "      <td>1.821114</td>\n",
       "    </tr>\n",
       "  </tbody>\n",
       "</table>\n",
       "</div>"
      ],
      "text/plain": [
       "           ds             m  yhat  yhat_lower  yhat_upper\n",
       "12 2024-08-31  1.730973e-17  1.73    1.723826    1.736650\n",
       "13 2024-09-30  3.257478e-17  1.73    1.708534    1.751192\n",
       "14 2024-10-31  4.834868e-17  1.73    1.686986    1.769811\n",
       "15 2024-11-30  6.361373e-17  1.73    1.663859    1.794245\n",
       "16 2024-12-31  7.938762e-17  1.73    1.636066    1.821114"
      ]
     },
     "execution_count": 35,
     "metadata": {},
     "output_type": "execute_result"
    }
   ],
   "source": [
    "future_preds[['ds','m','yhat', 'yhat_lower', 'yhat_upper']].tail()"
   ]
  },
  {
   "cell_type": "code",
   "execution_count": null,
   "id": "67f8f67e-d5cb-462f-8278-339edfdab8c8",
   "metadata": {},
   "outputs": [],
   "source": []
  },
  {
   "cell_type": "code",
   "execution_count": 47,
   "id": "210a825a-5cd6-458e-979c-1da9acac3942",
   "metadata": {},
   "outputs": [
    {
     "name": "stderr",
     "output_type": "stream",
     "text": [
      "23:23:11 - cmdstanpy - INFO - Chain [1] start processing\n",
      "23:23:12 - cmdstanpy - INFO - Chain [1] done processing\n",
      "C:\\Users\\baker\\Anaconda3\\envs\\realty-env\\lib\\site-packages\\prophet\\forecaster.py:1854: FutureWarning: 'M' is deprecated and will be removed in a future version, please use 'ME' instead.\n",
      "  dates = pd.date_range(\n",
      "23:23:12 - cmdstanpy - INFO - Chain [1] start processing\n"
     ]
    },
    {
     "name": "stdout",
     "output_type": "stream",
     "text": [
      "           ds      yhat  yhat_lower  yhat_upper\n",
      "12 2024-08-31  1.782942    1.776166    1.789703\n",
      "13 2024-09-30  1.783431    1.772875    1.794287\n",
      "14 2024-10-31  1.783937    1.765590    1.803707\n",
      "15 2024-11-30  1.784427    1.756168    1.813741\n",
      "16 2024-12-31  1.784932    1.745487    1.826961\n"
     ]
    },
    {
     "name": "stderr",
     "output_type": "stream",
     "text": [
      "23:23:12 - cmdstanpy - INFO - Chain [1] done processing\n",
      "C:\\Users\\baker\\Anaconda3\\envs\\realty-env\\lib\\site-packages\\prophet\\forecaster.py:1854: FutureWarning: 'M' is deprecated and will be removed in a future version, please use 'ME' instead.\n",
      "  dates = pd.date_range(\n",
      "23:23:12 - cmdstanpy - INFO - Chain [1] start processing\n",
      "23:23:12 - cmdstanpy - INFO - Chain [1] done processing\n"
     ]
    },
    {
     "name": "stdout",
     "output_type": "stream",
     "text": [
      "           ds         m      yhat  yhat_lower  yhat_upper\n",
      "12 2024-08-31  0.002942  1.742942    1.736576    1.749820\n",
      "13 2024-09-30  0.003431  1.743432    1.721123    1.765924\n",
      "14 2024-10-31  0.003937  1.743938    1.700806    1.790267\n",
      "15 2024-11-30  0.004427  1.744427    1.676706    1.817677\n",
      "16 2024-12-31  0.004933  1.744933    1.649033    1.850686\n",
      "Lewisville_Coppell\n"
     ]
    },
    {
     "name": "stderr",
     "output_type": "stream",
     "text": [
      "C:\\Users\\baker\\Anaconda3\\envs\\realty-env\\lib\\site-packages\\prophet\\forecaster.py:1854: FutureWarning: 'M' is deprecated and will be removed in a future version, please use 'ME' instead.\n",
      "  dates = pd.date_range(\n",
      "23:23:13 - cmdstanpy - INFO - Chain [1] start processing\n"
     ]
    },
    {
     "name": "stdout",
     "output_type": "stream",
     "text": [
      "           ds      yhat  yhat_lower  yhat_upper\n",
      "12 2024-08-31  1.774981    1.771979    1.778242\n",
      "13 2024-09-30  1.777903    1.771049    1.783823\n",
      "14 2024-10-31  1.780924    1.767706    1.792754\n",
      "15 2024-11-30  1.783846    1.763705    1.802996\n",
      "16 2024-12-31  1.786866    1.757375    1.813326\n"
     ]
    },
    {
     "name": "stderr",
     "output_type": "stream",
     "text": [
      "23:23:13 - cmdstanpy - INFO - Chain [1] done processing\n",
      "C:\\Users\\baker\\Anaconda3\\envs\\realty-env\\lib\\site-packages\\prophet\\forecaster.py:1854: FutureWarning: 'M' is deprecated and will be removed in a future version, please use 'ME' instead.\n",
      "  dates = pd.date_range(\n",
      "23:23:13 - cmdstanpy - INFO - Chain [1] start processing\n"
     ]
    },
    {
     "name": "stdout",
     "output_type": "stream",
     "text": [
      "           ds             m  yhat  yhat_lower  yhat_upper\n",
      "12 2024-08-31  1.730973e-17  1.73    1.723980    1.736065\n",
      "13 2024-09-30  3.257478e-17  1.73    1.709919    1.749088\n",
      "14 2024-10-31  4.834868e-17  1.73    1.690169    1.767775\n",
      "15 2024-11-30  6.361373e-17  1.73    1.669419    1.789880\n",
      "16 2024-12-31  7.938762e-17  1.73    1.647402    1.819715\n",
      "Dallas_Fort_Worth_Overall\n"
     ]
    },
    {
     "name": "stderr",
     "output_type": "stream",
     "text": [
      "23:23:13 - cmdstanpy - INFO - Chain [1] done processing\n",
      "C:\\Users\\baker\\Anaconda3\\envs\\realty-env\\lib\\site-packages\\prophet\\forecaster.py:1854: FutureWarning: 'M' is deprecated and will be removed in a future version, please use 'ME' instead.\n",
      "  dates = pd.date_range(\n",
      "23:23:13 - cmdstanpy - INFO - Chain [1] start processing\n"
     ]
    },
    {
     "name": "stdout",
     "output_type": "stream",
     "text": [
      "           ds      yhat  yhat_lower  yhat_upper\n",
      "12 2024-08-31  1.463224    1.455227    1.470275\n",
      "13 2024-09-30  1.463743    1.449600    1.478958\n",
      "14 2024-10-31  1.464281    1.438448    1.492226\n",
      "15 2024-11-30  1.464800    1.423037    1.507512\n",
      "16 2024-12-31  1.465337    1.406253    1.527536\n"
     ]
    },
    {
     "name": "stderr",
     "output_type": "stream",
     "text": [
      "23:23:13 - cmdstanpy - INFO - Chain [1] done processing\n",
      "C:\\Users\\baker\\Anaconda3\\envs\\realty-env\\lib\\site-packages\\prophet\\forecaster.py:1854: FutureWarning: 'M' is deprecated and will be removed in a future version, please use 'ME' instead.\n",
      "  dates = pd.date_range(\n",
      "23:23:14 - cmdstanpy - INFO - Chain [1] start processing\n"
     ]
    },
    {
     "name": "stdout",
     "output_type": "stream",
     "text": [
      "           ds         m      yhat  yhat_lower  yhat_upper\n",
      "12 2024-08-31  0.031103  1.417533    1.410842    1.424406\n",
      "13 2024-09-30  0.031660  1.417146    1.410301    1.423743\n",
      "14 2024-10-31  0.032235  1.416747    1.409828    1.423620\n",
      "15 2024-11-30  0.032791  1.416360    1.409664    1.422937\n",
      "16 2024-12-31  0.033366  1.415960    1.409405    1.423012\n",
      "East_Fort_Worth\n"
     ]
    },
    {
     "name": "stderr",
     "output_type": "stream",
     "text": [
      "23:23:14 - cmdstanpy - INFO - Chain [1] done processing\n",
      "C:\\Users\\baker\\Anaconda3\\envs\\realty-env\\lib\\site-packages\\prophet\\forecaster.py:1854: FutureWarning: 'M' is deprecated and will be removed in a future version, please use 'ME' instead.\n",
      "  dates = pd.date_range(\n",
      "23:23:14 - cmdstanpy - INFO - Chain [1] start processing\n",
      "23:23:14 - cmdstanpy - INFO - Chain [1] done processing\n"
     ]
    },
    {
     "name": "stdout",
     "output_type": "stream",
     "text": [
      "           ds      yhat  yhat_lower  yhat_upper\n",
      "12 2024-08-31  1.704979    1.698629    1.711910\n",
      "13 2024-09-30  1.707903    1.687447    1.730617\n",
      "14 2024-10-31  1.710924    1.669645    1.753246\n",
      "15 2024-11-30  1.713847    1.647474    1.778310\n",
      "16 2024-12-31  1.716868    1.622225    1.810369\n"
     ]
    },
    {
     "name": "stderr",
     "output_type": "stream",
     "text": [
      "C:\\Users\\baker\\Anaconda3\\envs\\realty-env\\lib\\site-packages\\prophet\\forecaster.py:1854: FutureWarning: 'M' is deprecated and will be removed in a future version, please use 'ME' instead.\n",
      "  dates = pd.date_range(\n",
      "23:23:14 - cmdstanpy - INFO - Chain [1] start processing\n",
      "23:23:14 - cmdstanpy - INFO - Chain [1] done processing\n"
     ]
    },
    {
     "name": "stdout",
     "output_type": "stream",
     "text": [
      "           ds         m      yhat  yhat_lower  yhat_upper\n",
      "12 2024-08-31  0.000738  1.681375    1.676023    1.686550\n",
      "13 2024-09-30  0.003393  1.685078    1.679193    1.690386\n",
      "14 2024-10-31  0.006136  1.688904    1.682391    1.695815\n",
      "15 2024-11-30  0.008791  1.692607    1.684203    1.700520\n",
      "16 2024-12-31  0.011535  1.696433    1.686072    1.706605\n",
      "Mid-Cities\n"
     ]
    },
    {
     "name": "stderr",
     "output_type": "stream",
     "text": [
      "C:\\Users\\baker\\Anaconda3\\envs\\realty-env\\lib\\site-packages\\prophet\\forecaster.py:1854: FutureWarning: 'M' is deprecated and will be removed in a future version, please use 'ME' instead.\n",
      "  dates = pd.date_range(\n",
      "23:23:15 - cmdstanpy - INFO - Chain [1] start processing\n"
     ]
    },
    {
     "name": "stdout",
     "output_type": "stream",
     "text": [
      "           ds      yhat  yhat_lower  yhat_upper\n",
      "12 2024-08-31  1.869607    1.865678    1.873934\n",
      "13 2024-09-30  1.872316    1.859943    1.884244\n",
      "14 2024-10-31  1.875116    1.849244    1.898204\n",
      "15 2024-11-30  1.877826    1.836150    1.915363\n",
      "16 2024-12-31  1.880626    1.823893    1.935074\n"
     ]
    },
    {
     "name": "stderr",
     "output_type": "stream",
     "text": [
      "23:23:15 - cmdstanpy - INFO - Chain [1] done processing\n",
      "C:\\Users\\baker\\Anaconda3\\envs\\realty-env\\lib\\site-packages\\prophet\\forecaster.py:1854: FutureWarning: 'M' is deprecated and will be removed in a future version, please use 'ME' instead.\n",
      "  dates = pd.date_range(\n",
      "23:23:15 - cmdstanpy - INFO - Chain [1] start processing\n",
      "23:23:15 - cmdstanpy - INFO - Chain [1] done processing\n"
     ]
    },
    {
     "name": "stdout",
     "output_type": "stream",
     "text": [
      "           ds         m      yhat  yhat_lower  yhat_upper\n",
      "12 2024-08-31 -0.009424  1.799271    1.795310    1.803595\n",
      "13 2024-09-30 -0.007443  1.799919    1.791362    1.809366\n",
      "14 2024-10-31 -0.005397  1.800588    1.782046    1.818243\n",
      "15 2024-11-30 -0.003417  1.801235    1.772822    1.829297\n",
      "16 2024-12-31 -0.001370  1.801904    1.763388    1.843835\n",
      "Frisco_The_Colony\n",
      "           ds      yhat  yhat_lower  yhat_upper\n",
      "12 2024-08-31  1.709407    1.704994    1.713846\n",
      "13 2024-09-30  1.710031    1.703127    1.716820\n",
      "14 2024-10-31  1.710676    1.698583    1.722160\n",
      "15 2024-11-30  1.711300    1.693941    1.728862\n",
      "16 2024-12-31  1.711945    1.687050    1.738380\n"
     ]
    },
    {
     "name": "stderr",
     "output_type": "stream",
     "text": [
      "C:\\Users\\baker\\Anaconda3\\envs\\realty-env\\lib\\site-packages\\prophet\\forecaster.py:1854: FutureWarning: 'M' is deprecated and will be removed in a future version, please use 'ME' instead.\n",
      "  dates = pd.date_range(\n",
      "23:23:15 - cmdstanpy - INFO - Chain [1] start processing\n",
      "23:23:15 - cmdstanpy - INFO - Chain [1] done processing\n",
      "C:\\Users\\baker\\Anaconda3\\envs\\realty-env\\lib\\site-packages\\prophet\\forecaster.py:1854: FutureWarning: 'M' is deprecated and will be removed in a future version, please use 'ME' instead.\n",
      "  dates = pd.date_range(\n",
      "23:23:15 - cmdstanpy - INFO - Chain [1] start processing\n"
     ]
    },
    {
     "name": "stdout",
     "output_type": "stream",
     "text": [
      "           ds         m      yhat  yhat_lower  yhat_upper\n",
      "12 2024-08-31  0.000109  1.679433    1.674364    1.684620\n",
      "13 2024-09-30  0.000102  1.685969    1.672682    1.701155\n",
      "14 2024-10-31  0.000094  1.692723    1.667455    1.720151\n",
      "15 2024-11-30  0.000086  1.699258    1.660696    1.743661\n",
      "16 2024-12-31  0.000078  1.706012    1.650157    1.764733\n",
      "South_Arlington\n"
     ]
    },
    {
     "name": "stderr",
     "output_type": "stream",
     "text": [
      "23:23:16 - cmdstanpy - INFO - Chain [1] done processing\n",
      "C:\\Users\\baker\\Anaconda3\\envs\\realty-env\\lib\\site-packages\\prophet\\forecaster.py:1854: FutureWarning: 'M' is deprecated and will be removed in a future version, please use 'ME' instead.\n",
      "  dates = pd.date_range(\n",
      "23:23:16 - cmdstanpy - INFO - Chain [1] start processing\n",
      "23:23:16 - cmdstanpy - INFO - Chain [1] done processing\n",
      "C:\\Users\\baker\\Anaconda3\\envs\\realty-env\\lib\\site-packages\\prophet\\forecaster.py:1854: FutureWarning: 'M' is deprecated and will be removed in a future version, please use 'ME' instead.\n",
      "  dates = pd.date_range(\n"
     ]
    },
    {
     "name": "stdout",
     "output_type": "stream",
     "text": [
      "           ds      yhat  yhat_lower  yhat_upper\n",
      "12 2024-08-31  1.761552    1.750810    1.771946\n",
      "13 2024-09-30  1.771955    1.759655    1.784993\n",
      "14 2024-10-31  1.782704    1.766434    1.800041\n",
      "15 2024-11-30  1.793106    1.771560    1.815750\n",
      "16 2024-12-31  1.803855    1.775240    1.835095\n"
     ]
    },
    {
     "name": "stderr",
     "output_type": "stream",
     "text": [
      "23:23:16 - cmdstanpy - INFO - Chain [1] start processing\n",
      "23:23:16 - cmdstanpy - INFO - Chain [1] done processing\n"
     ]
    },
    {
     "name": "stdout",
     "output_type": "stream",
     "text": [
      "           ds         m      yhat  yhat_lower  yhat_upper\n",
      "12 2024-08-31  0.032191  1.697399    1.692664    1.702706\n",
      "13 2024-09-30  0.040415  1.702300    1.686408    1.719260\n",
      "14 2024-10-31  0.048913  1.707365    1.675872    1.740073\n",
      "15 2024-11-30  0.057137  1.712266    1.661868    1.763537\n",
      "16 2024-12-31  0.065635  1.717331    1.645185    1.790402\n",
      "Denton\n"
     ]
    },
    {
     "name": "stderr",
     "output_type": "stream",
     "text": [
      "C:\\Users\\baker\\Anaconda3\\envs\\realty-env\\lib\\site-packages\\prophet\\forecaster.py:1854: FutureWarning: 'M' is deprecated and will be removed in a future version, please use 'ME' instead.\n",
      "  dates = pd.date_range(\n",
      "23:23:16 - cmdstanpy - INFO - Chain [1] start processing\n",
      "23:23:16 - cmdstanpy - INFO - Chain [1] done processing\n",
      "C:\\Users\\baker\\Anaconda3\\envs\\realty-env\\lib\\site-packages\\prophet\\forecaster.py:1854: FutureWarning: 'M' is deprecated and will be removed in a future version, please use 'ME' instead.\n",
      "  dates = pd.date_range(\n"
     ]
    },
    {
     "name": "stdout",
     "output_type": "stream",
     "text": [
      "           ds      yhat  yhat_lower  yhat_upper\n",
      "12 2024-08-31  1.628434    1.623727    1.632964\n",
      "13 2024-09-30  1.633514    1.628177    1.638337\n",
      "14 2024-10-31  1.638762    1.632266    1.644685\n",
      "15 2024-11-30  1.643841    1.635206    1.651452\n",
      "16 2024-12-31  1.649090    1.638381    1.659482\n",
      "           ds         m      yhat  yhat_lower  yhat_upper\n",
      "12 2024-08-31  0.003125  1.594454    1.591563    1.597529\n",
      "13 2024-09-30  0.004238  1.600012    1.591171    1.608585\n",
      "14 2024-10-31  0.005387  1.605755    1.588786    1.621916\n",
      "15 2024-11-30  0.006500  1.611312    1.584994    1.636781\n",
      "16 2024-12-31  0.007649  1.617055    1.580065    1.654947\n",
      "North_Richland_Hills_Hurst\n"
     ]
    },
    {
     "name": "stderr",
     "output_type": "stream",
     "text": [
      "23:23:16 - cmdstanpy - INFO - Chain [1] start processing\n",
      "23:23:16 - cmdstanpy - INFO - Chain [1] done processing\n",
      "C:\\Users\\baker\\Anaconda3\\envs\\realty-env\\lib\\site-packages\\prophet\\forecaster.py:1854: FutureWarning: 'M' is deprecated and will be removed in a future version, please use 'ME' instead.\n",
      "  dates = pd.date_range(\n",
      "23:23:17 - cmdstanpy - INFO - Chain [1] start processing\n"
     ]
    },
    {
     "name": "stdout",
     "output_type": "stream",
     "text": [
      "           ds      yhat  yhat_lower  yhat_upper\n",
      "12 2024-08-31  1.574955    1.570832    1.578938\n",
      "13 2024-09-30  1.575880    1.568391    1.583341\n",
      "14 2024-10-31  1.576835    1.563284    1.591397\n",
      "15 2024-11-30  1.577760    1.556687    1.600491\n",
      "16 2024-12-31  1.578716    1.548763    1.612183\n"
     ]
    },
    {
     "name": "stderr",
     "output_type": "stream",
     "text": [
      "23:23:21 - cmdstanpy - INFO - Chain [1] done processing\n",
      "C:\\Users\\baker\\Anaconda3\\envs\\realty-env\\lib\\site-packages\\prophet\\forecaster.py:1854: FutureWarning: 'M' is deprecated and will be removed in a future version, please use 'ME' instead.\n",
      "  dates = pd.date_range(\n",
      "23:23:21 - cmdstanpy - INFO - Chain [1] start processing\n",
      "23:23:21 - cmdstanpy - INFO - Chain [1] done processing\n"
     ]
    },
    {
     "name": "stdout",
     "output_type": "stream",
     "text": [
      "           ds         m      yhat  yhat_lower  yhat_upper\n",
      "12 2024-08-31  0.004122  1.554956    1.551930    1.557871\n",
      "13 2024-09-30  0.005047  1.555880    1.545384    1.565842\n",
      "14 2024-10-31  0.006002  1.556836    1.537217    1.576221\n",
      "15 2024-11-30  0.006927  1.557761    1.525689    1.588857\n",
      "16 2024-12-31  0.007883  1.558717    1.511579    1.604915\n",
      "Duncanville_Desoto_Lancaster\n"
     ]
    },
    {
     "name": "stderr",
     "output_type": "stream",
     "text": [
      "C:\\Users\\baker\\Anaconda3\\envs\\realty-env\\lib\\site-packages\\prophet\\forecaster.py:1854: FutureWarning: 'M' is deprecated and will be removed in a future version, please use 'ME' instead.\n",
      "  dates = pd.date_range(\n",
      "23:23:21 - cmdstanpy - INFO - Chain [1] start processing\n",
      "23:23:21 - cmdstanpy - INFO - Chain [1] done processing\n"
     ]
    },
    {
     "name": "stdout",
     "output_type": "stream",
     "text": [
      "           ds      yhat  yhat_lower  yhat_upper\n",
      "12 2024-08-31  1.636444    1.630947    1.641300\n",
      "13 2024-09-30  1.637241    1.629493    1.644701\n",
      "14 2024-10-31  1.638064    1.625935    1.650039\n",
      "15 2024-11-30  1.638861    1.621339    1.656294\n",
      "16 2024-12-31  1.639684    1.615299    1.663149\n"
     ]
    },
    {
     "name": "stderr",
     "output_type": "stream",
     "text": [
      "C:\\Users\\baker\\Anaconda3\\envs\\realty-env\\lib\\site-packages\\prophet\\forecaster.py:1854: FutureWarning: 'M' is deprecated and will be removed in a future version, please use 'ME' instead.\n",
      "  dates = pd.date_range(\n",
      "23:23:21 - cmdstanpy - INFO - Chain [1] start processing\n",
      "23:23:21 - cmdstanpy - INFO - Chain [1] done processing\n"
     ]
    },
    {
     "name": "stdout",
     "output_type": "stream",
     "text": [
      "           ds         m      yhat  yhat_lower  yhat_upper\n",
      "12 2024-08-31 -0.008040  1.620842    1.616271    1.625161\n",
      "13 2024-09-30 -0.007358  1.625212    1.611489    1.639402\n",
      "14 2024-10-31 -0.006653  1.629727    1.604716    1.656681\n",
      "15 2024-11-30 -0.005971  1.634097    1.595983    1.675540\n",
      "16 2024-12-31 -0.005266  1.638613    1.583535    1.697077\n",
      "North_Irving\n"
     ]
    },
    {
     "name": "stderr",
     "output_type": "stream",
     "text": [
      "C:\\Users\\baker\\Anaconda3\\envs\\realty-env\\lib\\site-packages\\prophet\\forecaster.py:1854: FutureWarning: 'M' is deprecated and will be removed in a future version, please use 'ME' instead.\n",
      "  dates = pd.date_range(\n",
      "23:23:21 - cmdstanpy - INFO - Chain [1] start processing\n",
      "23:23:21 - cmdstanpy - INFO - Chain [1] done processing\n",
      "C:\\Users\\baker\\Anaconda3\\envs\\realty-env\\lib\\site-packages\\prophet\\forecaster.py:1854: FutureWarning: 'M' is deprecated and will be removed in a future version, please use 'ME' instead.\n",
      "  dates = pd.date_range(\n"
     ]
    },
    {
     "name": "stdout",
     "output_type": "stream",
     "text": [
      "           ds      yhat  yhat_lower  yhat_upper\n",
      "12 2024-08-31  1.809294    1.804898    1.813419\n",
      "13 2024-09-30  1.806015    1.794130    1.816914\n",
      "14 2024-10-31  1.802626    1.780166    1.824739\n",
      "15 2024-11-30  1.799347    1.762042    1.832849\n",
      "16 2024-12-31  1.795958    1.741092    1.843632\n",
      "           ds         m      yhat  yhat_lower  yhat_upper\n",
      "12 2024-08-31 -0.013386  1.764560    1.762165    1.767072\n",
      "13 2024-09-30 -0.015913  1.757518    1.751792    1.764107\n",
      "14 2024-10-31 -0.018524  1.750241    1.740030    1.761631\n",
      "15 2024-11-30 -0.021051  1.743199    1.726905    1.760897\n",
      "16 2024-12-31 -0.023662  1.735922    1.712765    1.761337\n",
      "Carrollton_North\n"
     ]
    },
    {
     "name": "stderr",
     "output_type": "stream",
     "text": [
      "23:23:22 - cmdstanpy - INFO - Chain [1] start processing\n",
      "23:23:22 - cmdstanpy - INFO - Chain [1] done processing\n",
      "C:\\Users\\baker\\Anaconda3\\envs\\realty-env\\lib\\site-packages\\prophet\\forecaster.py:1854: FutureWarning: 'M' is deprecated and will be removed in a future version, please use 'ME' instead.\n",
      "  dates = pd.date_range(\n",
      "23:23:22 - cmdstanpy - INFO - Chain [1] start processing\n"
     ]
    },
    {
     "name": "stdout",
     "output_type": "stream",
     "text": [
      "           ds      yhat  yhat_lower  yhat_upper\n",
      "12 2024-08-31  1.843524    1.837519    1.849480\n",
      "13 2024-09-30  1.841460    1.833206    1.850399\n",
      "14 2024-10-31  1.839327    1.825811    1.852723\n",
      "15 2024-11-30  1.837263    1.818427    1.858577\n",
      "16 2024-12-31  1.835130    1.808337    1.863441\n"
     ]
    },
    {
     "name": "stderr",
     "output_type": "stream",
     "text": [
      "23:23:22 - cmdstanpy - INFO - Chain [1] done processing\n",
      "C:\\Users\\baker\\Anaconda3\\envs\\realty-env\\lib\\site-packages\\prophet\\forecaster.py:1854: FutureWarning: 'M' is deprecated and will be removed in a future version, please use 'ME' instead.\n",
      "  dates = pd.date_range(\n",
      "23:23:22 - cmdstanpy - INFO - Chain [1] start processing\n"
     ]
    },
    {
     "name": "stdout",
     "output_type": "stream",
     "text": [
      "           ds         m      yhat  yhat_lower  yhat_upper\n",
      "12 2024-08-31 -0.000102  1.789859    1.782694    1.797264\n",
      "13 2024-09-30 -0.000114  1.780066    1.756854    1.803255\n",
      "14 2024-10-31 -0.000126  1.769946    1.724947    1.817506\n",
      "15 2024-11-30 -0.000137  1.760153    1.691435    1.834024\n",
      "16 2024-12-31 -0.000149  1.750034    1.655125    1.853008\n",
      "Plano_East_N._Richardson\n"
     ]
    },
    {
     "name": "stderr",
     "output_type": "stream",
     "text": [
      "23:23:22 - cmdstanpy - INFO - Chain [1] done processing\n",
      "C:\\Users\\baker\\Anaconda3\\envs\\realty-env\\lib\\site-packages\\prophet\\forecaster.py:1854: FutureWarning: 'M' is deprecated and will be removed in a future version, please use 'ME' instead.\n",
      "  dates = pd.date_range(\n",
      "23:23:22 - cmdstanpy - INFO - Chain [1] start processing\n"
     ]
    },
    {
     "name": "stdout",
     "output_type": "stream",
     "text": [
      "           ds      yhat  yhat_lower  yhat_upper\n",
      "12 2024-08-31  1.470809    1.464163    1.477041\n",
      "13 2024-09-30  1.477080    1.469819    1.484252\n",
      "14 2024-10-31  1.483560    1.475046    1.492927\n",
      "15 2024-11-30  1.489831    1.478273    1.501416\n",
      "16 2024-12-31  1.496311    1.481416    1.511582\n"
     ]
    },
    {
     "name": "stderr",
     "output_type": "stream",
     "text": [
      "23:23:23 - cmdstanpy - INFO - Chain [1] done processing\n",
      "C:\\Users\\baker\\Anaconda3\\envs\\realty-env\\lib\\site-packages\\prophet\\forecaster.py:1854: FutureWarning: 'M' is deprecated and will be removed in a future version, please use 'ME' instead.\n",
      "  dates = pd.date_range(\n",
      "23:23:23 - cmdstanpy - INFO - Chain [1] start processing\n",
      "23:23:23 - cmdstanpy - INFO - Chain [1] done processing\n"
     ]
    },
    {
     "name": "stdout",
     "output_type": "stream",
     "text": [
      "           ds         m      yhat  yhat_lower  yhat_upper\n",
      "12 2024-08-31  0.027628  1.436182    1.428328    1.443672\n",
      "13 2024-09-30  0.035337  1.441309    1.433551    1.448813\n",
      "14 2024-10-31  0.043302  1.446608    1.438456    1.454186\n",
      "15 2024-11-30  0.051011  1.451735    1.443068    1.461192\n",
      "16 2024-12-31  0.058977  1.457033    1.447312    1.467324\n",
      "West_Fort_Worth\n"
     ]
    },
    {
     "name": "stderr",
     "output_type": "stream",
     "text": [
      "C:\\Users\\baker\\Anaconda3\\envs\\realty-env\\lib\\site-packages\\prophet\\forecaster.py:1854: FutureWarning: 'M' is deprecated and will be removed in a future version, please use 'ME' instead.\n",
      "  dates = pd.date_range(\n",
      "23:23:23 - cmdstanpy - INFO - Chain [1] start processing\n",
      "23:23:23 - cmdstanpy - INFO - Chain [1] done processing\n",
      "C:\\Users\\baker\\Anaconda3\\envs\\realty-env\\lib\\site-packages\\prophet\\forecaster.py:1854: FutureWarning: 'M' is deprecated and will be removed in a future version, please use 'ME' instead.\n",
      "  dates = pd.date_range(\n"
     ]
    },
    {
     "name": "stdout",
     "output_type": "stream",
     "text": [
      "           ds      yhat  yhat_lower  yhat_upper\n",
      "12 2024-08-31  1.719476    1.714135    1.725037\n",
      "13 2024-09-30  1.720131    1.709461    1.732298\n",
      "14 2024-10-31  1.720807    1.700499    1.741981\n",
      "15 2024-11-30  1.721462    1.688663    1.756346\n",
      "16 2024-12-31  1.722139    1.675505    1.770760\n",
      "           ds         m      yhat  yhat_lower  yhat_upper\n",
      "12 2024-08-31 -0.017322  1.689252    1.684575    1.694072\n",
      "13 2024-09-30 -0.016244  1.687797    1.673143    1.701522\n",
      "14 2024-10-31 -0.015131  1.686294    1.657778    1.713189\n",
      "15 2024-11-30 -0.014053  1.684839    1.640818    1.727317\n",
      "16 2024-12-31 -0.012939  1.683336    1.620981    1.744099\n",
      "Far_North_Dallas-Tollway_West\n"
     ]
    },
    {
     "name": "stderr",
     "output_type": "stream",
     "text": [
      "23:23:23 - cmdstanpy - INFO - Chain [1] start processing\n",
      "23:23:23 - cmdstanpy - INFO - Chain [1] done processing\n",
      "C:\\Users\\baker\\Anaconda3\\envs\\realty-env\\lib\\site-packages\\prophet\\forecaster.py:1854: FutureWarning: 'M' is deprecated and will be removed in a future version, please use 'ME' instead.\n",
      "  dates = pd.date_range(\n",
      "23:23:23 - cmdstanpy - INFO - Chain [1] start processing\n"
     ]
    },
    {
     "name": "stdout",
     "output_type": "stream",
     "text": [
      "           ds      yhat  yhat_lower  yhat_upper\n",
      "12 2024-08-31  1.794899    1.790004    1.800198\n",
      "13 2024-09-30  1.798759    1.782869    1.814498\n",
      "14 2024-10-31  1.802747    1.773137    1.831933\n",
      "15 2024-11-30  1.806606    1.758493    1.852743\n",
      "16 2024-12-31  1.810594    1.743631    1.873407\n"
     ]
    },
    {
     "name": "stderr",
     "output_type": "stream",
     "text": [
      "23:23:24 - cmdstanpy - INFO - Chain [1] done processing\n",
      "C:\\Users\\baker\\Anaconda3\\envs\\realty-env\\lib\\site-packages\\prophet\\forecaster.py:1854: FutureWarning: 'M' is deprecated and will be removed in a future version, please use 'ME' instead.\n",
      "  dates = pd.date_range(\n",
      "23:23:24 - cmdstanpy - INFO - Chain [1] start processing\n"
     ]
    },
    {
     "name": "stdout",
     "output_type": "stream",
     "text": [
      "           ds         m      yhat  yhat_lower  yhat_upper\n",
      "12 2024-08-31  0.004130  1.775253    1.764864    1.785379\n",
      "13 2024-09-30  0.000395  1.781196    1.747412    1.813216\n",
      "14 2024-10-31 -0.003464  1.787336    1.724416    1.852607\n",
      "15 2024-11-30 -0.007199  1.793279    1.695628    1.895702\n",
      "16 2024-12-31 -0.011059  1.799420    1.660014    1.943927\n",
      "Farmers_Branch_East_Addison\n"
     ]
    },
    {
     "name": "stderr",
     "output_type": "stream",
     "text": [
      "23:23:24 - cmdstanpy - INFO - Chain [1] done processing\n",
      "C:\\Users\\baker\\Anaconda3\\envs\\realty-env\\lib\\site-packages\\prophet\\forecaster.py:1854: FutureWarning: 'M' is deprecated and will be removed in a future version, please use 'ME' instead.\n",
      "  dates = pd.date_range(\n",
      "23:23:24 - cmdstanpy - INFO - Chain [1] start processing\n",
      "23:23:24 - cmdstanpy - INFO - Chain [1] done processing\n"
     ]
    },
    {
     "name": "stdout",
     "output_type": "stream",
     "text": [
      "           ds      yhat  yhat_lower  yhat_upper\n",
      "12 2024-08-31  1.504214    1.473116    1.535742\n",
      "13 2024-09-30  1.498705    1.467432    1.532938\n",
      "14 2024-10-31  1.493012    1.461063    1.526376\n",
      "15 2024-11-30  1.487503    1.452278    1.520158\n",
      "16 2024-12-31  1.481810    1.449318    1.514638\n"
     ]
    },
    {
     "name": "stderr",
     "output_type": "stream",
     "text": [
      "C:\\Users\\baker\\Anaconda3\\envs\\realty-env\\lib\\site-packages\\prophet\\forecaster.py:1854: FutureWarning: 'M' is deprecated and will be removed in a future version, please use 'ME' instead.\n",
      "  dates = pd.date_range(\n",
      "23:23:24 - cmdstanpy - INFO - Chain [1] start processing\n"
     ]
    },
    {
     "name": "stdout",
     "output_type": "stream",
     "text": [
      "           ds         m      yhat  yhat_lower  yhat_upper\n",
      "12 2024-08-31 -0.001968  1.445608    1.439405    1.451266\n",
      "13 2024-09-30 -0.002310  1.435110    1.417695    1.452487\n",
      "14 2024-10-31 -0.002665  1.424262    1.391288    1.458877\n",
      "15 2024-11-30 -0.003008  1.413764    1.361995    1.468943\n",
      "16 2024-12-31 -0.003362  1.402917    1.328442    1.480580\n",
      "Skillman_Audelia\n"
     ]
    },
    {
     "name": "stderr",
     "output_type": "stream",
     "text": [
      "23:23:24 - cmdstanpy - INFO - Chain [1] done processing\n",
      "C:\\Users\\baker\\Anaconda3\\envs\\realty-env\\lib\\site-packages\\prophet\\forecaster.py:1854: FutureWarning: 'M' is deprecated and will be removed in a future version, please use 'ME' instead.\n",
      "  dates = pd.date_range(\n",
      "23:23:25 - cmdstanpy - INFO - Chain [1] start processing\n",
      "23:23:25 - cmdstanpy - INFO - Chain [1] done processing\n"
     ]
    },
    {
     "name": "stdout",
     "output_type": "stream",
     "text": [
      "           ds      yhat  yhat_lower  yhat_upper\n",
      "12 2024-08-31  1.870664    1.862991    1.878854\n",
      "13 2024-09-30  1.870656    1.861368    1.879667\n",
      "14 2024-10-31  1.870647    1.857958    1.883978\n",
      "15 2024-11-30  1.870639    1.854044    1.887148\n",
      "16 2024-12-31  1.870630    1.848623    1.893164\n"
     ]
    },
    {
     "name": "stderr",
     "output_type": "stream",
     "text": [
      "C:\\Users\\baker\\Anaconda3\\envs\\realty-env\\lib\\site-packages\\prophet\\forecaster.py:1854: FutureWarning: 'M' is deprecated and will be removed in a future version, please use 'ME' instead.\n",
      "  dates = pd.date_range(\n",
      "23:23:25 - cmdstanpy - INFO - Chain [1] start processing\n",
      "23:23:25 - cmdstanpy - INFO - Chain [1] done processing\n"
     ]
    },
    {
     "name": "stdout",
     "output_type": "stream",
     "text": [
      "           ds         m      yhat  yhat_lower  yhat_upper\n",
      "12 2024-08-31 -0.002615  1.855347    1.850698    1.859727\n",
      "13 2024-09-30 -0.002623  1.861002    1.847091    1.873732\n",
      "14 2024-10-31 -0.002631  1.866845    1.841003    1.890252\n",
      "15 2024-11-30 -0.002639  1.872500    1.831275    1.909961\n",
      "16 2024-12-31 -0.002648  1.878343    1.818302    1.932845\n",
      "Grapevine_Roanoke_Keller\n"
     ]
    },
    {
     "name": "stderr",
     "output_type": "stream",
     "text": [
      "C:\\Users\\baker\\Anaconda3\\envs\\realty-env\\lib\\site-packages\\prophet\\forecaster.py:1854: FutureWarning: 'M' is deprecated and will be removed in a future version, please use 'ME' instead.\n",
      "  dates = pd.date_range(\n",
      "23:23:25 - cmdstanpy - INFO - Chain [1] start processing\n",
      "23:23:25 - cmdstanpy - INFO - Chain [1] done processing\n",
      "C:\\Users\\baker\\Anaconda3\\envs\\realty-env\\lib\\site-packages\\prophet\\forecaster.py:1854: FutureWarning: 'M' is deprecated and will be removed in a future version, please use 'ME' instead.\n",
      "  dates = pd.date_range(\n"
     ]
    },
    {
     "name": "stdout",
     "output_type": "stream",
     "text": [
      "           ds      yhat  yhat_lower  yhat_upper\n",
      "12 2024-08-31  1.724606    1.716245    1.732869\n",
      "13 2024-09-30  1.728294    1.701660    1.756015\n",
      "14 2024-10-31  1.732104    1.679743    1.785606\n",
      "15 2024-11-30  1.735792    1.650735    1.823078\n",
      "16 2024-12-31  1.739602    1.618834    1.866573\n",
      "           ds         m      yhat  yhat_lower  yhat_upper\n",
      "12 2024-08-31 -0.000520  1.659852    1.656022    1.663877\n",
      "13 2024-09-30  0.004351  1.660753    1.650111    1.672440\n",
      "14 2024-10-31  0.009384  1.661685    1.640787    1.683982\n",
      "15 2024-11-30  0.014255  1.662586    1.630160    1.698897\n",
      "16 2024-12-31  0.019288  1.663517    1.615849    1.715161\n",
      "Grand_Prairie_\n"
     ]
    },
    {
     "name": "stderr",
     "output_type": "stream",
     "text": [
      "23:23:25 - cmdstanpy - INFO - Chain [1] start processing\n",
      "23:23:25 - cmdstanpy - INFO - Chain [1] done processing\n",
      "C:\\Users\\baker\\Anaconda3\\envs\\realty-env\\lib\\site-packages\\prophet\\forecaster.py:1854: FutureWarning: 'M' is deprecated and will be removed in a future version, please use 'ME' instead.\n",
      "  dates = pd.date_range(\n",
      "23:23:26 - cmdstanpy - INFO - Chain [1] start processing\n",
      "23:23:26 - cmdstanpy - INFO - Chain [1] done processing\n",
      "C:\\Users\\baker\\Anaconda3\\envs\\realty-env\\lib\\site-packages\\prophet\\forecaster.py:1854: FutureWarning: 'M' is deprecated and will be removed in a future version, please use 'ME' instead.\n",
      "  dates = pd.date_range(\n"
     ]
    },
    {
     "name": "stdout",
     "output_type": "stream",
     "text": [
      "           ds      yhat  yhat_lower  yhat_upper\n",
      "12 2024-08-31  2.076156    2.064625    2.087906\n",
      "13 2024-09-30  2.098036    2.082884    2.114488\n",
      "14 2024-10-31  2.120644    2.097754    2.145877\n",
      "15 2024-11-30  2.142523    2.110241    2.175597\n",
      "16 2024-12-31  2.165132    2.122021    2.214931\n",
      "           ds         m      yhat  yhat_lower  yhat_upper\n",
      "12 2024-08-31  0.084546  1.989422    1.983933    1.995217\n",
      "13 2024-09-30  0.106880  2.007441    2.001768    2.013128\n",
      "14 2024-10-31  0.129959  2.026061    2.019432    2.033211\n",
      "15 2024-11-30  0.152293  2.044079    2.037320    2.051626\n",
      "16 2024-12-31  0.175371  2.062699    2.054745    2.071144\n",
      "Park_Lane_Midtown_East\n"
     ]
    },
    {
     "name": "stderr",
     "output_type": "stream",
     "text": [
      "23:23:26 - cmdstanpy - INFO - Chain [1] start processing\n",
      "23:23:26 - cmdstanpy - INFO - Chain [1] done processing\n",
      "C:\\Users\\baker\\Anaconda3\\envs\\realty-env\\lib\\site-packages\\prophet\\forecaster.py:1854: FutureWarning: 'M' is deprecated and will be removed in a future version, please use 'ME' instead.\n",
      "  dates = pd.date_range(\n",
      "23:23:26 - cmdstanpy - INFO - Chain [1] start processing\n"
     ]
    },
    {
     "name": "stdout",
     "output_type": "stream",
     "text": [
      "           ds      yhat  yhat_lower  yhat_upper\n",
      "12 2024-08-31  1.582422    1.575733    1.589449\n",
      "13 2024-09-30  1.569833    1.562487    1.577245\n",
      "14 2024-10-31  1.556824    1.549245    1.564124\n",
      "15 2024-11-30  1.544235    1.536163    1.552215\n",
      "16 2024-12-31  1.531226    1.521737    1.540081\n"
     ]
    },
    {
     "name": "stderr",
     "output_type": "stream",
     "text": [
      "23:23:26 - cmdstanpy - INFO - Chain [1] done processing\n",
      "C:\\Users\\baker\\Anaconda3\\envs\\realty-env\\lib\\site-packages\\prophet\\forecaster.py:1854: FutureWarning: 'M' is deprecated and will be removed in a future version, please use 'ME' instead.\n",
      "  dates = pd.date_range(\n",
      "23:23:26 - cmdstanpy - INFO - Chain [1] start processing\n",
      "23:23:26 - cmdstanpy - INFO - Chain [1] done processing\n"
     ]
    },
    {
     "name": "stdout",
     "output_type": "stream",
     "text": [
      "           ds         m      yhat  yhat_lower  yhat_upper\n",
      "12 2024-08-31 -0.034234  1.542034    1.536261    1.548715\n",
      "13 2024-09-30 -0.040311  1.531674    1.525504    1.537246\n",
      "14 2024-10-31 -0.046591  1.520968    1.514661    1.526943\n",
      "15 2024-11-30 -0.052669  1.510608    1.504226    1.517365\n",
      "16 2024-12-31 -0.058949  1.499902    1.493366    1.506757\n",
      "North_Arlington\n"
     ]
    },
    {
     "name": "stderr",
     "output_type": "stream",
     "text": [
      "C:\\Users\\baker\\Anaconda3\\envs\\realty-env\\lib\\site-packages\\prophet\\forecaster.py:1854: FutureWarning: 'M' is deprecated and will be removed in a future version, please use 'ME' instead.\n",
      "  dates = pd.date_range(\n",
      "23:23:27 - cmdstanpy - INFO - Chain [1] start processing\n"
     ]
    },
    {
     "name": "stdout",
     "output_type": "stream",
     "text": [
      "           ds      yhat  yhat_lower  yhat_upper\n",
      "12 2024-08-31  1.784830    1.781114    1.788496\n",
      "13 2024-09-30  1.790567    1.780431    1.801487\n",
      "14 2024-10-31  1.796495    1.777612    1.816887\n",
      "15 2024-11-30  1.802233    1.772781    1.834680\n",
      "16 2024-12-31  1.808161    1.764866    1.855639\n"
     ]
    },
    {
     "name": "stderr",
     "output_type": "stream",
     "text": [
      "23:23:27 - cmdstanpy - INFO - Chain [1] done processing\n",
      "C:\\Users\\baker\\Anaconda3\\envs\\realty-env\\lib\\site-packages\\prophet\\forecaster.py:1854: FutureWarning: 'M' is deprecated and will be removed in a future version, please use 'ME' instead.\n",
      "  dates = pd.date_range(\n",
      "23:23:27 - cmdstanpy - INFO - Chain [1] start processing\n"
     ]
    },
    {
     "name": "stdout",
     "output_type": "stream",
     "text": [
      "           ds             m  yhat  yhat_lower  yhat_upper\n",
      "12 2024-08-31 -8.002596e-17  1.72    1.714344    1.725496\n",
      "13 2024-09-30 -1.750794e-16  1.72    1.702211    1.737304\n",
      "14 2024-10-31 -2.733013e-16  1.72    1.685259    1.754555\n",
      "15 2024-11-30 -3.683548e-16  1.72    1.664633    1.772580\n",
      "16 2024-12-31 -4.665767e-16  1.72    1.640021    1.795966\n",
      "McKinney_Allen\n"
     ]
    },
    {
     "name": "stderr",
     "output_type": "stream",
     "text": [
      "23:23:27 - cmdstanpy - INFO - Chain [1] done processing\n",
      "C:\\Users\\baker\\Anaconda3\\envs\\realty-env\\lib\\site-packages\\prophet\\forecaster.py:1854: FutureWarning: 'M' is deprecated and will be removed in a future version, please use 'ME' instead.\n",
      "  dates = pd.date_range(\n",
      "23:23:27 - cmdstanpy - INFO - Chain [1] start processing\n"
     ]
    },
    {
     "name": "stdout",
     "output_type": "stream",
     "text": [
      "           ds      yhat  yhat_lower  yhat_upper\n",
      "12 2024-08-31  1.837074    1.829409    1.844438\n",
      "13 2024-09-30  1.838255    1.830426    1.845943\n",
      "14 2024-10-31  1.839474    1.831514    1.847892\n",
      "15 2024-11-30  1.840655    1.830870    1.849899\n",
      "16 2024-12-31  1.841874    1.830600    1.853399\n"
     ]
    },
    {
     "name": "stderr",
     "output_type": "stream",
     "text": [
      "23:23:27 - cmdstanpy - INFO - Chain [1] done processing\n",
      "C:\\Users\\baker\\Anaconda3\\envs\\realty-env\\lib\\site-packages\\prophet\\forecaster.py:1854: FutureWarning: 'M' is deprecated and will be removed in a future version, please use 'ME' instead.\n",
      "  dates = pd.date_range(\n",
      "23:23:27 - cmdstanpy - INFO - Chain [1] start processing\n"
     ]
    },
    {
     "name": "stdout",
     "output_type": "stream",
     "text": [
      "           ds         m      yhat  yhat_lower  yhat_upper\n",
      "12 2024-08-31  0.002628  1.829129    1.823060    1.834904\n",
      "13 2024-09-30  0.003306  1.832338    1.825730    1.839151\n",
      "14 2024-10-31  0.004007  1.835654    1.828054    1.843308\n",
      "15 2024-11-30  0.004686  1.838864    1.830057    1.847431\n",
      "16 2024-12-31  0.005386  1.842180    1.830879    1.853377\n",
      "Carrollton_South\n"
     ]
    },
    {
     "name": "stderr",
     "output_type": "stream",
     "text": [
      "23:23:28 - cmdstanpy - INFO - Chain [1] done processing\n",
      "C:\\Users\\baker\\Anaconda3\\envs\\realty-env\\lib\\site-packages\\prophet\\forecaster.py:1854: FutureWarning: 'M' is deprecated and will be removed in a future version, please use 'ME' instead.\n",
      "  dates = pd.date_range(\n",
      "23:23:28 - cmdstanpy - INFO - Chain [1] start processing\n"
     ]
    },
    {
     "name": "stdout",
     "output_type": "stream",
     "text": [
      "           ds      yhat  yhat_lower  yhat_upper\n",
      "12 2024-08-31  1.876848    1.870593    1.882453\n",
      "13 2024-09-30  1.875813    1.867237    1.883955\n",
      "14 2024-10-31  1.874743    1.860187    1.888164\n",
      "15 2024-11-30  1.873708    1.852025    1.893855\n",
      "16 2024-12-31  1.872638    1.840626    1.900571\n"
     ]
    },
    {
     "name": "stderr",
     "output_type": "stream",
     "text": [
      "23:23:29 - cmdstanpy - INFO - Chain [1] done processing\n",
      "C:\\Users\\baker\\Anaconda3\\envs\\realty-env\\lib\\site-packages\\prophet\\forecaster.py:1854: FutureWarning: 'M' is deprecated and will be removed in a future version, please use 'ME' instead.\n",
      "  dates = pd.date_range(\n",
      "23:23:29 - cmdstanpy - INFO - Chain [1] start processing\n",
      "23:23:29 - cmdstanpy - INFO - Chain [1] done processing\n",
      "C:\\Users\\baker\\Anaconda3\\envs\\realty-env\\lib\\site-packages\\prophet\\forecaster.py:1854: FutureWarning: 'M' is deprecated and will be removed in a future version, please use 'ME' instead.\n",
      "  dates = pd.date_range(\n"
     ]
    },
    {
     "name": "stdout",
     "output_type": "stream",
     "text": [
      "           ds         m      yhat  yhat_lower  yhat_upper\n",
      "12 2024-08-31 -0.012319  1.856846    1.850297    1.864388\n",
      "13 2024-09-30 -0.013354  1.855811    1.832495    1.880676\n",
      "14 2024-10-31 -0.014424  1.854741    1.806948    1.902067\n",
      "15 2024-11-30 -0.015459  1.853706    1.775703    1.922659\n",
      "16 2024-12-31 -0.016528  1.852637    1.740006    1.954265\n",
      "Las_Colinas_Valley_Ranch\n",
      "           ds      yhat  yhat_lower  yhat_upper\n",
      "12 2024-08-31  1.565421    1.557763    1.573313\n",
      "13 2024-09-30  1.561748    1.537419    1.585758\n",
      "14 2024-10-31  1.557952    1.513570    1.606049\n",
      "15 2024-11-30  1.554279    1.482056    1.630231\n",
      "16 2024-12-31  1.550483    1.445357    1.656936\n"
     ]
    },
    {
     "name": "stderr",
     "output_type": "stream",
     "text": [
      "23:23:29 - cmdstanpy - INFO - Chain [1] start processing\n",
      "23:23:29 - cmdstanpy - INFO - Chain [1] done processing\n",
      "C:\\Users\\baker\\Anaconda3\\envs\\realty-env\\lib\\site-packages\\prophet\\forecaster.py:1854: FutureWarning: 'M' is deprecated and will be removed in a future version, please use 'ME' instead.\n",
      "  dates = pd.date_range(\n",
      "23:23:29 - cmdstanpy - INFO - Chain [1] start processing\n"
     ]
    },
    {
     "name": "stdout",
     "output_type": "stream",
     "text": [
      "           ds         m      yhat  yhat_lower  yhat_upper\n",
      "12 2024-08-31  0.000421  1.545422    1.541177    1.549552\n",
      "13 2024-09-30 -0.003252  1.541749    1.528183    1.554792\n",
      "14 2024-10-31 -0.007048  1.537953    1.510767    1.562679\n",
      "15 2024-11-30 -0.010721  1.534280    1.493644    1.572931\n",
      "16 2024-12-31 -0.014517  1.530484    1.472900    1.584937\n",
      "Mesquite_Balch_Springs\n"
     ]
    },
    {
     "name": "stderr",
     "output_type": "stream",
     "text": [
      "23:23:29 - cmdstanpy - INFO - Chain [1] done processing\n",
      "C:\\Users\\baker\\Anaconda3\\envs\\realty-env\\lib\\site-packages\\prophet\\forecaster.py:1854: FutureWarning: 'M' is deprecated and will be removed in a future version, please use 'ME' instead.\n",
      "  dates = pd.date_range(\n",
      "23:23:30 - cmdstanpy - INFO - Chain [1] start processing\n"
     ]
    },
    {
     "name": "stdout",
     "output_type": "stream",
     "text": [
      "           ds      yhat  yhat_lower  yhat_upper\n",
      "12 2024-08-31  2.015051    2.008576    2.021311\n",
      "13 2024-09-30  2.011178    1.990927    2.029973\n",
      "14 2024-10-31  2.007176    1.967531    2.044675\n",
      "15 2024-11-30  2.003303    1.941323    2.060743\n",
      "16 2024-12-31  1.999301    1.910624    2.082583\n"
     ]
    },
    {
     "name": "stderr",
     "output_type": "stream",
     "text": [
      "23:23:30 - cmdstanpy - INFO - Chain [1] done processing\n",
      "C:\\Users\\baker\\Anaconda3\\envs\\realty-env\\lib\\site-packages\\prophet\\forecaster.py:1854: FutureWarning: 'M' is deprecated and will be removed in a future version, please use 'ME' instead.\n",
      "  dates = pd.date_range(\n",
      "23:23:30 - cmdstanpy - INFO - Chain [1] start processing\n",
      "23:23:30 - cmdstanpy - INFO - Chain [1] done processing\n"
     ]
    },
    {
     "name": "stdout",
     "output_type": "stream",
     "text": [
      "           ds         m      yhat  yhat_lower  yhat_upper\n",
      "12 2024-08-31 -0.032695  1.990262    1.980668    1.999104\n",
      "13 2024-09-30 -0.040316  1.992319    1.962121    2.020296\n",
      "14 2024-10-31 -0.048191  1.994443    1.935122    2.052068\n",
      "15 2024-11-30 -0.055813  1.996500    1.896248    2.092942\n",
      "16 2024-12-31 -0.063688  1.998624    1.854500    2.138335\n",
      "East_Dallas\n"
     ]
    },
    {
     "name": "stderr",
     "output_type": "stream",
     "text": [
      "C:\\Users\\baker\\Anaconda3\\envs\\realty-env\\lib\\site-packages\\prophet\\forecaster.py:1854: FutureWarning: 'M' is deprecated and will be removed in a future version, please use 'ME' instead.\n",
      "  dates = pd.date_range(\n",
      "23:23:30 - cmdstanpy - INFO - Chain [1] start processing\n",
      "23:23:30 - cmdstanpy - INFO - Chain [1] done processing\n"
     ]
    },
    {
     "name": "stdout",
     "output_type": "stream",
     "text": [
      "           ds      yhat  yhat_lower  yhat_upper\n",
      "12 2024-08-31  1.860100    1.855002    1.864915\n",
      "13 2024-09-30  1.853329    1.838321    1.867554\n",
      "14 2024-10-31  1.846334    1.818346    1.871978\n",
      "15 2024-11-30  1.839563    1.796573    1.879256\n",
      "16 2024-12-31  1.832568    1.774546    1.890886\n",
      "           ds         m      yhat  yhat_lower  yhat_upper\n",
      "12 2024-08-31 -0.026615  1.825311    1.819108    1.831314\n",
      "13 2024-09-30 -0.031433  1.811850    1.791639    1.832059\n",
      "14 2024-10-31 -0.036412  1.797941    1.760368    1.837120\n",
      "15 2024-11-30 -0.041229  1.784480    1.724649    1.846882\n",
      "16 2024-12-31 -0.046208  1.770570    1.684718    1.852895\n",
      "West_Plano\n"
     ]
    },
    {
     "name": "stderr",
     "output_type": "stream",
     "text": [
      "C:\\Users\\baker\\Anaconda3\\envs\\realty-env\\lib\\site-packages\\prophet\\forecaster.py:1854: FutureWarning: 'M' is deprecated and will be removed in a future version, please use 'ME' instead.\n",
      "  dates = pd.date_range(\n",
      "23:23:30 - cmdstanpy - INFO - Chain [1] start processing\n",
      "23:23:31 - cmdstanpy - INFO - Chain [1] done processing\n",
      "C:\\Users\\baker\\Anaconda3\\envs\\realty-env\\lib\\site-packages\\prophet\\forecaster.py:1854: FutureWarning: 'M' is deprecated and will be removed in a future version, please use 'ME' instead.\n",
      "  dates = pd.date_range(\n",
      "23:23:31 - cmdstanpy - INFO - Chain [1] start processing\n",
      "23:23:31 - cmdstanpy - INFO - Chain [1] done processing\n"
     ]
    },
    {
     "name": "stdout",
     "output_type": "stream",
     "text": [
      "           ds      yhat  yhat_lower  yhat_upper\n",
      "12 2024-08-31  2.126812    2.120263    2.133010\n",
      "13 2024-09-30  2.131983    2.123586    2.140231\n",
      "14 2024-10-31  2.137327    2.123506    2.150470\n",
      "15 2024-11-30  2.142498    2.122132    2.162066\n",
      "16 2024-12-31  2.147841    2.119724    2.174276\n"
     ]
    },
    {
     "name": "stderr",
     "output_type": "stream",
     "text": [
      "C:\\Users\\baker\\Anaconda3\\envs\\realty-env\\lib\\site-packages\\prophet\\forecaster.py:1854: FutureWarning: 'M' is deprecated and will be removed in a future version, please use 'ME' instead.\n",
      "  dates = pd.date_range(\n",
      "23:23:31 - cmdstanpy - INFO - Chain [1] start processing\n",
      "23:23:31 - cmdstanpy - INFO - Chain [1] done processing\n"
     ]
    },
    {
     "name": "stdout",
     "output_type": "stream",
     "text": [
      "           ds         m      yhat  yhat_lower  yhat_upper\n",
      "12 2024-08-31  0.009704  2.055638    2.046570    2.063799\n",
      "13 2024-09-30  0.014650  2.060100    2.051443    2.068201\n",
      "14 2024-10-31  0.019761  2.064711    2.055919    2.072925\n",
      "15 2024-11-30  0.024707  2.069173    2.060750    2.078939\n",
      "16 2024-12-31  0.029817  2.073784    2.063341    2.083621\n",
      "Downtown_The_Cedars_Deep_Ellum\n"
     ]
    },
    {
     "name": "stderr",
     "output_type": "stream",
     "text": [
      "C:\\Users\\baker\\Anaconda3\\envs\\realty-env\\lib\\site-packages\\prophet\\forecaster.py:1854: FutureWarning: 'M' is deprecated and will be removed in a future version, please use 'ME' instead.\n",
      "  dates = pd.date_range(\n",
      "23:23:31 - cmdstanpy - INFO - Chain [1] start processing\n",
      "23:23:31 - cmdstanpy - INFO - Chain [1] done processing\n"
     ]
    },
    {
     "name": "stdout",
     "output_type": "stream",
     "text": [
      "           ds      yhat  yhat_lower  yhat_upper\n",
      "12 2024-08-31  2.076156    2.064914    2.088130\n",
      "13 2024-09-30  2.098036    2.082823    2.112634\n",
      "14 2024-10-31  2.120644    2.098104    2.142175\n",
      "15 2024-11-30  2.142523    2.107538    2.175075\n",
      "16 2024-12-31  2.165132    2.117186    2.209834\n"
     ]
    },
    {
     "name": "stderr",
     "output_type": "stream",
     "text": [
      "C:\\Users\\baker\\Anaconda3\\envs\\realty-env\\lib\\site-packages\\prophet\\forecaster.py:1854: FutureWarning: 'M' is deprecated and will be removed in a future version, please use 'ME' instead.\n",
      "  dates = pd.date_range(\n",
      "23:23:31 - cmdstanpy - INFO - Chain [1] start processing\n"
     ]
    },
    {
     "name": "stdout",
     "output_type": "stream",
     "text": [
      "           ds         m      yhat  yhat_lower  yhat_upper\n",
      "12 2024-08-31  0.084546  1.989422    1.984046    1.995447\n",
      "13 2024-09-30  0.106880  2.007441    2.001567    2.013187\n",
      "14 2024-10-31  0.129959  2.026061    2.019825    2.032605\n",
      "15 2024-11-30  0.152293  2.044079    2.037019    2.051099\n",
      "16 2024-12-31  0.175371  2.062699    2.053714    2.070595\n",
      "Oak_Lawn_Medical_District\n"
     ]
    },
    {
     "name": "stderr",
     "output_type": "stream",
     "text": [
      "23:23:31 - cmdstanpy - INFO - Chain [1] done processing\n",
      "C:\\Users\\baker\\Anaconda3\\envs\\realty-env\\lib\\site-packages\\prophet\\forecaster.py:1854: FutureWarning: 'M' is deprecated and will be removed in a future version, please use 'ME' instead.\n",
      "  dates = pd.date_range(\n",
      "23:23:32 - cmdstanpy - INFO - Chain [1] start processing\n",
      "23:23:32 - cmdstanpy - INFO - Chain [1] done processing\n"
     ]
    },
    {
     "name": "stdout",
     "output_type": "stream",
     "text": [
      "           ds      yhat  yhat_lower  yhat_upper\n",
      "12 2024-08-31  1.648133    1.640293    1.655706\n",
      "13 2024-09-30  1.653242    1.641927    1.663417\n",
      "14 2024-10-31  1.658521    1.641976    1.674585\n",
      "15 2024-11-30  1.663630    1.638744    1.688559\n",
      "16 2024-12-31  1.668908    1.633078    1.703790\n"
     ]
    },
    {
     "name": "stderr",
     "output_type": "stream",
     "text": [
      "C:\\Users\\baker\\Anaconda3\\envs\\realty-env\\lib\\site-packages\\prophet\\forecaster.py:1854: FutureWarning: 'M' is deprecated and will be removed in a future version, please use 'ME' instead.\n",
      "  dates = pd.date_range(\n",
      "23:23:32 - cmdstanpy - INFO - Chain [1] start processing\n",
      "23:23:32 - cmdstanpy - INFO - Chain [1] done processing\n",
      "C:\\Users\\baker\\Anaconda3\\envs\\realty-env\\lib\\site-packages\\prophet\\forecaster.py:1854: FutureWarning: 'M' is deprecated and will be removed in a future version, please use 'ME' instead.\n",
      "  dates = pd.date_range(\n"
     ]
    },
    {
     "name": "stdout",
     "output_type": "stream",
     "text": [
      "           ds         m      yhat  yhat_lower  yhat_upper\n",
      "12 2024-08-31  0.010620  1.597850    1.592421    1.602775\n",
      "13 2024-09-30  0.016670  1.599932    1.583543    1.615220\n",
      "14 2024-10-31  0.022923  1.602083    1.569658    1.632167\n",
      "15 2024-11-30  0.028973  1.604165    1.550423    1.653067\n",
      "16 2024-12-31  0.035225  1.606316    1.530098    1.674804\n",
      "Garland_Central\n"
     ]
    },
    {
     "name": "stderr",
     "output_type": "stream",
     "text": [
      "23:23:32 - cmdstanpy - INFO - Chain [1] start processing\n",
      "23:23:32 - cmdstanpy - INFO - Chain [1] done processing\n"
     ]
    },
    {
     "name": "stdout",
     "output_type": "stream",
     "text": [
      "           ds      yhat  yhat_lower  yhat_upper\n",
      "12 2024-08-31  1.749255    1.743869    1.754795\n",
      "13 2024-09-30  1.754808    1.746357    1.763610\n",
      "14 2024-10-31  1.760546    1.745071    1.775383\n",
      "15 2024-11-30  1.766099    1.742718    1.789413\n",
      "16 2024-12-31  1.771837    1.738601    1.805515\n"
     ]
    },
    {
     "name": "stderr",
     "output_type": "stream",
     "text": [
      "C:\\Users\\baker\\Anaconda3\\envs\\realty-env\\lib\\site-packages\\prophet\\forecaster.py:1854: FutureWarning: 'M' is deprecated and will be removed in a future version, please use 'ME' instead.\n",
      "  dates = pd.date_range(\n",
      "23:23:32 - cmdstanpy - INFO - Chain [1] start processing\n",
      "23:23:32 - cmdstanpy - INFO - Chain [1] done processing\n"
     ]
    },
    {
     "name": "stdout",
     "output_type": "stream",
     "text": [
      "           ds         m      yhat  yhat_lower  yhat_upper\n",
      "12 2024-08-31  0.000178  1.668342    1.658925    1.677340\n",
      "13 2024-09-30  0.011312  1.669642    1.638783    1.697479\n",
      "14 2024-10-31  0.022818  1.670986    1.613962    1.727520\n",
      "15 2024-11-30  0.033953  1.672286    1.587797    1.760613\n",
      "16 2024-12-31  0.045459  1.673629    1.553398    1.797895\n",
      "Rockwall_Rowlett_Sachse\n"
     ]
    },
    {
     "name": "stderr",
     "output_type": "stream",
     "text": [
      "C:\\Users\\baker\\Anaconda3\\envs\\realty-env\\lib\\site-packages\\prophet\\forecaster.py:1854: FutureWarning: 'M' is deprecated and will be removed in a future version, please use 'ME' instead.\n",
      "  dates = pd.date_range(\n",
      "23:23:32 - cmdstanpy - INFO - Chain [1] start processing\n"
     ]
    },
    {
     "name": "stdout",
     "output_type": "stream",
     "text": [
      "           ds      yhat  yhat_lower  yhat_upper\n",
      "12 2024-08-31  1.860627    1.850863    1.870057\n",
      "13 2024-09-30  1.860180    1.846488    1.873297\n",
      "14 2024-10-31  1.859719    1.837244    1.879986\n",
      "15 2024-11-30  1.859272    1.825452    1.889451\n",
      "16 2024-12-31  1.858811    1.814794    1.903013\n"
     ]
    },
    {
     "name": "stderr",
     "output_type": "stream",
     "text": [
      "23:23:33 - cmdstanpy - INFO - Chain [1] done processing\n",
      "C:\\Users\\baker\\Anaconda3\\envs\\realty-env\\lib\\site-packages\\prophet\\forecaster.py:1854: FutureWarning: 'M' is deprecated and will be removed in a future version, please use 'ME' instead.\n",
      "  dates = pd.date_range(\n",
      "23:23:33 - cmdstanpy - INFO - Chain [1] start processing\n"
     ]
    },
    {
     "name": "stdout",
     "output_type": "stream",
     "text": [
      "           ds         m      yhat  yhat_lower  yhat_upper\n",
      "12 2024-08-31 -0.001873  1.790627    1.783702    1.796908\n",
      "13 2024-09-30 -0.002320  1.790181    1.767587    1.810961\n",
      "14 2024-10-31 -0.002781  1.789719    1.746118    1.833337\n",
      "15 2024-11-30 -0.003228  1.789273    1.722744    1.853744\n",
      "16 2024-12-31 -0.003689  1.788811    1.692785    1.885042\n",
      "Southwest_Dallas_Oak_Cliff\n"
     ]
    },
    {
     "name": "stderr",
     "output_type": "stream",
     "text": [
      "23:23:33 - cmdstanpy - INFO - Chain [1] done processing\n",
      "C:\\Users\\baker\\Anaconda3\\envs\\realty-env\\lib\\site-packages\\prophet\\forecaster.py:1854: FutureWarning: 'M' is deprecated and will be removed in a future version, please use 'ME' instead.\n",
      "  dates = pd.date_range(\n",
      "23:23:33 - cmdstanpy - INFO - Chain [1] start processing\n",
      "23:23:33 - cmdstanpy - INFO - Chain [1] done processing\n",
      "C:\\Users\\baker\\Anaconda3\\envs\\realty-env\\lib\\site-packages\\prophet\\forecaster.py:1854: FutureWarning: 'M' is deprecated and will be removed in a future version, please use 'ME' instead.\n",
      "  dates = pd.date_range(\n"
     ]
    },
    {
     "name": "stdout",
     "output_type": "stream",
     "text": [
      "           ds      yhat  yhat_lower  yhat_upper\n",
      "12 2024-08-31  1.721939    1.717446    1.726839\n",
      "13 2024-09-30  1.723923    1.716372    1.732569\n",
      "14 2024-10-31  1.725974    1.713830    1.740856\n",
      "15 2024-11-30  1.727959    1.708058    1.751424\n",
      "16 2024-12-31  1.730009    1.704629    1.761585\n"
     ]
    },
    {
     "name": "stderr",
     "output_type": "stream",
     "text": [
      "23:23:33 - cmdstanpy - INFO - Chain [1] start processing\n"
     ]
    },
    {
     "name": "stdout",
     "output_type": "stream",
     "text": [
      "           ds         m      yhat  yhat_lower  yhat_upper\n",
      "12 2024-08-31  0.008027  1.655791    1.651731    1.659876\n",
      "13 2024-09-30  0.009131  1.656158    1.649962    1.662511\n",
      "14 2024-10-31  0.010271  1.656538    1.645107    1.667322\n",
      "15 2024-11-30  0.011374  1.656905    1.639997    1.673457\n",
      "16 2024-12-31  0.012514  1.657285    1.633191    1.681018\n",
      "North_Fort_Worth\n"
     ]
    },
    {
     "name": "stderr",
     "output_type": "stream",
     "text": [
      "23:23:34 - cmdstanpy - INFO - Chain [1] done processing\n",
      "C:\\Users\\baker\\Anaconda3\\envs\\realty-env\\lib\\site-packages\\prophet\\forecaster.py:1854: FutureWarning: 'M' is deprecated and will be removed in a future version, please use 'ME' instead.\n",
      "  dates = pd.date_range(\n",
      "23:23:34 - cmdstanpy - INFO - Chain [1] start processing\n"
     ]
    },
    {
     "name": "stdout",
     "output_type": "stream",
     "text": [
      "           ds      yhat  yhat_lower  yhat_upper\n",
      "12 2024-08-31  1.637424    1.631847    1.642688\n",
      "13 2024-09-30  1.637705    1.628262    1.648732\n",
      "14 2024-10-31  1.637995    1.619789    1.658398\n",
      "15 2024-11-30  1.638276    1.610148    1.669616\n",
      "16 2024-12-31  1.638566    1.599136    1.679711\n"
     ]
    },
    {
     "name": "stderr",
     "output_type": "stream",
     "text": [
      "23:23:34 - cmdstanpy - INFO - Chain [1] done processing\n",
      "C:\\Users\\baker\\Anaconda3\\envs\\realty-env\\lib\\site-packages\\prophet\\forecaster.py:1854: FutureWarning: 'M' is deprecated and will be removed in a future version, please use 'ME' instead.\n",
      "  dates = pd.date_range(\n",
      "23:23:34 - cmdstanpy - INFO - Chain [1] start processing\n"
     ]
    },
    {
     "name": "stdout",
     "output_type": "stream",
     "text": [
      "           ds         m      yhat  yhat_lower  yhat_upper\n",
      "12 2024-08-31  0.000941  1.616552    1.609556    1.624393\n",
      "13 2024-09-30  0.001108  1.613466    1.590158    1.638057\n",
      "14 2024-10-31  0.001280  1.610278    1.566531    1.658106\n",
      "15 2024-11-30  0.001446  1.607192    1.536088    1.681678\n",
      "16 2024-12-31  0.001618  1.604003    1.498054    1.709530\n",
      "South_Irving\n"
     ]
    },
    {
     "name": "stderr",
     "output_type": "stream",
     "text": [
      "23:23:34 - cmdstanpy - INFO - Chain [1] done processing\n",
      "C:\\Users\\baker\\Anaconda3\\envs\\realty-env\\lib\\site-packages\\prophet\\forecaster.py:1854: FutureWarning: 'M' is deprecated and will be removed in a future version, please use 'ME' instead.\n",
      "  dates = pd.date_range(\n",
      "23:23:34 - cmdstanpy - INFO - Chain [1] start processing\n"
     ]
    },
    {
     "name": "stdout",
     "output_type": "stream",
     "text": [
      "           ds      yhat  yhat_lower  yhat_upper\n",
      "12 2024-08-31  1.986281    1.970327    2.001131\n",
      "13 2024-09-30  2.010040    1.991523    2.028399\n",
      "14 2024-10-31  2.034592    2.009837    2.058307\n",
      "15 2024-11-30  2.058351    2.024696    2.088303\n",
      "16 2024-12-31  2.082902    2.039620    2.123926\n"
     ]
    },
    {
     "name": "stderr",
     "output_type": "stream",
     "text": [
      "23:23:35 - cmdstanpy - INFO - Chain [1] done processing\n",
      "C:\\Users\\baker\\Anaconda3\\envs\\realty-env\\lib\\site-packages\\prophet\\forecaster.py:1854: FutureWarning: 'M' is deprecated and will be removed in a future version, please use 'ME' instead.\n",
      "  dates = pd.date_range(\n",
      "23:23:35 - cmdstanpy - INFO - Chain [1] start processing\n",
      "23:23:35 - cmdstanpy - INFO - Chain [1] done processing\n"
     ]
    },
    {
     "name": "stdout",
     "output_type": "stream",
     "text": [
      "           ds         m      yhat  yhat_lower  yhat_upper\n",
      "12 2024-08-31  0.093453  1.933669    1.926517    1.940896\n",
      "13 2024-09-30  0.123892  1.954430    1.931469    1.978439\n",
      "14 2024-10-31  0.155345  1.975883    1.929478    2.022720\n",
      "15 2024-11-30  0.185783  1.996644    1.924222    2.073387\n",
      "16 2024-12-31  0.217236  2.018097    1.916221    2.129692\n",
      "North_Dallas_Midtown_West\n"
     ]
    },
    {
     "name": "stderr",
     "output_type": "stream",
     "text": [
      "C:\\Users\\baker\\Anaconda3\\envs\\realty-env\\lib\\site-packages\\prophet\\forecaster.py:1854: FutureWarning: 'M' is deprecated and will be removed in a future version, please use 'ME' instead.\n",
      "  dates = pd.date_range(\n",
      "23:23:35 - cmdstanpy - INFO - Chain [1] start processing\n"
     ]
    },
    {
     "name": "stdout",
     "output_type": "stream",
     "text": [
      "           ds      yhat  yhat_lower  yhat_upper\n",
      "12 2024-08-31  1.782942    1.776165    1.789583\n",
      "13 2024-09-30  1.783431    1.772361    1.794314\n",
      "14 2024-10-31  1.783937    1.765456    1.804569\n",
      "15 2024-11-30  1.784427    1.755183    1.815835\n",
      "16 2024-12-31  1.784932    1.744901    1.828424\n"
     ]
    },
    {
     "name": "stderr",
     "output_type": "stream",
     "text": [
      "23:23:35 - cmdstanpy - INFO - Chain [1] done processing\n",
      "C:\\Users\\baker\\Anaconda3\\envs\\realty-env\\lib\\site-packages\\prophet\\forecaster.py:1854: FutureWarning: 'M' is deprecated and will be removed in a future version, please use 'ME' instead.\n",
      "  dates = pd.date_range(\n",
      "23:23:36 - cmdstanpy - INFO - Chain [1] start processing\n"
     ]
    },
    {
     "name": "stdout",
     "output_type": "stream",
     "text": [
      "           ds         m      yhat  yhat_lower  yhat_upper\n",
      "12 2024-08-31  0.002942  1.742942    1.735366    1.750136\n",
      "13 2024-09-30  0.003431  1.743432    1.720516    1.766312\n",
      "14 2024-10-31  0.003937  1.743938    1.700421    1.787931\n",
      "15 2024-11-30  0.004427  1.744427    1.676777    1.812532\n",
      "16 2024-12-31  0.004933  1.744933    1.647457    1.841077\n",
      "Southeast_Dallas\n"
     ]
    },
    {
     "name": "stderr",
     "output_type": "stream",
     "text": [
      "23:23:36 - cmdstanpy - INFO - Chain [1] done processing\n",
      "C:\\Users\\baker\\Anaconda3\\envs\\realty-env\\lib\\site-packages\\prophet\\forecaster.py:1854: FutureWarning: 'M' is deprecated and will be removed in a future version, please use 'ME' instead.\n",
      "  dates = pd.date_range(\n",
      "23:23:36 - cmdstanpy - INFO - Chain [1] start processing\n",
      "23:23:36 - cmdstanpy - INFO - Chain [1] done processing\n",
      "C:\\Users\\baker\\Anaconda3\\envs\\realty-env\\lib\\site-packages\\prophet\\forecaster.py:1854: FutureWarning: 'M' is deprecated and will be removed in a future version, please use 'ME' instead.\n",
      "  dates = pd.date_range(\n"
     ]
    },
    {
     "name": "stdout",
     "output_type": "stream",
     "text": [
      "           ds  yhat  yhat_lower  yhat_upper\n",
      "12 2024-08-31  1.54    1.530656    1.549851\n",
      "13 2024-09-30  1.54    1.509422    1.571581\n",
      "14 2024-10-31  1.54    1.481004    1.601691\n",
      "15 2024-11-30  1.54    1.446686    1.633768\n",
      "16 2024-12-31  1.54    1.403500    1.677943\n",
      "           ds         m      yhat  yhat_lower  yhat_upper\n",
      "12 2024-08-31  0.004872  1.514938    1.511431    1.518178\n",
      "13 2024-09-30  0.004872  1.511973    1.503119    1.521431\n",
      "14 2024-10-31  0.004872  1.508910    1.492177    1.527147\n",
      "15 2024-11-30  0.004872  1.505945    1.479722    1.534236\n",
      "16 2024-12-31  0.004872  1.502881    1.463199    1.542726\n",
      "Central_Arlington\n"
     ]
    },
    {
     "name": "stderr",
     "output_type": "stream",
     "text": [
      "23:23:36 - cmdstanpy - INFO - Chain [1] start processing\n",
      "23:23:36 - cmdstanpy - INFO - Chain [1] done processing\n",
      "C:\\Users\\baker\\Anaconda3\\envs\\realty-env\\lib\\site-packages\\prophet\\forecaster.py:1854: FutureWarning: 'M' is deprecated and will be removed in a future version, please use 'ME' instead.\n",
      "  dates = pd.date_range(\n",
      "23:23:36 - cmdstanpy - INFO - Chain [1] start processing\n"
     ]
    },
    {
     "name": "stdout",
     "output_type": "stream",
     "text": [
      "           ds      yhat  yhat_lower  yhat_upper\n",
      "12 2024-08-31  1.465460    1.461895    1.469359\n",
      "13 2024-09-30  1.469591    1.458958    1.480609\n",
      "14 2024-10-31  1.473859    1.453891    1.495010\n",
      "15 2024-11-30  1.477989    1.445341    1.510927\n",
      "16 2024-12-31  1.482258    1.436785    1.531659\n"
     ]
    },
    {
     "name": "stderr",
     "output_type": "stream",
     "text": [
      "23:23:37 - cmdstanpy - INFO - Chain [1] done processing\n",
      "C:\\Users\\baker\\Anaconda3\\envs\\realty-env\\lib\\site-packages\\prophet\\forecaster.py:1854: FutureWarning: 'M' is deprecated and will be removed in a future version, please use 'ME' instead.\n",
      "  dates = pd.date_range(\n",
      "23:23:37 - cmdstanpy - INFO - Chain [1] start processing\n",
      "23:23:37 - cmdstanpy - INFO - Chain [1] done processing\n"
     ]
    },
    {
     "name": "stdout",
     "output_type": "stream",
     "text": [
      "           ds         m      yhat  yhat_lower  yhat_upper\n",
      "12 2024-08-31  0.026525  1.438813    1.432494    1.445586\n",
      "13 2024-09-30  0.032107  1.440955    1.433615    1.447755\n",
      "14 2024-10-31  0.037876  1.443169    1.435846    1.450907\n",
      "15 2024-11-30  0.043458  1.445311    1.436992    1.452894\n",
      "16 2024-12-31  0.049226  1.447525    1.438635    1.456808\n",
      "Southwest_Dallas_Redbird\n",
      "           ds      yhat  yhat_lower  yhat_upper\n",
      "12 2024-08-31  1.585494    1.578122    1.593441\n",
      "13 2024-09-30  1.591578    1.567712    1.618009\n",
      "14 2024-10-31  1.597864    1.551702    1.650264\n",
      "15 2024-11-30  1.603948    1.530798    1.682348\n",
      "16 2024-12-31  1.610235    1.506450    1.720637\n"
     ]
    },
    {
     "name": "stderr",
     "output_type": "stream",
     "text": [
      "C:\\Users\\baker\\Anaconda3\\envs\\realty-env\\lib\\site-packages\\prophet\\forecaster.py:1854: FutureWarning: 'M' is deprecated and will be removed in a future version, please use 'ME' instead.\n",
      "  dates = pd.date_range(\n",
      "23:23:37 - cmdstanpy - INFO - Chain [1] start processing\n",
      "23:23:37 - cmdstanpy - INFO - Chain [1] done processing\n",
      "C:\\Users\\baker\\Anaconda3\\envs\\realty-env\\lib\\site-packages\\prophet\\forecaster.py:1854: FutureWarning: 'M' is deprecated and will be removed in a future version, please use 'ME' instead.\n",
      "  dates = pd.date_range(\n",
      "23:23:37 - cmdstanpy - INFO - Chain [1] start processing\n",
      "23:23:37 - cmdstanpy - INFO - Chain [1] done processing\n"
     ]
    },
    {
     "name": "stdout",
     "output_type": "stream",
     "text": [
      "           ds         m      yhat  yhat_lower  yhat_upper\n",
      "12 2024-08-31  0.024661  1.555494    1.547762    1.563021\n",
      "13 2024-09-30  0.030745  1.561578    1.537682    1.585771\n",
      "14 2024-10-31  0.037031  1.567864    1.522709    1.615739\n",
      "15 2024-11-30  0.043115  1.573948    1.502385    1.645411\n",
      "16 2024-12-31  0.049401  1.580235    1.476488    1.677667\n",
      "White_Rock_East_Buckner\n",
      "           ds      yhat  yhat_lower  yhat_upper\n",
      "12 2024-08-31  1.692757    1.685337    1.700703\n",
      "13 2024-09-30  1.694746    1.686613    1.702479\n",
      "14 2024-10-31  1.696801    1.687820    1.705812\n",
      "15 2024-11-30  1.698790    1.687967    1.709684\n",
      "16 2024-12-31  1.700845    1.686749    1.715602\n"
     ]
    },
    {
     "name": "stderr",
     "output_type": "stream",
     "text": [
      "C:\\Users\\baker\\Anaconda3\\envs\\realty-env\\lib\\site-packages\\prophet\\forecaster.py:1854: FutureWarning: 'M' is deprecated and will be removed in a future version, please use 'ME' instead.\n",
      "  dates = pd.date_range(\n",
      "23:23:38 - cmdstanpy - INFO - Chain [1] start processing\n",
      "23:23:38 - cmdstanpy - INFO - Chain [1] done processing\n",
      "C:\\Users\\baker\\Anaconda3\\envs\\realty-env\\lib\\site-packages\\prophet\\forecaster.py:1854: FutureWarning: 'M' is deprecated and will be removed in a future version, please use 'ME' instead.\n",
      "  dates = pd.date_range(\n",
      "23:23:38 - cmdstanpy - INFO - Chain [1] start processing\n",
      "23:23:38 - cmdstanpy - INFO - Chain [1] done processing\n",
      "C:\\Users\\baker\\Anaconda3\\envs\\realty-env\\lib\\site-packages\\prophet\\forecaster.py:1854: FutureWarning: 'M' is deprecated and will be removed in a future version, please use 'ME' instead.\n",
      "  dates = pd.date_range(\n"
     ]
    },
    {
     "name": "stdout",
     "output_type": "stream",
     "text": [
      "           ds         m      yhat  yhat_lower  yhat_upper\n",
      "12 2024-08-31  0.020257  1.682758    1.675479    1.690587\n",
      "13 2024-09-30  0.022246  1.684747    1.662211    1.710242\n",
      "14 2024-10-31  0.024301  1.686802    1.640433    1.735668\n",
      "15 2024-11-30  0.026290  1.688791    1.618687    1.768364\n",
      "16 2024-12-31  0.028346  1.690846    1.586558    1.803600\n",
      "Bachman_Lake_Webb_Chapel\n"
     ]
    },
    {
     "name": "stderr",
     "output_type": "stream",
     "text": [
      "23:23:38 - cmdstanpy - INFO - Chain [1] start processing\n",
      "23:23:38 - cmdstanpy - INFO - Chain [1] done processing\n"
     ]
    },
    {
     "name": "stdout",
     "output_type": "stream",
     "text": [
      "           ds      yhat  yhat_lower  yhat_upper\n",
      "12 2024-08-31  1.929171    1.921379    1.936919\n",
      "13 2024-09-30  1.937472    1.914171    1.962133\n",
      "14 2024-10-31  1.946050    1.902138    1.990579\n",
      "15 2024-11-30  1.954350    1.886784    2.023911\n",
      "16 2024-12-31  1.962928    1.873915    2.060241\n"
     ]
    },
    {
     "name": "stderr",
     "output_type": "stream",
     "text": [
      "C:\\Users\\baker\\Anaconda3\\envs\\realty-env\\lib\\site-packages\\prophet\\forecaster.py:1854: FutureWarning: 'M' is deprecated and will be removed in a future version, please use 'ME' instead.\n",
      "  dates = pd.date_range(\n",
      "23:23:38 - cmdstanpy - INFO - Chain [1] start processing\n"
     ]
    },
    {
     "name": "stdout",
     "output_type": "stream",
     "text": [
      "           ds         m      yhat  yhat_lower  yhat_upper\n",
      "12 2024-08-31  0.064446  1.839487    1.831441    1.847964\n",
      "13 2024-09-30  0.074968  1.841665    1.832963    1.850763\n",
      "14 2024-10-31  0.085842  1.843916    1.834032    1.853699\n",
      "15 2024-11-30  0.096365  1.846095    1.835088    1.856790\n",
      "16 2024-12-31  0.107238  1.848345    1.834939    1.860704\n",
      "Central_Fort_Worth\n"
     ]
    },
    {
     "name": "stderr",
     "output_type": "stream",
     "text": [
      "23:23:38 - cmdstanpy - INFO - Chain [1] done processing\n",
      "C:\\Users\\baker\\Anaconda3\\envs\\realty-env\\lib\\site-packages\\prophet\\forecaster.py:1854: FutureWarning: 'M' is deprecated and will be removed in a future version, please use 'ME' instead.\n",
      "  dates = pd.date_range(\n",
      "23:23:39 - cmdstanpy - INFO - Chain [1] start processing\n"
     ]
    },
    {
     "name": "stdout",
     "output_type": "stream",
     "text": [
      "           ds      yhat  yhat_lower  yhat_upper\n",
      "12 2024-08-31  2.692893    2.681455    2.703580\n",
      "13 2024-09-30  2.717401    2.703481    2.732122\n",
      "14 2024-10-31  2.742725    2.720926    2.766842\n",
      "15 2024-11-30  2.767232    2.732574    2.803462\n",
      "16 2024-12-31  2.792556    2.742666    2.844407\n"
     ]
    },
    {
     "name": "stderr",
     "output_type": "stream",
     "text": [
      "23:23:39 - cmdstanpy - INFO - Chain [1] done processing\n",
      "C:\\Users\\baker\\Anaconda3\\envs\\realty-env\\lib\\site-packages\\prophet\\forecaster.py:1854: FutureWarning: 'M' is deprecated and will be removed in a future version, please use 'ME' instead.\n",
      "  dates = pd.date_range(\n",
      "23:23:39 - cmdstanpy - INFO - Chain [1] start processing\n"
     ]
    },
    {
     "name": "stdout",
     "output_type": "stream",
     "text": [
      "           ds         m      yhat  yhat_lower  yhat_upper\n",
      "12 2024-08-31  0.035204  2.654214    2.646549    2.660757\n",
      "13 2024-09-30  0.047176  2.683130    2.660151    2.704203\n",
      "14 2024-10-31  0.059548  2.713010    2.665870    2.752128\n",
      "15 2024-11-30  0.071521  2.741927    2.665237    2.803225\n",
      "16 2024-12-31  0.083892  2.771807    2.662874    2.858033\n",
      "Uptown_Downtown_Park_Cities\n"
     ]
    },
    {
     "name": "stderr",
     "output_type": "stream",
     "text": [
      "23:23:39 - cmdstanpy - INFO - Chain [1] done processing\n",
      "C:\\Users\\baker\\Anaconda3\\envs\\realty-env\\lib\\site-packages\\prophet\\forecaster.py:1854: FutureWarning: 'M' is deprecated and will be removed in a future version, please use 'ME' instead.\n",
      "  dates = pd.date_range(\n",
      "23:23:39 - cmdstanpy - INFO - Chain [1] start processing\n"
     ]
    },
    {
     "name": "stdout",
     "output_type": "stream",
     "text": [
      "           ds      yhat  yhat_lower  yhat_upper\n",
      "12 2024-08-31  1.704647    1.699302    1.709213\n",
      "13 2024-09-30  1.711283    1.696796    1.725205\n",
      "14 2024-10-31  1.718141    1.689436    1.744309\n",
      "15 2024-11-30  1.724778    1.679148    1.767073\n",
      "16 2024-12-31  1.731636    1.664260    1.791291\n"
     ]
    },
    {
     "name": "stderr",
     "output_type": "stream",
     "text": [
      "23:23:40 - cmdstanpy - INFO - Chain [1] done processing\n",
      "C:\\Users\\baker\\Anaconda3\\envs\\realty-env\\lib\\site-packages\\prophet\\forecaster.py:1854: FutureWarning: 'M' is deprecated and will be removed in a future version, please use 'ME' instead.\n",
      "  dates = pd.date_range(\n",
      "23:23:40 - cmdstanpy - INFO - Chain [1] start processing\n"
     ]
    },
    {
     "name": "stdout",
     "output_type": "stream",
     "text": [
      "           ds         m      yhat  yhat_lower  yhat_upper\n",
      "12 2024-08-31 -0.011537  1.670882    1.664060    1.677183\n",
      "13 2024-09-30 -0.005167  1.676300    1.669769    1.682286\n",
      "14 2024-10-31  0.001415  1.681900    1.674690    1.688461\n",
      "15 2024-11-30  0.007785  1.687318    1.679495    1.695055\n",
      "16 2024-12-31  0.014367  1.692917    1.684102    1.700744\n",
      "Far_North_Dallas-Tollway_East\n"
     ]
    },
    {
     "name": "stderr",
     "output_type": "stream",
     "text": [
      "23:23:40 - cmdstanpy - INFO - Chain [1] done processing\n",
      "C:\\Users\\baker\\Anaconda3\\envs\\realty-env\\lib\\site-packages\\prophet\\forecaster.py:1854: FutureWarning: 'M' is deprecated and will be removed in a future version, please use 'ME' instead.\n",
      "  dates = pd.date_range(\n",
      "23:23:40 - cmdstanpy - INFO - Chain [1] start processing\n",
      "23:23:40 - cmdstanpy - INFO - Chain [1] done processing\n"
     ]
    },
    {
     "name": "stdout",
     "output_type": "stream",
     "text": [
      "           ds  yhat  yhat_lower  yhat_upper\n",
      "12 2024-08-31  1.55    1.539737    1.561052\n",
      "13 2024-09-30  1.55    1.515121    1.585808\n",
      "14 2024-10-31  1.55    1.481486    1.627551\n",
      "15 2024-11-30  1.55    1.444966    1.672791\n",
      "16 2024-12-31  1.55    1.398296    1.724048\n"
     ]
    },
    {
     "name": "stderr",
     "output_type": "stream",
     "text": [
      "C:\\Users\\baker\\Anaconda3\\envs\\realty-env\\lib\\site-packages\\prophet\\forecaster.py:1854: FutureWarning: 'M' is deprecated and will be removed in a future version, please use 'ME' instead.\n",
      "  dates = pd.date_range(\n",
      "23:23:40 - cmdstanpy - INFO - Chain [1] start processing\n",
      "23:23:40 - cmdstanpy - INFO - Chain [1] done processing\n"
     ]
    },
    {
     "name": "stdout",
     "output_type": "stream",
     "text": [
      "           ds         m      yhat  yhat_lower  yhat_upper\n",
      "12 2024-08-31 -0.003194  1.515298    1.512281    1.518283\n",
      "13 2024-09-30 -0.003194  1.518378    1.511242    1.525116\n",
      "14 2024-10-31 -0.003194  1.521560    1.508514    1.533821\n",
      "15 2024-11-30 -0.003194  1.524639    1.503917    1.544261\n",
      "16 2024-12-31 -0.003194  1.527822    1.499015    1.555702\n",
      "South_Fort_Worth\n",
      "           ds      yhat  yhat_lower  yhat_upper\n",
      "12 2024-08-31  1.644202    1.634358    1.653271\n",
      "13 2024-09-30  1.640874    1.612568    1.670905\n",
      "14 2024-10-31  1.637435    1.581330    1.695905\n",
      "15 2024-11-30  1.634107    1.547648    1.729956\n",
      "16 2024-12-31  1.630668    1.504194    1.759297\n"
     ]
    },
    {
     "name": "stderr",
     "output_type": "stream",
     "text": [
      "C:\\Users\\baker\\Anaconda3\\envs\\realty-env\\lib\\site-packages\\prophet\\forecaster.py:1854: FutureWarning: 'M' is deprecated and will be removed in a future version, please use 'ME' instead.\n",
      "  dates = pd.date_range(\n",
      "23:23:40 - cmdstanpy - INFO - Chain [1] start processing\n",
      "23:23:40 - cmdstanpy - INFO - Chain [1] done processing\n",
      "C:\\Users\\baker\\Anaconda3\\envs\\realty-env\\lib\\site-packages\\prophet\\forecaster.py:1854: FutureWarning: 'M' is deprecated and will be removed in a future version, please use 'ME' instead.\n",
      "  dates = pd.date_range(\n"
     ]
    },
    {
     "name": "stdout",
     "output_type": "stream",
     "text": [
      "           ds         m      yhat  yhat_lower  yhat_upper\n",
      "12 2024-08-31 -0.007114  1.604593    1.600670    1.607842\n",
      "13 2024-09-30 -0.008790  1.598541    1.588152    1.608047\n",
      "14 2024-10-31 -0.010521  1.592287    1.570755    1.610284\n",
      "15 2024-11-30 -0.012197  1.586236    1.550861    1.615102\n",
      "16 2024-12-31 -0.013928  1.579982    1.531181    1.621434\n",
      "Richardson_Maham_Road\n"
     ]
    }
   ],
   "source": [
    "\n",
    "\n",
    "for i in list_markets:\n",
    "    market = i\n",
    "    df_filtered = df[df['MSA/Submarket'].str.contains(market)].drop('Unnamed: 0',axis=1)\n",
    "    df_filtered.index = df_filtered['MSA/Submarket']\n",
    "    transposed_df = df_filtered.T\n",
    "    transposed_df.drop('MSA/Submarket',axis=0,inplace=True)\n",
    "    transposed_df.columns = ['y','m']\n",
    "    transposed_df['ds'] = transposed_df.index\n",
    "    m1 = Prophet()\n",
    "    m1.fit(transposed_df)\n",
    "    future = m1.make_future_dataframe(periods=5,freq='M')\n",
    "    forecast_df = m1.predict(future)\n",
    "    print(forecast_df[['ds','yhat', 'yhat_lower', 'yhat_upper']].tail())\n",
    "    transposed_df.columns = ['m','y','ds']\n",
    "    m2 = Prophet()\n",
    "    m2.add_regressor('m')\n",
    "    m2.fit(transposed_df)\n",
    "    future = m2.make_future_dataframe(periods=5,freq='M')\n",
    "    future['m'] = forecast_df['yhat']\n",
    "    future_preds = m2.predict(future)\n",
    "    print(future_preds[['ds','m','yhat', 'yhat_lower', 'yhat_upper']].tail())\n",
    "    market_name_1 = market.replace('/','_')\n",
    "    market_name_2 = market_name_1.replace(' ','_')\n",
    "    print(market_name_2)\n",
    "    future_preds.to_csv(f'models/preds_{market_name_2}.csv')"
   ]
  },
  {
   "cell_type": "code",
   "execution_count": null,
   "id": "24fc3c54-c89b-4a93-8b07-794e3d49091b",
   "metadata": {},
   "outputs": [],
   "source": []
  }
 ],
 "metadata": {
  "kernelspec": {
   "display_name": "Python 3 (ipykernel)",
   "language": "python",
   "name": "python3"
  },
  "language_info": {
   "codemirror_mode": {
    "name": "ipython",
    "version": 3
   },
   "file_extension": ".py",
   "mimetype": "text/x-python",
   "name": "python",
   "nbconvert_exporter": "python",
   "pygments_lexer": "ipython3",
   "version": "3.9.19"
  }
 },
 "nbformat": 4,
 "nbformat_minor": 5
}
